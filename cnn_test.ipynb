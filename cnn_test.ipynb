{
 "cells": [
  {
   "cell_type": "code",
   "execution_count": 2,
   "id": "90f49bb7",
   "metadata": {},
   "outputs": [],
   "source": [
    "import tensorflow as tf\n",
    "\n",
    "from tensorflow.keras import datasets, layers, models\n",
    "#import matplotlib.pyplot as plt"
   ]
  },
  {
   "cell_type": "code",
   "execution_count": 3,
   "id": "cf810668",
   "metadata": {},
   "outputs": [],
   "source": [
    "(train_images, train_labels), (test_images, test_labels) = datasets.cifar10.load_data()\n",
    "\n",
    "# Normalize pixel values to be between 0 and 1\n",
    "train_images, test_images = train_images / 255.0, test_images / 255.0"
   ]
  },
  {
   "cell_type": "code",
   "execution_count": 4,
   "id": "f20a75d0",
   "metadata": {},
   "outputs": [
    {
     "data": {
      "text/plain": [
       "((50000, 32, 32, 3), (10000, 32, 32, 3))"
      ]
     },
     "execution_count": 4,
     "metadata": {},
     "output_type": "execute_result"
    }
   ],
   "source": [
    "train_images.shape, test_images.shape"
   ]
  },
  {
   "cell_type": "code",
   "execution_count": 5,
   "id": "4b9c5ca2",
   "metadata": {},
   "outputs": [
    {
     "data": {
      "text/plain": [
       "((32, 32, 3), (32, 32, 3))"
      ]
     },
     "execution_count": 5,
     "metadata": {},
     "output_type": "execute_result"
    }
   ],
   "source": [
    "train_images[0].shape, test_images[0].shape"
   ]
  },
  {
   "cell_type": "code",
   "execution_count": 6,
   "id": "16026343",
   "metadata": {
    "scrolled": true
   },
   "outputs": [
    {
     "data": {
      "text/plain": [
       "((50000, 1), (10000, 1))"
      ]
     },
     "execution_count": 6,
     "metadata": {},
     "output_type": "execute_result"
    }
   ],
   "source": [
    "train_labels.shape, test_labels.shape"
   ]
  },
  {
   "cell_type": "code",
   "execution_count": 7,
   "id": "3cfdb1c3",
   "metadata": {},
   "outputs": [
    {
     "data": {
      "text/plain": [
       "((1,), (1,))"
      ]
     },
     "execution_count": 7,
     "metadata": {},
     "output_type": "execute_result"
    }
   ],
   "source": [
    "train_labels[0].shape, test_labels[0].shape"
   ]
  },
  {
   "cell_type": "code",
   "execution_count": 8,
   "id": "6bbc38dd",
   "metadata": {},
   "outputs": [
    {
     "data": {
      "text/plain": [
       "(array([[6],\n",
       "        [9],\n",
       "        [9],\n",
       "        ...,\n",
       "        [9],\n",
       "        [1],\n",
       "        [1]], dtype=uint8),\n",
       " array([6], dtype=uint8))"
      ]
     },
     "execution_count": 8,
     "metadata": {},
     "output_type": "execute_result"
    }
   ],
   "source": [
    "train_labels, train_labels[0]"
   ]
  },
  {
   "cell_type": "code",
   "execution_count": null,
   "id": "a59cbb7b",
   "metadata": {},
   "outputs": [],
   "source": []
  },
  {
   "cell_type": "code",
   "execution_count": 9,
   "id": "c2173d31",
   "metadata": {},
   "outputs": [],
   "source": [
    "train_images = tf.constant(train_images)\n",
    "train_labels = tf.constant(train_labels)"
   ]
  },
  {
   "cell_type": "code",
   "execution_count": null,
   "id": "a4589d30",
   "metadata": {},
   "outputs": [],
   "source": []
  },
  {
   "cell_type": "code",
   "execution_count": null,
   "id": "a4c70241",
   "metadata": {},
   "outputs": [],
   "source": []
  },
  {
   "cell_type": "code",
   "execution_count": 10,
   "id": "6750a0c0",
   "metadata": {},
   "outputs": [],
   "source": [
    "model = models.Sequential()\n",
    "model.add(layers.Conv2D(32, (3, 3), activation='relu', input_shape=(32, 32, 3)))\n",
    "model.add(layers.MaxPooling2D((2, 2)))\n",
    "model.add(layers.Conv2D(64, (3, 3), activation='relu'))\n",
    "model.add(layers.MaxPooling2D((2, 2)))\n",
    "model.add(layers.Conv2D(64, (3, 3), activation='relu'))"
   ]
  },
  {
   "cell_type": "code",
   "execution_count": 11,
   "id": "13c5ce7e",
   "metadata": {},
   "outputs": [
    {
     "name": "stdout",
     "output_type": "stream",
     "text": [
      "Model: \"sequential\"\n",
      "_________________________________________________________________\n",
      "Layer (type)                 Output Shape              Param #   \n",
      "=================================================================\n",
      "conv2d (Conv2D)              (None, 30, 30, 32)        896       \n",
      "_________________________________________________________________\n",
      "max_pooling2d (MaxPooling2D) (None, 15, 15, 32)        0         \n",
      "_________________________________________________________________\n",
      "conv2d_1 (Conv2D)            (None, 13, 13, 64)        18496     \n",
      "_________________________________________________________________\n",
      "max_pooling2d_1 (MaxPooling2 (None, 6, 6, 64)          0         \n",
      "_________________________________________________________________\n",
      "conv2d_2 (Conv2D)            (None, 4, 4, 64)          36928     \n",
      "=================================================================\n",
      "Total params: 56,320\n",
      "Trainable params: 56,320\n",
      "Non-trainable params: 0\n",
      "_________________________________________________________________\n"
     ]
    }
   ],
   "source": [
    "model.summary()\n"
   ]
  },
  {
   "cell_type": "code",
   "execution_count": 12,
   "id": "148875bd",
   "metadata": {},
   "outputs": [],
   "source": [
    "model.add(layers.Flatten())\n",
    "model.add(layers.Dense(64, activation='relu'))\n",
    "model.add(layers.Dense(10))"
   ]
  },
  {
   "cell_type": "code",
   "execution_count": 13,
   "id": "e7c754ff",
   "metadata": {},
   "outputs": [
    {
     "name": "stdout",
     "output_type": "stream",
     "text": [
      "Epoch 1/100\n",
      "1563/1563 [==============================] - 7s 3ms/step - loss: 1.5394 - accuracy: 0.4397 - val_loss: 1.2333 - val_accuracy: 0.5589\n",
      "Epoch 2/100\n",
      "1563/1563 [==============================] - 5s 3ms/step - loss: 1.1516 - accuracy: 0.5921 - val_loss: 1.1189 - val_accuracy: 0.6057\n",
      "Epoch 3/100\n",
      "1563/1563 [==============================] - 5s 3ms/step - loss: 0.9996 - accuracy: 0.6476 - val_loss: 1.0104 - val_accuracy: 0.6450\n",
      "Epoch 4/100\n",
      "1563/1563 [==============================] - 5s 3ms/step - loss: 0.9041 - accuracy: 0.6840 - val_loss: 0.9717 - val_accuracy: 0.6544\n",
      "Epoch 5/100\n",
      "1563/1563 [==============================] - 5s 3ms/step - loss: 0.8330 - accuracy: 0.7101 - val_loss: 0.8706 - val_accuracy: 0.7021\n",
      "Epoch 6/100\n",
      "1563/1563 [==============================] - 5s 3ms/step - loss: 0.7722 - accuracy: 0.7304 - val_loss: 0.8731 - val_accuracy: 0.6953\n",
      "Epoch 7/100\n",
      "1563/1563 [==============================] - 5s 3ms/step - loss: 0.7199 - accuracy: 0.7469 - val_loss: 0.9154 - val_accuracy: 0.6920\n",
      "Epoch 8/100\n",
      "1563/1563 [==============================] - 5s 3ms/step - loss: 0.6790 - accuracy: 0.7608 - val_loss: 0.8875 - val_accuracy: 0.6943\n",
      "Epoch 9/100\n",
      "1563/1563 [==============================] - 5s 3ms/step - loss: 0.6426 - accuracy: 0.7745 - val_loss: 0.8660 - val_accuracy: 0.7064\n",
      "Epoch 10/100\n",
      "1563/1563 [==============================] - 5s 3ms/step - loss: 0.6063 - accuracy: 0.7860 - val_loss: 0.8667 - val_accuracy: 0.7117\n",
      "Epoch 11/100\n",
      "1563/1563 [==============================] - 5s 3ms/step - loss: 0.5700 - accuracy: 0.7996 - val_loss: 0.8629 - val_accuracy: 0.7132\n",
      "Epoch 12/100\n",
      "1563/1563 [==============================] - 5s 3ms/step - loss: 0.5370 - accuracy: 0.8108 - val_loss: 0.9002 - val_accuracy: 0.7118\n",
      "Epoch 13/100\n",
      "1563/1563 [==============================] - 5s 3ms/step - loss: 0.5069 - accuracy: 0.8201 - val_loss: 0.9386 - val_accuracy: 0.7048\n",
      "Epoch 14/100\n",
      "1563/1563 [==============================] - 5s 3ms/step - loss: 0.4798 - accuracy: 0.8292 - val_loss: 0.9614 - val_accuracy: 0.7087\n",
      "Epoch 15/100\n",
      "1563/1563 [==============================] - 5s 3ms/step - loss: 0.4545 - accuracy: 0.8386 - val_loss: 1.0215 - val_accuracy: 0.6954\n",
      "Epoch 16/100\n",
      "1563/1563 [==============================] - 5s 3ms/step - loss: 0.4269 - accuracy: 0.8489 - val_loss: 0.9869 - val_accuracy: 0.7089\n",
      "Epoch 17/100\n",
      "1563/1563 [==============================] - 5s 3ms/step - loss: 0.4015 - accuracy: 0.8567 - val_loss: 1.0382 - val_accuracy: 0.7163\n",
      "Epoch 18/100\n",
      "1563/1563 [==============================] - 5s 3ms/step - loss: 0.3776 - accuracy: 0.8637 - val_loss: 1.1151 - val_accuracy: 0.7025\n",
      "Epoch 19/100\n",
      "1563/1563 [==============================] - 5s 3ms/step - loss: 0.3511 - accuracy: 0.8745 - val_loss: 1.1032 - val_accuracy: 0.7070\n",
      "Epoch 20/100\n",
      "1563/1563 [==============================] - 5s 3ms/step - loss: 0.3397 - accuracy: 0.8779 - val_loss: 1.1314 - val_accuracy: 0.7016\n",
      "Epoch 21/100\n",
      "1563/1563 [==============================] - 5s 3ms/step - loss: 0.3143 - accuracy: 0.8875 - val_loss: 1.1870 - val_accuracy: 0.7039\n",
      "Epoch 22/100\n",
      "1563/1563 [==============================] - 5s 3ms/step - loss: 0.2958 - accuracy: 0.8942 - val_loss: 1.2172 - val_accuracy: 0.6940\n",
      "Epoch 23/100\n",
      "1563/1563 [==============================] - 5s 3ms/step - loss: 0.2859 - accuracy: 0.8977 - val_loss: 1.2823 - val_accuracy: 0.6981\n",
      "Epoch 24/100\n",
      "1563/1563 [==============================] - 5s 3ms/step - loss: 0.2704 - accuracy: 0.9030 - val_loss: 1.3240 - val_accuracy: 0.6926\n",
      "Epoch 25/100\n",
      "1563/1563 [==============================] - 5s 3ms/step - loss: 0.2478 - accuracy: 0.9097 - val_loss: 1.4289 - val_accuracy: 0.6968\n",
      "Epoch 26/100\n",
      "1563/1563 [==============================] - 5s 3ms/step - loss: 0.2396 - accuracy: 0.9136 - val_loss: 1.4092 - val_accuracy: 0.6977\n",
      "Epoch 27/100\n",
      "1563/1563 [==============================] - 5s 3ms/step - loss: 0.2310 - accuracy: 0.9163 - val_loss: 1.5238 - val_accuracy: 0.6927\n",
      "Epoch 28/100\n",
      "1563/1563 [==============================] - 5s 3ms/step - loss: 0.2187 - accuracy: 0.9196 - val_loss: 1.5357 - val_accuracy: 0.6922\n",
      "Epoch 29/100\n",
      "1563/1563 [==============================] - 5s 3ms/step - loss: 0.2088 - accuracy: 0.9239 - val_loss: 1.6071 - val_accuracy: 0.6938\n",
      "Epoch 30/100\n",
      "1563/1563 [==============================] - 5s 3ms/step - loss: 0.1973 - accuracy: 0.9291 - val_loss: 1.7272 - val_accuracy: 0.6918\n",
      "Epoch 31/100\n",
      "1563/1563 [==============================] - 5s 3ms/step - loss: 0.1944 - accuracy: 0.9310 - val_loss: 1.7210 - val_accuracy: 0.6917\n",
      "Epoch 32/100\n",
      "1563/1563 [==============================] - 5s 3ms/step - loss: 0.1841 - accuracy: 0.9328 - val_loss: 1.8398 - val_accuracy: 0.6879\n",
      "Epoch 33/100\n",
      "1563/1563 [==============================] - 5s 3ms/step - loss: 0.1736 - accuracy: 0.9383 - val_loss: 1.8447 - val_accuracy: 0.6867\n",
      "Epoch 34/100\n",
      "1563/1563 [==============================] - 5s 3ms/step - loss: 0.1724 - accuracy: 0.9381 - val_loss: 1.8416 - val_accuracy: 0.6847\n",
      "Epoch 35/100\n",
      "1563/1563 [==============================] - 5s 3ms/step - loss: 0.1651 - accuracy: 0.9407 - val_loss: 1.9947 - val_accuracy: 0.6844\n",
      "Epoch 36/100\n",
      "1563/1563 [==============================] - 5s 3ms/step - loss: 0.1638 - accuracy: 0.9400 - val_loss: 1.9778 - val_accuracy: 0.6859\n",
      "Epoch 37/100\n",
      "1563/1563 [==============================] - 5s 3ms/step - loss: 0.1606 - accuracy: 0.9427 - val_loss: 2.0661 - val_accuracy: 0.6894\n",
      "Epoch 38/100\n",
      "1563/1563 [==============================] - 5s 3ms/step - loss: 0.1512 - accuracy: 0.9454 - val_loss: 2.0852 - val_accuracy: 0.6810\n",
      "Epoch 39/100\n",
      "1563/1563 [==============================] - 5s 3ms/step - loss: 0.1442 - accuracy: 0.9481 - val_loss: 2.1636 - val_accuracy: 0.6820\n",
      "Epoch 40/100\n",
      "1563/1563 [==============================] - 5s 3ms/step - loss: 0.1510 - accuracy: 0.9478 - val_loss: 2.0739 - val_accuracy: 0.6956\n",
      "Epoch 41/100\n",
      "1563/1563 [==============================] - 5s 3ms/step - loss: 0.1429 - accuracy: 0.9494 - val_loss: 2.2298 - val_accuracy: 0.6871\n",
      "Epoch 42/100\n",
      "1563/1563 [==============================] - 5s 3ms/step - loss: 0.1383 - accuracy: 0.9514 - val_loss: 2.2028 - val_accuracy: 0.6864\n",
      "Epoch 43/100\n",
      "1563/1563 [==============================] - 5s 3ms/step - loss: 0.1275 - accuracy: 0.9546 - val_loss: 2.3215 - val_accuracy: 0.6916\n",
      "Epoch 44/100\n",
      "1563/1563 [==============================] - 5s 3ms/step - loss: 0.1376 - accuracy: 0.9513 - val_loss: 2.3164 - val_accuracy: 0.6835\n",
      "Epoch 45/100\n",
      "1563/1563 [==============================] - 5s 3ms/step - loss: 0.1326 - accuracy: 0.9532 - val_loss: 2.3660 - val_accuracy: 0.6914\n",
      "Epoch 46/100\n",
      "1563/1563 [==============================] - 5s 3ms/step - loss: 0.1319 - accuracy: 0.9527 - val_loss: 2.4028 - val_accuracy: 0.6846\n",
      "Epoch 47/100\n",
      "1563/1563 [==============================] - 5s 3ms/step - loss: 0.1275 - accuracy: 0.9564 - val_loss: 2.4656 - val_accuracy: 0.6785\n",
      "Epoch 48/100\n",
      "1563/1563 [==============================] - 5s 3ms/step - loss: 0.1291 - accuracy: 0.9551 - val_loss: 2.3663 - val_accuracy: 0.6879\n",
      "Epoch 49/100\n",
      "1563/1563 [==============================] - 5s 3ms/step - loss: 0.1303 - accuracy: 0.9550 - val_loss: 2.4554 - val_accuracy: 0.6797\n",
      "Epoch 50/100\n",
      "1563/1563 [==============================] - 5s 3ms/step - loss: 0.1210 - accuracy: 0.9586 - val_loss: 2.5755 - val_accuracy: 0.6746\n",
      "Epoch 51/100\n",
      "1563/1563 [==============================] - 5s 3ms/step - loss: 0.1161 - accuracy: 0.9606 - val_loss: 2.6093 - val_accuracy: 0.6839\n",
      "Epoch 52/100\n",
      "1563/1563 [==============================] - 5s 3ms/step - loss: 0.1256 - accuracy: 0.9568 - val_loss: 2.5503 - val_accuracy: 0.6879\n",
      "Epoch 53/100\n",
      "1563/1563 [==============================] - 5s 3ms/step - loss: 0.1081 - accuracy: 0.9631 - val_loss: 2.5687 - val_accuracy: 0.6898\n",
      "Epoch 54/100\n",
      "1563/1563 [==============================] - 5s 3ms/step - loss: 0.1193 - accuracy: 0.9589 - val_loss: 2.6893 - val_accuracy: 0.6763\n",
      "Epoch 55/100\n",
      "1563/1563 [==============================] - 5s 3ms/step - loss: 0.1149 - accuracy: 0.9594 - val_loss: 2.6232 - val_accuracy: 0.6758\n",
      "Epoch 56/100\n",
      "1563/1563 [==============================] - 5s 3ms/step - loss: 0.1054 - accuracy: 0.9632 - val_loss: 2.5816 - val_accuracy: 0.6874\n",
      "Epoch 57/100\n"
     ]
    },
    {
     "name": "stdout",
     "output_type": "stream",
     "text": [
      "1563/1563 [==============================] - 5s 3ms/step - loss: 0.1139 - accuracy: 0.9606 - val_loss: 2.7513 - val_accuracy: 0.6838\n",
      "Epoch 58/100\n",
      "1563/1563 [==============================] - 5s 3ms/step - loss: 0.1015 - accuracy: 0.9650 - val_loss: 2.9052 - val_accuracy: 0.6707\n",
      "Epoch 59/100\n",
      "1563/1563 [==============================] - 5s 3ms/step - loss: 0.1083 - accuracy: 0.9636 - val_loss: 2.7604 - val_accuracy: 0.6861\n",
      "Epoch 60/100\n",
      "1563/1563 [==============================] - 5s 3ms/step - loss: 0.1123 - accuracy: 0.9625 - val_loss: 2.7975 - val_accuracy: 0.6855\n",
      "Epoch 61/100\n",
      "1563/1563 [==============================] - 5s 3ms/step - loss: 0.1089 - accuracy: 0.9625 - val_loss: 2.7460 - val_accuracy: 0.6762\n",
      "Epoch 62/100\n",
      "1563/1563 [==============================] - 5s 3ms/step - loss: 0.1051 - accuracy: 0.9645 - val_loss: 2.9356 - val_accuracy: 0.6835\n",
      "Epoch 63/100\n",
      "1563/1563 [==============================] - 5s 3ms/step - loss: 0.1043 - accuracy: 0.9641 - val_loss: 2.9573 - val_accuracy: 0.6810\n",
      "Epoch 64/100\n",
      "1563/1563 [==============================] - 5s 3ms/step - loss: 0.1065 - accuracy: 0.9646 - val_loss: 2.9047 - val_accuracy: 0.6769\n",
      "Epoch 65/100\n",
      "1563/1563 [==============================] - 5s 3ms/step - loss: 0.1062 - accuracy: 0.9643 - val_loss: 2.9240 - val_accuracy: 0.6742\n",
      "Epoch 66/100\n",
      "1563/1563 [==============================] - 5s 3ms/step - loss: 0.0986 - accuracy: 0.9667 - val_loss: 3.0253 - val_accuracy: 0.6836\n",
      "Epoch 67/100\n",
      "1563/1563 [==============================] - 5s 3ms/step - loss: 0.1026 - accuracy: 0.9651 - val_loss: 3.0058 - val_accuracy: 0.6824\n",
      "Epoch 68/100\n",
      "1563/1563 [==============================] - 5s 3ms/step - loss: 0.0980 - accuracy: 0.9671 - val_loss: 3.1045 - val_accuracy: 0.6800\n",
      "Epoch 69/100\n",
      "1563/1563 [==============================] - 5s 3ms/step - loss: 0.0967 - accuracy: 0.9680 - val_loss: 2.9541 - val_accuracy: 0.6767\n",
      "Epoch 70/100\n",
      "1563/1563 [==============================] - 5s 3ms/step - loss: 0.0961 - accuracy: 0.9673 - val_loss: 2.9499 - val_accuracy: 0.6887\n",
      "Epoch 71/100\n",
      "1563/1563 [==============================] - 5s 3ms/step - loss: 0.0954 - accuracy: 0.9684 - val_loss: 3.1080 - val_accuracy: 0.6774\n",
      "Epoch 72/100\n",
      "1563/1563 [==============================] - 5s 3ms/step - loss: 0.0981 - accuracy: 0.9675 - val_loss: 3.0461 - val_accuracy: 0.6777\n",
      "Epoch 73/100\n",
      "1563/1563 [==============================] - 5s 3ms/step - loss: 0.0945 - accuracy: 0.9688 - val_loss: 3.0820 - val_accuracy: 0.6833\n",
      "Epoch 74/100\n",
      "1563/1563 [==============================] - 5s 3ms/step - loss: 0.0985 - accuracy: 0.9663 - val_loss: 3.0585 - val_accuracy: 0.6800\n",
      "Epoch 75/100\n",
      "1563/1563 [==============================] - 5s 3ms/step - loss: 0.0906 - accuracy: 0.9697 - val_loss: 3.2541 - val_accuracy: 0.6733\n",
      "Epoch 76/100\n",
      "1563/1563 [==============================] - 5s 3ms/step - loss: 0.0965 - accuracy: 0.9679 - val_loss: 3.2151 - val_accuracy: 0.6816\n",
      "Epoch 77/100\n",
      "1563/1563 [==============================] - 5s 3ms/step - loss: 0.0880 - accuracy: 0.9708 - val_loss: 3.1374 - val_accuracy: 0.6809\n",
      "Epoch 78/100\n",
      "1563/1563 [==============================] - 5s 3ms/step - loss: 0.0905 - accuracy: 0.9708 - val_loss: 3.2555 - val_accuracy: 0.6767\n",
      "Epoch 79/100\n",
      "1563/1563 [==============================] - 5s 3ms/step - loss: 0.0939 - accuracy: 0.9692 - val_loss: 3.1362 - val_accuracy: 0.6734\n",
      "Epoch 80/100\n",
      "1563/1563 [==============================] - 5s 3ms/step - loss: 0.0938 - accuracy: 0.9701 - val_loss: 3.2388 - val_accuracy: 0.6820\n",
      "Epoch 81/100\n",
      "1563/1563 [==============================] - 5s 3ms/step - loss: 0.0826 - accuracy: 0.9721 - val_loss: 3.2667 - val_accuracy: 0.6726\n",
      "Epoch 82/100\n",
      "1563/1563 [==============================] - 5s 3ms/step - loss: 0.0981 - accuracy: 0.9673 - val_loss: 3.2279 - val_accuracy: 0.6850\n",
      "Epoch 83/100\n",
      "1563/1563 [==============================] - 5s 3ms/step - loss: 0.0897 - accuracy: 0.9713 - val_loss: 3.1911 - val_accuracy: 0.6815\n",
      "Epoch 84/100\n",
      "1563/1563 [==============================] - 5s 3ms/step - loss: 0.0893 - accuracy: 0.9704 - val_loss: 3.3707 - val_accuracy: 0.6844\n",
      "Epoch 85/100\n",
      "1563/1563 [==============================] - 5s 3ms/step - loss: 0.0864 - accuracy: 0.9721 - val_loss: 3.3615 - val_accuracy: 0.6701\n",
      "Epoch 86/100\n",
      "1563/1563 [==============================] - 5s 3ms/step - loss: 0.0904 - accuracy: 0.9706 - val_loss: 3.3369 - val_accuracy: 0.6788\n",
      "Epoch 87/100\n",
      "1563/1563 [==============================] - 5s 3ms/step - loss: 0.0874 - accuracy: 0.9714 - val_loss: 3.3742 - val_accuracy: 0.6750\n",
      "Epoch 88/100\n",
      "1563/1563 [==============================] - 5s 3ms/step - loss: 0.0842 - accuracy: 0.9727 - val_loss: 3.4144 - val_accuracy: 0.6813\n",
      "Epoch 89/100\n",
      "1563/1563 [==============================] - 5s 3ms/step - loss: 0.0904 - accuracy: 0.9710 - val_loss: 3.4188 - val_accuracy: 0.6752\n",
      "Epoch 90/100\n",
      "1563/1563 [==============================] - 5s 3ms/step - loss: 0.0866 - accuracy: 0.9729 - val_loss: 3.4752 - val_accuracy: 0.6778\n",
      "Epoch 91/100\n",
      "1563/1563 [==============================] - 5s 3ms/step - loss: 0.0876 - accuracy: 0.9719 - val_loss: 3.5463 - val_accuracy: 0.6817\n",
      "Epoch 92/100\n",
      "1563/1563 [==============================] - 5s 3ms/step - loss: 0.0925 - accuracy: 0.9704 - val_loss: 3.3905 - val_accuracy: 0.6781\n",
      "Epoch 93/100\n",
      "1563/1563 [==============================] - 5s 3ms/step - loss: 0.0773 - accuracy: 0.9749 - val_loss: 3.5044 - val_accuracy: 0.6748\n",
      "Epoch 94/100\n",
      "1563/1563 [==============================] - 5s 3ms/step - loss: 0.0825 - accuracy: 0.9737 - val_loss: 3.4845 - val_accuracy: 0.6797\n",
      "Epoch 95/100\n",
      "1563/1563 [==============================] - 5s 3ms/step - loss: 0.0947 - accuracy: 0.9705 - val_loss: 3.5385 - val_accuracy: 0.6785\n",
      "Epoch 96/100\n",
      "1563/1563 [==============================] - 5s 3ms/step - loss: 0.0789 - accuracy: 0.9748 - val_loss: 3.5052 - val_accuracy: 0.6810\n",
      "Epoch 97/100\n",
      "1563/1563 [==============================] - 5s 3ms/step - loss: 0.0844 - accuracy: 0.9734 - val_loss: 3.4461 - val_accuracy: 0.6823\n",
      "Epoch 98/100\n",
      "1563/1563 [==============================] - 5s 3ms/step - loss: 0.0784 - accuracy: 0.9742 - val_loss: 3.5745 - val_accuracy: 0.6796\n",
      "Epoch 99/100\n",
      "1563/1563 [==============================] - 5s 3ms/step - loss: 0.0789 - accuracy: 0.9743 - val_loss: 3.6103 - val_accuracy: 0.6844\n",
      "Epoch 100/100\n",
      "1563/1563 [==============================] - 5s 3ms/step - loss: 0.0884 - accuracy: 0.9726 - val_loss: 3.6239 - val_accuracy: 0.6731\n"
     ]
    }
   ],
   "source": [
    "model.compile(optimizer='adam',\n",
    "              loss=tf.keras.losses.SparseCategoricalCrossentropy(from_logits=True),\n",
    "              metrics=['accuracy'])\n",
    "\n",
    "history = model.fit(train_images, train_labels, epochs=100, \n",
    "                    validation_data=(test_images, test_labels))"
   ]
  },
  {
   "cell_type": "code",
   "execution_count": 31,
   "id": "31570edf",
   "metadata": {},
   "outputs": [
    {
     "data": {
      "text/plain": [
       "(10000, 10)"
      ]
     },
     "execution_count": 31,
     "metadata": {},
     "output_type": "execute_result"
    }
   ],
   "source": [
    "y_pred = model.predict(test_images)\n",
    "y_pred.shape"
   ]
  },
  {
   "cell_type": "code",
   "execution_count": 32,
   "id": "25d6c3ff",
   "metadata": {},
   "outputs": [
    {
     "data": {
      "text/plain": [
       "array([[3],\n",
       "       [8],\n",
       "       [8],\n",
       "       ...,\n",
       "       [5],\n",
       "       [1],\n",
       "       [7]], dtype=uint8)"
      ]
     },
     "execution_count": 32,
     "metadata": {},
     "output_type": "execute_result"
    }
   ],
   "source": [
    "test_labels"
   ]
  },
  {
   "cell_type": "code",
   "execution_count": 19,
   "id": "cb3df6ea",
   "metadata": {},
   "outputs": [
    {
     "data": {
      "text/plain": [
       "array([ 3.7401547,  3.0914576, -4.5112987, -4.901181 , -4.083057 ,\n",
       "       -9.621651 , -7.659369 , -6.2044415,  7.4889765,  2.9381797],\n",
       "      dtype=float32)"
      ]
     },
     "execution_count": 19,
     "metadata": {},
     "output_type": "execute_result"
    }
   ],
   "source": [
    "y_pred[1]"
   ]
  },
  {
   "cell_type": "code",
   "execution_count": null,
   "id": "152205b6",
   "metadata": {},
   "outputs": [],
   "source": []
  }
 ],
 "metadata": {
  "kernelspec": {
   "display_name": "Python 3 (ipykernel)",
   "language": "python",
   "name": "python3"
  },
  "language_info": {
   "codemirror_mode": {
    "name": "ipython",
    "version": 3
   },
   "file_extension": ".py",
   "mimetype": "text/x-python",
   "name": "python",
   "nbconvert_exporter": "python",
   "pygments_lexer": "ipython3",
   "version": "3.9.7"
  }
 },
 "nbformat": 4,
 "nbformat_minor": 5
}
