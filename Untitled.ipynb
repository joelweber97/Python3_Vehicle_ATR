{
 "cells": [
  {
   "cell_type": "code",
   "execution_count": 13,
   "id": "86d09a20",
   "metadata": {},
   "outputs": [],
   "source": [
    "import cv2\n",
    "from PIL import Image\n",
    "import numpy as np\n",
    "import glob"
   ]
  },
  {
   "cell_type": "code",
   "execution_count": 17,
   "id": "0ac9d319",
   "metadata": {},
   "outputs": [],
   "source": [
    "im = cv2.imread('./image_chips2/clipped_image_254.png', 0)\n",
    "#im2 = Image.open('./image_chips/clipped_image_1.tif.png')"
   ]
  },
  {
   "cell_type": "code",
   "execution_count": 18,
   "id": "6d9dd039",
   "metadata": {},
   "outputs": [
    {
     "data": {
      "text/plain": [
       "(24, 24)"
      ]
     },
     "execution_count": 18,
     "metadata": {},
     "output_type": "execute_result"
    }
   ],
   "source": [
    "im.shape"
   ]
  },
  {
   "cell_type": "code",
   "execution_count": null,
   "id": "63e9b1a8",
   "metadata": {},
   "outputs": [],
   "source": []
  },
  {
   "cell_type": "code",
   "execution_count": 19,
   "id": "fe351a2f",
   "metadata": {},
   "outputs": [],
   "source": [
    "cv2.imshow('image', im)\n",
    "cv2.waitKey(0)\n",
    "cv2.destroyAllWindows()"
   ]
  },
  {
   "cell_type": "code",
   "execution_count": 12,
   "id": "e04cc848",
   "metadata": {},
   "outputs": [
    {
     "name": "stdout",
     "output_type": "stream",
     "text": [
      "['./image_chips2\\\\clipped_image_0.tif.png', './image_chips2\\\\clipped_image_1.tif.png', './image_chips2\\\\clipped_image_10.tif.png', './image_chips2\\\\clipped_image_100.tif.png', './image_chips2\\\\clipped_image_101.tif.png', './image_chips2\\\\clipped_image_102.tif.png', './image_chips2\\\\clipped_image_103.tif.png', './image_chips2\\\\clipped_image_104.tif.png', './image_chips2\\\\clipped_image_105.tif.png', './image_chips2\\\\clipped_image_106.tif.png', './image_chips2\\\\clipped_image_107.tif.png', './image_chips2\\\\clipped_image_108.tif.png', './image_chips2\\\\clipped_image_109.tif.png', './image_chips2\\\\clipped_image_11.tif.png', './image_chips2\\\\clipped_image_110.tif.png', './image_chips2\\\\clipped_image_111.tif.png', './image_chips2\\\\clipped_image_112.tif.png', './image_chips2\\\\clipped_image_113.tif.png', './image_chips2\\\\clipped_image_114.tif.png', './image_chips2\\\\clipped_image_115.tif.png', './image_chips2\\\\clipped_image_116.tif.png', './image_chips2\\\\clipped_image_117.tif.png', './image_chips2\\\\clipped_image_118.tif.png', './image_chips2\\\\clipped_image_119.tif.png', './image_chips2\\\\clipped_image_12.tif.png', './image_chips2\\\\clipped_image_120.tif.png', './image_chips2\\\\clipped_image_121.tif.png', './image_chips2\\\\clipped_image_122.tif.png', './image_chips2\\\\clipped_image_123.tif.png', './image_chips2\\\\clipped_image_124.tif.png', './image_chips2\\\\clipped_image_125.tif.png', './image_chips2\\\\clipped_image_126.tif.png', './image_chips2\\\\clipped_image_127.tif.png', './image_chips2\\\\clipped_image_128.tif.png', './image_chips2\\\\clipped_image_129.tif.png', './image_chips2\\\\clipped_image_13.tif.png', './image_chips2\\\\clipped_image_130.tif.png', './image_chips2\\\\clipped_image_131.tif.png', './image_chips2\\\\clipped_image_132.tif.png', './image_chips2\\\\clipped_image_133.tif.png', './image_chips2\\\\clipped_image_134.tif.png', './image_chips2\\\\clipped_image_135.tif.png', './image_chips2\\\\clipped_image_136.tif.png', './image_chips2\\\\clipped_image_137.tif.png', './image_chips2\\\\clipped_image_138.tif.png', './image_chips2\\\\clipped_image_139.tif.png', './image_chips2\\\\clipped_image_14.tif.png', './image_chips2\\\\clipped_image_140.tif.png', './image_chips2\\\\clipped_image_141.tif.png', './image_chips2\\\\clipped_image_142.tif.png', './image_chips2\\\\clipped_image_143.tif.png', './image_chips2\\\\clipped_image_144.tif.png', './image_chips2\\\\clipped_image_145.tif.png', './image_chips2\\\\clipped_image_146.tif.png', './image_chips2\\\\clipped_image_147.tif.png', './image_chips2\\\\clipped_image_148.tif.png', './image_chips2\\\\clipped_image_149.tif.png', './image_chips2\\\\clipped_image_15.tif.png', './image_chips2\\\\clipped_image_150.tif.png', './image_chips2\\\\clipped_image_151.tif.png', './image_chips2\\\\clipped_image_152.tif.png', './image_chips2\\\\clipped_image_153.tif.png', './image_chips2\\\\clipped_image_154.tif.png', './image_chips2\\\\clipped_image_155.tif.png', './image_chips2\\\\clipped_image_156.tif.png', './image_chips2\\\\clipped_image_157.tif.png', './image_chips2\\\\clipped_image_158.tif.png', './image_chips2\\\\clipped_image_159.tif.png', './image_chips2\\\\clipped_image_16.tif.png', './image_chips2\\\\clipped_image_160.tif.png', './image_chips2\\\\clipped_image_161.tif.png', './image_chips2\\\\clipped_image_162.tif.png', './image_chips2\\\\clipped_image_163.tif.png', './image_chips2\\\\clipped_image_164.tif.png', './image_chips2\\\\clipped_image_165.tif.png', './image_chips2\\\\clipped_image_166.tif.png', './image_chips2\\\\clipped_image_167.tif.png', './image_chips2\\\\clipped_image_168.tif.png', './image_chips2\\\\clipped_image_169.tif.png', './image_chips2\\\\clipped_image_17.tif.png', './image_chips2\\\\clipped_image_170.tif.png', './image_chips2\\\\clipped_image_171.tif.png', './image_chips2\\\\clipped_image_172.tif.png', './image_chips2\\\\clipped_image_173.tif.png', './image_chips2\\\\clipped_image_174.tif.png', './image_chips2\\\\clipped_image_175.tif.png', './image_chips2\\\\clipped_image_176.tif.png', './image_chips2\\\\clipped_image_177.tif.png', './image_chips2\\\\clipped_image_178.tif.png', './image_chips2\\\\clipped_image_179.tif.png', './image_chips2\\\\clipped_image_18.tif.png', './image_chips2\\\\clipped_image_180.tif.png', './image_chips2\\\\clipped_image_181.tif.png', './image_chips2\\\\clipped_image_182.tif.png', './image_chips2\\\\clipped_image_183.tif.png', './image_chips2\\\\clipped_image_184.tif.png', './image_chips2\\\\clipped_image_185.tif.png', './image_chips2\\\\clipped_image_186.tif.png', './image_chips2\\\\clipped_image_187.tif.png', './image_chips2\\\\clipped_image_188.tif.png', './image_chips2\\\\clipped_image_189.tif.png', './image_chips2\\\\clipped_image_19.tif.png', './image_chips2\\\\clipped_image_190.tif.png', './image_chips2\\\\clipped_image_191.tif.png', './image_chips2\\\\clipped_image_192.tif.png', './image_chips2\\\\clipped_image_193.tif.png', './image_chips2\\\\clipped_image_194.tif.png', './image_chips2\\\\clipped_image_195.tif.png', './image_chips2\\\\clipped_image_196.tif.png', './image_chips2\\\\clipped_image_197.tif.png', './image_chips2\\\\clipped_image_198.tif.png', './image_chips2\\\\clipped_image_199.tif.png', './image_chips2\\\\clipped_image_2.tif.png', './image_chips2\\\\clipped_image_20.tif.png', './image_chips2\\\\clipped_image_200.tif.png', './image_chips2\\\\clipped_image_201.tif.png', './image_chips2\\\\clipped_image_202.tif.png', './image_chips2\\\\clipped_image_203.tif.png', './image_chips2\\\\clipped_image_204.tif.png', './image_chips2\\\\clipped_image_205.tif.png', './image_chips2\\\\clipped_image_206.tif.png', './image_chips2\\\\clipped_image_207.tif.png', './image_chips2\\\\clipped_image_208.tif.png', './image_chips2\\\\clipped_image_209.tif.png', './image_chips2\\\\clipped_image_21.tif.png', './image_chips2\\\\clipped_image_210.tif.png', './image_chips2\\\\clipped_image_211.tif.png', './image_chips2\\\\clipped_image_212.tif.png', './image_chips2\\\\clipped_image_213.tif.png', './image_chips2\\\\clipped_image_214.tif.png', './image_chips2\\\\clipped_image_215.tif.png', './image_chips2\\\\clipped_image_216.tif.png', './image_chips2\\\\clipped_image_217.tif.png', './image_chips2\\\\clipped_image_218.tif.png', './image_chips2\\\\clipped_image_219.tif.png', './image_chips2\\\\clipped_image_22.tif.png', './image_chips2\\\\clipped_image_220.tif.png', './image_chips2\\\\clipped_image_221.tif.png', './image_chips2\\\\clipped_image_222.tif.png', './image_chips2\\\\clipped_image_223.tif.png', './image_chips2\\\\clipped_image_224.tif.png', './image_chips2\\\\clipped_image_225.tif.png', './image_chips2\\\\clipped_image_226.tif.png', './image_chips2\\\\clipped_image_227.tif.png', './image_chips2\\\\clipped_image_228.tif.png', './image_chips2\\\\clipped_image_229.tif.png', './image_chips2\\\\clipped_image_23.tif.png', './image_chips2\\\\clipped_image_230.tif.png', './image_chips2\\\\clipped_image_231.tif.png', './image_chips2\\\\clipped_image_232.tif.png', './image_chips2\\\\clipped_image_233.tif.png', './image_chips2\\\\clipped_image_234.tif.png', './image_chips2\\\\clipped_image_235.tif.png', './image_chips2\\\\clipped_image_236.tif.png', './image_chips2\\\\clipped_image_237.tif.png', './image_chips2\\\\clipped_image_238.tif.png', './image_chips2\\\\clipped_image_239.tif.png', './image_chips2\\\\clipped_image_24.tif.png', './image_chips2\\\\clipped_image_240.tif.png', './image_chips2\\\\clipped_image_241.tif.png', './image_chips2\\\\clipped_image_242.tif.png', './image_chips2\\\\clipped_image_243.tif.png', './image_chips2\\\\clipped_image_244.tif.png', './image_chips2\\\\clipped_image_245.tif.png', './image_chips2\\\\clipped_image_246.tif.png', './image_chips2\\\\clipped_image_247.tif.png', './image_chips2\\\\clipped_image_248.tif.png', './image_chips2\\\\clipped_image_249.tif.png', './image_chips2\\\\clipped_image_25.tif.png', './image_chips2\\\\clipped_image_250.tif.png', './image_chips2\\\\clipped_image_251.tif.png', './image_chips2\\\\clipped_image_252.tif.png', './image_chips2\\\\clipped_image_253.tif.png', './image_chips2\\\\clipped_image_254.tif.png', './image_chips2\\\\clipped_image_255.tif.png', './image_chips2\\\\clipped_image_256.tif.png', './image_chips2\\\\clipped_image_257.tif.png', './image_chips2\\\\clipped_image_258.tif.png', './image_chips2\\\\clipped_image_259.tif.png', './image_chips2\\\\clipped_image_26.tif.png', './image_chips2\\\\clipped_image_260.tif.png', './image_chips2\\\\clipped_image_261.tif.png', './image_chips2\\\\clipped_image_262.tif.png', './image_chips2\\\\clipped_image_263.tif.png', './image_chips2\\\\clipped_image_264.tif.png', './image_chips2\\\\clipped_image_265.tif.png', './image_chips2\\\\clipped_image_266.tif.png', './image_chips2\\\\clipped_image_267.tif.png', './image_chips2\\\\clipped_image_268.tif.png', './image_chips2\\\\clipped_image_269.tif.png', './image_chips2\\\\clipped_image_27.tif.png', './image_chips2\\\\clipped_image_270.tif.png', './image_chips2\\\\clipped_image_271.tif.png', './image_chips2\\\\clipped_image_272.tif.png', './image_chips2\\\\clipped_image_273.tif.png', './image_chips2\\\\clipped_image_274.tif.png', './image_chips2\\\\clipped_image_275.tif.png', './image_chips2\\\\clipped_image_276.tif.png', './image_chips2\\\\clipped_image_277.tif.png', './image_chips2\\\\clipped_image_278.tif.png', './image_chips2\\\\clipped_image_279.tif.png', './image_chips2\\\\clipped_image_28.tif.png', './image_chips2\\\\clipped_image_280.tif.png', './image_chips2\\\\clipped_image_281.tif.png', './image_chips2\\\\clipped_image_282.tif.png', './image_chips2\\\\clipped_image_283.tif.png', './image_chips2\\\\clipped_image_284.tif.png', './image_chips2\\\\clipped_image_285.tif.png', './image_chips2\\\\clipped_image_286.tif.png', './image_chips2\\\\clipped_image_287.tif.png', './image_chips2\\\\clipped_image_288.tif.png', './image_chips2\\\\clipped_image_289.tif.png', './image_chips2\\\\clipped_image_29.tif.png', './image_chips2\\\\clipped_image_290.tif.png', './image_chips2\\\\clipped_image_291.tif.png', './image_chips2\\\\clipped_image_292.tif.png', './image_chips2\\\\clipped_image_293.tif.png', './image_chips2\\\\clipped_image_294.tif.png', './image_chips2\\\\clipped_image_295.tif.png', './image_chips2\\\\clipped_image_296.tif.png', './image_chips2\\\\clipped_image_297.tif.png', './image_chips2\\\\clipped_image_298.tif.png', './image_chips2\\\\clipped_image_299.tif.png', './image_chips2\\\\clipped_image_3.tif.png', './image_chips2\\\\clipped_image_30.tif.png', './image_chips2\\\\clipped_image_300.tif.png', './image_chips2\\\\clipped_image_301.tif.png', './image_chips2\\\\clipped_image_302.tif.png', './image_chips2\\\\clipped_image_303.tif.png', './image_chips2\\\\clipped_image_304.tif.png', './image_chips2\\\\clipped_image_305.tif.png', './image_chips2\\\\clipped_image_306.tif.png', './image_chips2\\\\clipped_image_307.tif.png', './image_chips2\\\\clipped_image_308.tif.png', './image_chips2\\\\clipped_image_309.tif.png', './image_chips2\\\\clipped_image_31.tif.png', './image_chips2\\\\clipped_image_310.tif.png', './image_chips2\\\\clipped_image_311.tif.png', './image_chips2\\\\clipped_image_312.tif.png', './image_chips2\\\\clipped_image_313.tif.png', './image_chips2\\\\clipped_image_314.tif.png', './image_chips2\\\\clipped_image_315.tif.png', './image_chips2\\\\clipped_image_316.tif.png', './image_chips2\\\\clipped_image_317.tif.png', './image_chips2\\\\clipped_image_318.tif.png', './image_chips2\\\\clipped_image_319.tif.png', './image_chips2\\\\clipped_image_32.tif.png', './image_chips2\\\\clipped_image_320.tif.png', './image_chips2\\\\clipped_image_321.tif.png', './image_chips2\\\\clipped_image_322.tif.png', './image_chips2\\\\clipped_image_323.tif.png', './image_chips2\\\\clipped_image_324.tif.png', './image_chips2\\\\clipped_image_325.tif.png', './image_chips2\\\\clipped_image_326.tif.png', './image_chips2\\\\clipped_image_327.tif.png', './image_chips2\\\\clipped_image_328.tif.png', './image_chips2\\\\clipped_image_329.tif.png', './image_chips2\\\\clipped_image_33.tif.png', './image_chips2\\\\clipped_image_330.tif.png', './image_chips2\\\\clipped_image_331.tif.png', './image_chips2\\\\clipped_image_332.tif.png', './image_chips2\\\\clipped_image_333.tif.png', './image_chips2\\\\clipped_image_334.tif.png', './image_chips2\\\\clipped_image_335.tif.png', './image_chips2\\\\clipped_image_336.tif.png', './image_chips2\\\\clipped_image_337.tif.png', './image_chips2\\\\clipped_image_338.tif.png', './image_chips2\\\\clipped_image_339.tif.png', './image_chips2\\\\clipped_image_34.tif.png', './image_chips2\\\\clipped_image_340.tif.png', './image_chips2\\\\clipped_image_341.tif.png', './image_chips2\\\\clipped_image_342.tif.png', './image_chips2\\\\clipped_image_343.tif.png', './image_chips2\\\\clipped_image_344.tif.png', './image_chips2\\\\clipped_image_345.tif.png', './image_chips2\\\\clipped_image_346.tif.png', './image_chips2\\\\clipped_image_347.tif.png', './image_chips2\\\\clipped_image_348.tif.png', './image_chips2\\\\clipped_image_349.tif.png', './image_chips2\\\\clipped_image_35.tif.png', './image_chips2\\\\clipped_image_350.tif.png', './image_chips2\\\\clipped_image_351.tif.png', './image_chips2\\\\clipped_image_352.tif.png', './image_chips2\\\\clipped_image_353.tif.png', './image_chips2\\\\clipped_image_354.tif.png', './image_chips2\\\\clipped_image_355.tif.png', './image_chips2\\\\clipped_image_356.tif.png', './image_chips2\\\\clipped_image_357.tif.png', './image_chips2\\\\clipped_image_358.tif.png', './image_chips2\\\\clipped_image_359.tif.png', './image_chips2\\\\clipped_image_36.tif.png', './image_chips2\\\\clipped_image_360.tif.png', './image_chips2\\\\clipped_image_361.tif.png', './image_chips2\\\\clipped_image_362.tif.png', './image_chips2\\\\clipped_image_363.tif.png', './image_chips2\\\\clipped_image_364.tif.png', './image_chips2\\\\clipped_image_365.tif.png', './image_chips2\\\\clipped_image_366.tif.png', './image_chips2\\\\clipped_image_367.tif.png', './image_chips2\\\\clipped_image_368.tif.png', './image_chips2\\\\clipped_image_369.tif.png', './image_chips2\\\\clipped_image_37.tif.png', './image_chips2\\\\clipped_image_370.tif.png', './image_chips2\\\\clipped_image_371.tif.png', './image_chips2\\\\clipped_image_372.tif.png', './image_chips2\\\\clipped_image_373.tif.png', './image_chips2\\\\clipped_image_374.tif.png', './image_chips2\\\\clipped_image_375.tif.png', './image_chips2\\\\clipped_image_376.tif.png', './image_chips2\\\\clipped_image_377.tif.png', './image_chips2\\\\clipped_image_378.tif.png', './image_chips2\\\\clipped_image_379.tif.png', './image_chips2\\\\clipped_image_38.tif.png', './image_chips2\\\\clipped_image_380.tif.png', './image_chips2\\\\clipped_image_381.tif.png', './image_chips2\\\\clipped_image_382.tif.png', './image_chips2\\\\clipped_image_383.tif.png', './image_chips2\\\\clipped_image_384.tif.png', './image_chips2\\\\clipped_image_385.tif.png', './image_chips2\\\\clipped_image_386.tif.png', './image_chips2\\\\clipped_image_387.tif.png', './image_chips2\\\\clipped_image_388.tif.png', './image_chips2\\\\clipped_image_389.tif.png', './image_chips2\\\\clipped_image_39.tif.png', './image_chips2\\\\clipped_image_390.tif.png', './image_chips2\\\\clipped_image_391.tif.png', './image_chips2\\\\clipped_image_392.tif.png', './image_chips2\\\\clipped_image_393.tif.png', './image_chips2\\\\clipped_image_394.tif.png', './image_chips2\\\\clipped_image_395.tif.png', './image_chips2\\\\clipped_image_396.tif.png', './image_chips2\\\\clipped_image_397.tif.png', './image_chips2\\\\clipped_image_398.tif.png', './image_chips2\\\\clipped_image_399.tif.png', './image_chips2\\\\clipped_image_4.tif.png', './image_chips2\\\\clipped_image_40.tif.png', './image_chips2\\\\clipped_image_400.tif.png', './image_chips2\\\\clipped_image_401.tif.png', './image_chips2\\\\clipped_image_402.tif.png', './image_chips2\\\\clipped_image_403.tif.png', './image_chips2\\\\clipped_image_404.tif.png', './image_chips2\\\\clipped_image_405.tif.png', './image_chips2\\\\clipped_image_406.tif.png', './image_chips2\\\\clipped_image_407.tif.png', './image_chips2\\\\clipped_image_408.tif.png', './image_chips2\\\\clipped_image_409.tif.png', './image_chips2\\\\clipped_image_41.tif.png', './image_chips2\\\\clipped_image_410.tif.png', './image_chips2\\\\clipped_image_411.tif.png', './image_chips2\\\\clipped_image_412.tif.png', './image_chips2\\\\clipped_image_413.tif.png', './image_chips2\\\\clipped_image_414.tif.png', './image_chips2\\\\clipped_image_415.tif.png', './image_chips2\\\\clipped_image_416.tif.png', './image_chips2\\\\clipped_image_417.tif.png', './image_chips2\\\\clipped_image_418.tif.png', './image_chips2\\\\clipped_image_419.tif.png', './image_chips2\\\\clipped_image_42.tif.png', './image_chips2\\\\clipped_image_420.tif.png', './image_chips2\\\\clipped_image_421.tif.png', './image_chips2\\\\clipped_image_422.tif.png', './image_chips2\\\\clipped_image_423.tif.png', './image_chips2\\\\clipped_image_424.tif.png', './image_chips2\\\\clipped_image_425.tif.png', './image_chips2\\\\clipped_image_43.tif.png', './image_chips2\\\\clipped_image_44.tif.png', './image_chips2\\\\clipped_image_45.tif.png', './image_chips2\\\\clipped_image_46.tif.png', './image_chips2\\\\clipped_image_47.tif.png', './image_chips2\\\\clipped_image_48.tif.png', './image_chips2\\\\clipped_image_49.tif.png', './image_chips2\\\\clipped_image_5.tif.png', './image_chips2\\\\clipped_image_50.tif.png', './image_chips2\\\\clipped_image_51.tif.png', './image_chips2\\\\clipped_image_52.tif.png', './image_chips2\\\\clipped_image_53.tif.png', './image_chips2\\\\clipped_image_54.tif.png', './image_chips2\\\\clipped_image_55.tif.png', './image_chips2\\\\clipped_image_56.tif.png', './image_chips2\\\\clipped_image_57.tif.png', './image_chips2\\\\clipped_image_58.tif.png', './image_chips2\\\\clipped_image_59.tif.png', './image_chips2\\\\clipped_image_6.tif.png', './image_chips2\\\\clipped_image_60.tif.png', './image_chips2\\\\clipped_image_61.tif.png', './image_chips2\\\\clipped_image_62.tif.png', './image_chips2\\\\clipped_image_63.tif.png', './image_chips2\\\\clipped_image_64.tif.png', './image_chips2\\\\clipped_image_65.tif.png', './image_chips2\\\\clipped_image_66.tif.png', './image_chips2\\\\clipped_image_67.tif.png', './image_chips2\\\\clipped_image_68.tif.png', './image_chips2\\\\clipped_image_69.tif.png', './image_chips2\\\\clipped_image_7.tif.png', './image_chips2\\\\clipped_image_70.tif.png', './image_chips2\\\\clipped_image_71.tif.png', './image_chips2\\\\clipped_image_72.tif.png', './image_chips2\\\\clipped_image_73.tif.png', './image_chips2\\\\clipped_image_74.tif.png', './image_chips2\\\\clipped_image_75.tif.png', './image_chips2\\\\clipped_image_76.tif.png', './image_chips2\\\\clipped_image_77.tif.png', './image_chips2\\\\clipped_image_78.tif.png', './image_chips2\\\\clipped_image_79.tif.png', './image_chips2\\\\clipped_image_8.tif.png', './image_chips2\\\\clipped_image_80.tif.png', './image_chips2\\\\clipped_image_81.tif.png', './image_chips2\\\\clipped_image_82.tif.png', './image_chips2\\\\clipped_image_83.tif.png', './image_chips2\\\\clipped_image_84.tif.png', './image_chips2\\\\clipped_image_85.tif.png', './image_chips2\\\\clipped_image_86.tif.png', './image_chips2\\\\clipped_image_87.tif.png', './image_chips2\\\\clipped_image_88.tif.png', './image_chips2\\\\clipped_image_89.tif.png', './image_chips2\\\\clipped_image_9.tif.png', './image_chips2\\\\clipped_image_90.tif.png', './image_chips2\\\\clipped_image_91.tif.png', './image_chips2\\\\clipped_image_92.tif.png', './image_chips2\\\\clipped_image_93.tif.png', './image_chips2\\\\clipped_image_94.tif.png', './image_chips2\\\\clipped_image_95.tif.png', './image_chips2\\\\clipped_image_96.tif.png', './image_chips2\\\\clipped_image_97.tif.png', './image_chips2\\\\clipped_image_98.tif.png', './image_chips2\\\\clipped_image_99.tif.png']\n"
     ]
    }
   ],
   "source": [
    "image_files = glob.glob('./image_chips2/*.png')\n",
    "print(image_files)"
   ]
  },
  {
   "cell_type": "code",
   "execution_count": null,
   "id": "2ddd190d",
   "metadata": {},
   "outputs": [],
   "source": []
  }
 ],
 "metadata": {
  "kernelspec": {
   "display_name": "Python 3 (ipykernel)",
   "language": "python",
   "name": "python3"
  },
  "language_info": {
   "codemirror_mode": {
    "name": "ipython",
    "version": 3
   },
   "file_extension": ".py",
   "mimetype": "text/x-python",
   "name": "python",
   "nbconvert_exporter": "python",
   "pygments_lexer": "ipython3",
   "version": "3.8.0"
  }
 },
 "nbformat": 4,
 "nbformat_minor": 5
}
