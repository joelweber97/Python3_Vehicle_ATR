{
 "cells": [
  {
   "cell_type": "code",
   "execution_count": 1,
   "id": "b612631d",
   "metadata": {},
   "outputs": [],
   "source": [
    "import tensorflow as tf"
   ]
  },
  {
   "cell_type": "code",
   "execution_count": 5,
   "id": "d564e587",
   "metadata": {},
   "outputs": [],
   "source": [
    "import shapely\n",
    "import geopandas as gpd\n",
    "from shapely.geometry import box"
   ]
  },
  {
   "cell_type": "code",
   "execution_count": 7,
   "id": "8f8e8684",
   "metadata": {},
   "outputs": [],
   "source": [
    "from osgeo import gdal"
   ]
  },
  {
   "cell_type": "code",
   "execution_count": 6,
   "id": "bb3fc5a3",
   "metadata": {},
   "outputs": [
    {
     "name": "stdout",
     "output_type": "stream",
     "text": [
      "     id                      image_name         xcoord        ycoord  \\\n",
      "0  None  top15-nc-cir-50cm-baylor_48023  473087.269198  3.717374e+06   \n",
      "1  None  top15-nc-cir-50cm-baylor_48023  472593.045637  3.717376e+06   \n",
      "2  None  top15-nc-cir-50cm-baylor_48023  472661.489183  3.717377e+06   \n",
      "3  None  top15-nc-cir-50cm-baylor_48023  471977.527538  3.717369e+06   \n",
      "4  None  top15-nc-cir-50cm-baylor_48023  471821.128222  3.717372e+06   \n",
      "\n",
      "                         geometry           minx           maxx          miny  \\\n",
      "0  POINT (473087.269 3717374.149)  473081.269198  473093.269198  3.717368e+06   \n",
      "1  POINT (472593.046 3717376.303)  472587.045637  472599.045637  3.717370e+06   \n",
      "2  POINT (472661.489 3717377.251)  472655.489183  472667.489183  3.717371e+06   \n",
      "3  POINT (471977.528 3717369.110)  471971.527538  471983.527538  3.717363e+06   \n",
      "4  POINT (471821.128 3717372.297)  471815.128222  471827.128222  3.717366e+06   \n",
      "\n",
      "           maxy                                                box  \n",
      "0  3.717380e+06  POLYGON ((473093.2691976763 3717368.149298159,...  \n",
      "1  3.717382e+06  POLYGON ((472599.0456373285 3717370.302965408,...  \n",
      "2  3.717383e+06  POLYGON ((472667.4891825083 3717371.250578998,...  \n",
      "3  3.717375e+06  POLYGON ((471983.5275375054 3717363.109716796,...  \n",
      "4  3.717378e+06  POLYGON ((471827.1282218681 3717366.297144325,...  \n"
     ]
    }
   ],
   "source": [
    "shp2 = gpd.read_file('vehicle_points2.shp')\n",
    "\n",
    "#create a geometry column consisting of the bounding box of +- 6 meters from each vehicle centroid.\n",
    "#this boxes will be used to clip each of the rasters into smaller images to be used to train the cnn.\n",
    "shp2['minx'] = shp2['xcoord'] - 6\n",
    "shp2['maxx'] = shp2['xcoord'] + 6\n",
    "shp2['miny'] = shp2['ycoord'] -6\n",
    "shp2['maxy'] = shp2['ycoord'] + 6\n",
    "\n",
    "shp2['box'] = shp2.apply(lambda x: box(x['minx'], x['miny'], x['maxx'], x['maxy']), axis = 1)\n",
    "print(shp2.head())"
   ]
  },
  {
   "cell_type": "code",
   "execution_count": 8,
   "id": "ac6dea9b",
   "metadata": {},
   "outputs": [],
   "source": [
    "ds = gdal.Open('G:/top_images/top15-50cm_48023_nc-cir/top15-nc-cir-50cm-baylor_48023.jp2')"
   ]
  },
  {
   "cell_type": "code",
   "execution_count": null,
   "id": "1017a342",
   "metadata": {},
   "outputs": [],
   "source": []
  }
 ],
 "metadata": {
  "kernelspec": {
   "display_name": "Python 3 (ipykernel)",
   "language": "python",
   "name": "python3"
  },
  "language_info": {
   "codemirror_mode": {
    "name": "ipython",
    "version": 3
   },
   "file_extension": ".py",
   "mimetype": "text/x-python",
   "name": "python",
   "nbconvert_exporter": "python",
   "pygments_lexer": "ipython3",
   "version": "3.8.0"
  }
 },
 "nbformat": 4,
 "nbformat_minor": 5
}
