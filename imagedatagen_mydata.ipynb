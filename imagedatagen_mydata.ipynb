{
 "cells": [
  {
   "cell_type": "code",
   "execution_count": 1,
   "id": "492d4631",
   "metadata": {},
   "outputs": [],
   "source": [
    "import PIL"
   ]
  },
  {
   "cell_type": "code",
   "execution_count": 2,
   "id": "ef21924a",
   "metadata": {},
   "outputs": [],
   "source": [
    "import pandas as pd"
   ]
  },
  {
   "cell_type": "code",
   "execution_count": 3,
   "id": "32508c91",
   "metadata": {},
   "outputs": [],
   "source": [
    "#import cv2\n",
    "import numpy as np\n",
    "import glob\n",
    "import tensorflow as tf\n",
    "import tensorflow\n",
    "from tensorflow.keras import datasets, layers, models\n",
    "\n",
    "from tensorflow.keras.models import Sequential\n",
    "from tensorflow.keras.layers import Dense, Dropout, Conv2D, MaxPool2D, Flatten\n",
    "#from tensorflow.keras.utils import np_utils\n",
    "from tensorflow.keras import utils\n",
    "from sklearn.model_selection import train_test_split\n",
    "from sklearn.metrics import confusion_matrix, classification_report"
   ]
  },
  {
   "cell_type": "code",
   "execution_count": 4,
   "id": "dbbe08d8",
   "metadata": {},
   "outputs": [],
   "source": [
    "from tensorflow.keras.preprocessing.image import ImageDataGenerator, array_to_img, img_to_array"
   ]
  },
  {
   "cell_type": "code",
   "execution_count": 5,
   "id": "d8eb7c69",
   "metadata": {},
   "outputs": [],
   "source": [
    "from tensorflow.keras.models import Sequential\n",
    "from tensorflow.keras.layers import Dropout, Flatten, Dense, Conv2D, MaxPooling2D, BatchNormalization\n",
    "from tensorflow.keras.optimizers import SGD\n",
    "import tensorflow.keras\n",
    "from sklearn.model_selection import train_test_split\n",
    "import cv2\n",
    "import matplotlib.pyplot as plt"
   ]
  },
  {
   "cell_type": "code",
   "execution_count": 6,
   "id": "9d806628",
   "metadata": {},
   "outputs": [],
   "source": [
    "vehicle_images = glob.glob('./vehicle_chips2/*/*.png')"
   ]
  },
  {
   "cell_type": "code",
   "execution_count": 7,
   "id": "83e87f6c",
   "metadata": {},
   "outputs": [
    {
     "data": {
      "text/plain": [
       "['./vehicle_chips2/set2/vehicle_chip_715.png',\n",
       " './vehicle_chips2/set2/vehicle_chip_701.png',\n",
       " './vehicle_chips2/set2/vehicle_chip_729.png',\n",
       " './vehicle_chips2/set2/vehicle_chip_932.png',\n",
       " './vehicle_chips2/set2/vehicle_chip_926.png',\n",
       " './vehicle_chips2/set2/vehicle_chip_517.png',\n",
       " './vehicle_chips2/set2/vehicle_chip_503.png',\n",
       " './vehicle_chips2/set2/vehicle_chip_661.png',\n",
       " './vehicle_chips2/set2/vehicle_chip_675.png',\n",
       " './vehicle_chips2/set2/vehicle_chip_885.png',\n",
       " './vehicle_chips2/set2/vehicle_chip_891.png',\n",
       " './vehicle_chips2/set2/vehicle_chip_649.png',\n",
       " './vehicle_chips2/set2/vehicle_chip_846.png',\n",
       " './vehicle_chips2/set2/vehicle_chip_852.png',\n",
       " './vehicle_chips2/set2/vehicle_chip_853.png',\n",
       " './vehicle_chips2/set2/vehicle_chip_847.png',\n",
       " './vehicle_chips2/set2/vehicle_chip_648.png',\n",
       " './vehicle_chips2/set2/vehicle_chip_890.png',\n",
       " './vehicle_chips2/set2/vehicle_chip_884.png',\n",
       " './vehicle_chips2/set2/vehicle_chip_674.png',\n",
       " './vehicle_chips2/set2/vehicle_chip_660.png',\n",
       " './vehicle_chips2/set2/vehicle_chip_502.png',\n",
       " './vehicle_chips2/set2/vehicle_chip_516.png',\n",
       " './vehicle_chips2/set2/vehicle_chip_927.png',\n",
       " './vehicle_chips2/set2/vehicle_chip_933.png',\n",
       " './vehicle_chips2/set2/vehicle_chip_728.png',\n",
       " './vehicle_chips2/set2/vehicle_chip_700.png',\n",
       " './vehicle_chips2/set2/vehicle_chip_714.png',\n",
       " './vehicle_chips2/set2/vehicle_chip_702.png',\n",
       " './vehicle_chips2/set2/vehicle_chip_716.png',\n",
       " './vehicle_chips2/set2/vehicle_chip_919.png',\n",
       " './vehicle_chips2/set2/vehicle_chip_925.png',\n",
       " './vehicle_chips2/set2/vehicle_chip_931.png',\n",
       " './vehicle_chips2/set2/vehicle_chip_500.png',\n",
       " './vehicle_chips2/set2/vehicle_chip_514.png',\n",
       " './vehicle_chips2/set2/vehicle_chip_528.png',\n",
       " './vehicle_chips2/set2/vehicle_chip_676.png',\n",
       " './vehicle_chips2/set2/vehicle_chip_662.png',\n",
       " './vehicle_chips2/set2/vehicle_chip_892.png',\n",
       " './vehicle_chips2/set2/vehicle_chip_886.png',\n",
       " './vehicle_chips2/set2/vehicle_chip_879.png',\n",
       " './vehicle_chips2/set2/vehicle_chip_689.png',\n",
       " './vehicle_chips2/set2/vehicle_chip_851.png',\n",
       " './vehicle_chips2/set2/vehicle_chip_845.png',\n",
       " './vehicle_chips2/set2/vehicle_chip_844.png',\n",
       " './vehicle_chips2/set2/vehicle_chip_850.png',\n",
       " './vehicle_chips2/set2/vehicle_chip_688.png',\n",
       " './vehicle_chips2/set2/vehicle_chip_878.png',\n",
       " './vehicle_chips2/set2/vehicle_chip_887.png',\n",
       " './vehicle_chips2/set2/vehicle_chip_893.png',\n",
       " './vehicle_chips2/set2/vehicle_chip_663.png',\n",
       " './vehicle_chips2/set2/vehicle_chip_677.png',\n",
       " './vehicle_chips2/set2/vehicle_chip_529.png',\n",
       " './vehicle_chips2/set2/vehicle_chip_515.png',\n",
       " './vehicle_chips2/set2/vehicle_chip_501.png',\n",
       " './vehicle_chips2/set2/vehicle_chip_930.png',\n",
       " './vehicle_chips2/set2/vehicle_chip_924.png',\n",
       " './vehicle_chips2/set2/vehicle_chip_918.png',\n",
       " './vehicle_chips2/set2/vehicle_chip_717.png',\n",
       " './vehicle_chips2/set2/vehicle_chip_703.png',\n",
       " './vehicle_chips2/set2/vehicle_chip_707.png',\n",
       " './vehicle_chips2/set2/vehicle_chip_713.png',\n",
       " './vehicle_chips2/set2/vehicle_chip_920.png',\n",
       " './vehicle_chips2/set2/vehicle_chip_934.png',\n",
       " './vehicle_chips2/set2/vehicle_chip_908.png',\n",
       " './vehicle_chips2/set2/vehicle_chip_539.png',\n",
       " './vehicle_chips2/set2/vehicle_chip_505.png',\n",
       " './vehicle_chips2/set2/vehicle_chip_511.png',\n",
       " './vehicle_chips2/set2/vehicle_chip_897.png',\n",
       " './vehicle_chips2/set2/vehicle_chip_883.png',\n",
       " './vehicle_chips2/set2/vehicle_chip_673.png',\n",
       " './vehicle_chips2/set2/vehicle_chip_667.png',\n",
       " './vehicle_chips2/set2/vehicle_chip_854.png',\n",
       " './vehicle_chips2/set2/vehicle_chip_698.png',\n",
       " './vehicle_chips2/set2/vehicle_chip_840.png',\n",
       " './vehicle_chips2/set2/vehicle_chip_868.png',\n",
       " './vehicle_chips2/set2/vehicle_chip_869.png',\n",
       " './vehicle_chips2/set2/vehicle_chip_841.png',\n",
       " './vehicle_chips2/set2/vehicle_chip_699.png',\n",
       " './vehicle_chips2/set2/vehicle_chip_855.png',\n",
       " './vehicle_chips2/set2/vehicle_chip_666.png',\n",
       " './vehicle_chips2/set2/vehicle_chip_672.png',\n",
       " './vehicle_chips2/set2/vehicle_chip_882.png',\n",
       " './vehicle_chips2/set2/vehicle_chip_896.png',\n",
       " './vehicle_chips2/set2/vehicle_chip_510.png',\n",
       " './vehicle_chips2/set2/vehicle_chip_504.png',\n",
       " './vehicle_chips2/set2/vehicle_chip_538.png',\n",
       " './vehicle_chips2/set2/vehicle_chip_909.png',\n",
       " './vehicle_chips2/set2/vehicle_chip_935.png',\n",
       " './vehicle_chips2/set2/vehicle_chip_921.png',\n",
       " './vehicle_chips2/set2/vehicle_chip_712.png',\n",
       " './vehicle_chips2/set2/vehicle_chip_706.png',\n",
       " './vehicle_chips2/set2/vehicle_chip_738.png',\n",
       " './vehicle_chips2/set2/vehicle_chip_710.png',\n",
       " './vehicle_chips2/set2/vehicle_chip_704.png',\n",
       " './vehicle_chips2/set2/vehicle_chip_937.png',\n",
       " './vehicle_chips2/set2/vehicle_chip_923.png',\n",
       " './vehicle_chips2/set2/vehicle_chip_512.png',\n",
       " './vehicle_chips2/set2/vehicle_chip_506.png',\n",
       " './vehicle_chips2/set2/vehicle_chip_499.png',\n",
       " './vehicle_chips2/set2/vehicle_chip_880.png',\n",
       " './vehicle_chips2/set2/vehicle_chip_658.png',\n",
       " './vehicle_chips2/set2/vehicle_chip_894.png',\n",
       " './vehicle_chips2/set2/vehicle_chip_664.png',\n",
       " './vehicle_chips2/set2/vehicle_chip_670.png',\n",
       " './vehicle_chips2/set2/vehicle_chip_843.png',\n",
       " './vehicle_chips2/set2/vehicle_chip_857.png',\n",
       " './vehicle_chips2/set2/vehicle_chip_856.png',\n",
       " './vehicle_chips2/set2/vehicle_chip_842.png',\n",
       " './vehicle_chips2/set2/vehicle_chip_671.png',\n",
       " './vehicle_chips2/set2/vehicle_chip_665.png',\n",
       " './vehicle_chips2/set2/vehicle_chip_895.png',\n",
       " './vehicle_chips2/set2/vehicle_chip_659.png',\n",
       " './vehicle_chips2/set2/vehicle_chip_881.png',\n",
       " './vehicle_chips2/set2/vehicle_chip_498.png',\n",
       " './vehicle_chips2/set2/vehicle_chip_507.png',\n",
       " './vehicle_chips2/set2/vehicle_chip_513.png',\n",
       " './vehicle_chips2/set2/vehicle_chip_922.png',\n",
       " './vehicle_chips2/set2/vehicle_chip_936.png',\n",
       " './vehicle_chips2/set2/vehicle_chip_705.png',\n",
       " './vehicle_chips2/set2/vehicle_chip_711.png',\n",
       " './vehicle_chips2/set2/vehicle_chip_739.png',\n",
       " './vehicle_chips2/set2/vehicle_chip_776.png',\n",
       " './vehicle_chips2/set2/vehicle_chip_762.png',\n",
       " './vehicle_chips2/set2/vehicle_chip_951.png',\n",
       " './vehicle_chips2/set2/vehicle_chip_789.png',\n",
       " './vehicle_chips2/set2/vehicle_chip_945.png',\n",
       " './vehicle_chips2/set2/vehicle_chip_574.png',\n",
       " './vehicle_chips2/set2/vehicle_chip_560.png',\n",
       " './vehicle_chips2/set2/vehicle_chip_548.png',\n",
       " './vehicle_chips2/set2/vehicle_chip_3248.png',\n",
       " './vehicle_chips2/set2/vehicle_chip_3260.png',\n",
       " './vehicle_chips2/set2/vehicle_chip_602.png',\n",
       " './vehicle_chips2/set2/vehicle_chip_616.png',\n",
       " './vehicle_chips2/set2/vehicle_chip_819.png',\n",
       " './vehicle_chips2/set2/vehicle_chip_825.png',\n",
       " './vehicle_chips2/set2/vehicle_chip_831.png',\n",
       " './vehicle_chips2/set2/vehicle_chip_830.png',\n",
       " './vehicle_chips2/set2/vehicle_chip_824.png',\n",
       " './vehicle_chips2/set2/vehicle_chip_818.png',\n",
       " './vehicle_chips2/set2/vehicle_chip_617.png',\n",
       " './vehicle_chips2/set2/vehicle_chip_603.png',\n",
       " './vehicle_chips2/set2/vehicle_chip_3261.png',\n",
       " './vehicle_chips2/set2/vehicle_chip_3249.png',\n",
       " './vehicle_chips2/set2/vehicle_chip_549.png',\n",
       " './vehicle_chips2/set2/vehicle_chip_561.png',\n",
       " './vehicle_chips2/set2/vehicle_chip_575.png',\n",
       " './vehicle_chips2/set2/vehicle_chip_944.png',\n",
       " './vehicle_chips2/set2/vehicle_chip_788.png',\n",
       " './vehicle_chips2/set2/vehicle_chip_950.png',\n",
       " './vehicle_chips2/set2/vehicle_chip_763.png',\n",
       " './vehicle_chips2/set2/vehicle_chip_777.png',\n",
       " './vehicle_chips2/set2/vehicle_chip_761.png',\n",
       " './vehicle_chips2/set2/vehicle_chip_775.png',\n",
       " './vehicle_chips2/set2/vehicle_chip_749.png',\n",
       " './vehicle_chips2/set2/vehicle_chip_946.png',\n",
       " './vehicle_chips2/set2/vehicle_chip_952.png',\n",
       " './vehicle_chips2/set2/vehicle_chip_563.png',\n",
       " './vehicle_chips2/set2/vehicle_chip_577.png',\n",
       " './vehicle_chips2/set2/vehicle_chip_3263.png',\n",
       " './vehicle_chips2/set2/vehicle_chip_588.png',\n",
       " './vehicle_chips2/set2/vehicle_chip_615.png',\n",
       " './vehicle_chips2/set2/vehicle_chip_601.png',\n",
       " './vehicle_chips2/set2/vehicle_chip_629.png',\n",
       " './vehicle_chips2/set2/vehicle_chip_832.png',\n",
       " './vehicle_chips2/set2/vehicle_chip_826.png',\n",
       " './vehicle_chips2/set2/vehicle_chip_827.png',\n",
       " './vehicle_chips2/set2/vehicle_chip_833.png',\n",
       " './vehicle_chips2/set2/vehicle_chip_628.png',\n",
       " './vehicle_chips2/set2/vehicle_chip_600.png',\n",
       " './vehicle_chips2/set2/vehicle_chip_614.png',\n",
       " './vehicle_chips2/set2/vehicle_chip_589.png',\n",
       " './vehicle_chips2/set2/vehicle_chip_3262.png',\n",
       " './vehicle_chips2/set2/vehicle_chip_576.png',\n",
       " './vehicle_chips2/set2/vehicle_chip_562.png',\n",
       " './vehicle_chips2/set2/vehicle_chip_953.png',\n",
       " './vehicle_chips2/set2/vehicle_chip_947.png',\n",
       " './vehicle_chips2/set2/vehicle_chip_748.png',\n",
       " './vehicle_chips2/set2/vehicle_chip_774.png',\n",
       " './vehicle_chips2/set2/vehicle_chip_760.png',\n",
       " './vehicle_chips2/set2/vehicle_chip_758.png',\n",
       " './vehicle_chips2/set2/vehicle_chip_764.png',\n",
       " './vehicle_chips2/set2/vehicle_chip_770.png',\n",
       " './vehicle_chips2/set2/vehicle_chip_943.png',\n",
       " './vehicle_chips2/set2/vehicle_chip_957.png',\n",
       " './vehicle_chips2/set2/vehicle_chip_566.png',\n",
       " './vehicle_chips2/set2/vehicle_chip_572.png',\n",
       " './vehicle_chips2/set2/vehicle_chip_3266.png',\n",
       " './vehicle_chips2/set2/vehicle_chip_599.png',\n",
       " './vehicle_chips2/set2/vehicle_chip_638.png',\n",
       " './vehicle_chips2/set2/vehicle_chip_610.png',\n",
       " './vehicle_chips2/set2/vehicle_chip_604.png',\n",
       " './vehicle_chips2/set2/vehicle_chip_837.png',\n",
       " './vehicle_chips2/set2/vehicle_chip_823.png',\n",
       " './vehicle_chips2/set2/vehicle_chip_822.png',\n",
       " './vehicle_chips2/set2/vehicle_chip_836.png',\n",
       " './vehicle_chips2/set2/vehicle_chip_605.png',\n",
       " './vehicle_chips2/set2/vehicle_chip_611.png',\n",
       " './vehicle_chips2/set2/vehicle_chip_639.png',\n",
       " './vehicle_chips2/set2/vehicle_chip_3267.png',\n",
       " './vehicle_chips2/set2/vehicle_chip_598.png',\n",
       " './vehicle_chips2/set2/vehicle_chip_573.png',\n",
       " './vehicle_chips2/set2/vehicle_chip_567.png',\n",
       " './vehicle_chips2/set2/vehicle_chip_956.png',\n",
       " './vehicle_chips2/set2/vehicle_chip_942.png',\n",
       " './vehicle_chips2/set2/vehicle_chip_771.png',\n",
       " './vehicle_chips2/set2/vehicle_chip_765.png',\n",
       " './vehicle_chips2/set2/vehicle_chip_759.png',\n",
       " './vehicle_chips2/set2/vehicle_chip_773.png',\n",
       " './vehicle_chips2/set2/vehicle_chip_767.png',\n",
       " './vehicle_chips2/set2/vehicle_chip_954.png',\n",
       " './vehicle_chips2/set2/vehicle_chip_940.png',\n",
       " './vehicle_chips2/set2/vehicle_chip_798.png',\n",
       " './vehicle_chips2/set2/vehicle_chip_559.png',\n",
       " './vehicle_chips2/set2/vehicle_chip_571.png',\n",
       " './vehicle_chips2/set2/vehicle_chip_565.png',\n",
       " './vehicle_chips2/set2/vehicle_chip_3265.png',\n",
       " './vehicle_chips2/set2/vehicle_chip_3259.png',\n",
       " './vehicle_chips2/set2/vehicle_chip_607.png',\n",
       " './vehicle_chips2/set2/vehicle_chip_613.png',\n",
       " './vehicle_chips2/set2/vehicle_chip_820.png',\n",
       " './vehicle_chips2/set2/vehicle_chip_834.png',\n",
       " './vehicle_chips2/set2/vehicle_chip_808.png',\n",
       " './vehicle_chips2/set2/vehicle_chip_809.png',\n",
       " './vehicle_chips2/set2/vehicle_chip_835.png',\n",
       " './vehicle_chips2/set2/vehicle_chip_821.png',\n",
       " './vehicle_chips2/set2/vehicle_chip_612.png',\n",
       " './vehicle_chips2/set2/vehicle_chip_606.png',\n",
       " './vehicle_chips2/set2/vehicle_chip_3258.png',\n",
       " './vehicle_chips2/set2/vehicle_chip_3264.png',\n",
       " './vehicle_chips2/set2/vehicle_chip_3270.png',\n",
       " './vehicle_chips2/set2/vehicle_chip_564.png',\n",
       " './vehicle_chips2/set2/vehicle_chip_570.png',\n",
       " './vehicle_chips2/set2/vehicle_chip_558.png',\n",
       " './vehicle_chips2/set2/vehicle_chip_799.png',\n",
       " './vehicle_chips2/set2/vehicle_chip_941.png',\n",
       " './vehicle_chips2/set2/vehicle_chip_955.png',\n",
       " './vehicle_chips2/set2/vehicle_chip_766.png',\n",
       " './vehicle_chips2/set2/vehicle_chip_772.png',\n",
       " './vehicle_chips2/set2/vehicle_chip_757.png',\n",
       " './vehicle_chips2/set2/vehicle_chip_743.png',\n",
       " './vehicle_chips2/set2/vehicle_chip_794.png',\n",
       " './vehicle_chips2/set2/vehicle_chip_958.png',\n",
       " './vehicle_chips2/set2/vehicle_chip_780.png',\n",
       " './vehicle_chips2/set2/vehicle_chip_555.png',\n",
       " './vehicle_chips2/set2/vehicle_chip_541.png',\n",
       " './vehicle_chips2/set2/vehicle_chip_569.png',\n",
       " './vehicle_chips2/set2/vehicle_chip_596.png',\n",
       " './vehicle_chips2/set2/vehicle_chip_3269.png',\n",
       " './vehicle_chips2/set2/vehicle_chip_582.png',\n",
       " './vehicle_chips2/set2/vehicle_chip_3255.png',\n",
       " './vehicle_chips2/set2/vehicle_chip_623.png',\n",
       " './vehicle_chips2/set2/vehicle_chip_637.png',\n",
       " './vehicle_chips2/set2/vehicle_chip_838.png',\n",
       " './vehicle_chips2/set2/vehicle_chip_804.png',\n",
       " './vehicle_chips2/set2/vehicle_chip_810.png',\n",
       " './vehicle_chips2/set2/vehicle_chip_811.png',\n",
       " './vehicle_chips2/set2/vehicle_chip_805.png',\n",
       " './vehicle_chips2/set2/vehicle_chip_839.png',\n",
       " './vehicle_chips2/set2/vehicle_chip_636.png',\n",
       " './vehicle_chips2/set2/vehicle_chip_622.png',\n",
       " './vehicle_chips2/set2/vehicle_chip_3254.png',\n",
       " './vehicle_chips2/set2/vehicle_chip_583.png',\n",
       " './vehicle_chips2/set2/vehicle_chip_597.png',\n",
       " './vehicle_chips2/set2/vehicle_chip_3268.png',\n",
       " './vehicle_chips2/set2/vehicle_chip_568.png',\n",
       " './vehicle_chips2/set2/vehicle_chip_540.png',\n",
       " './vehicle_chips2/set2/vehicle_chip_554.png',\n",
       " './vehicle_chips2/set2/vehicle_chip_781.png',\n",
       " './vehicle_chips2/set2/vehicle_chip_959.png',\n",
       " './vehicle_chips2/set2/vehicle_chip_795.png',\n",
       " './vehicle_chips2/set2/vehicle_chip_742.png',\n",
       " './vehicle_chips2/set2/vehicle_chip_756.png',\n",
       " './vehicle_chips2/set2/vehicle_chip_740.png',\n",
       " './vehicle_chips2/set2/vehicle_chip_754.png',\n",
       " './vehicle_chips2/set2/vehicle_chip_768.png',\n",
       " './vehicle_chips2/set2/vehicle_chip_783.png',\n",
       " './vehicle_chips2/set2/vehicle_chip_797.png',\n",
       " './vehicle_chips2/set2/vehicle_chip_542.png',\n",
       " './vehicle_chips2/set2/vehicle_chip_556.png',\n",
       " './vehicle_chips2/set2/vehicle_chip_581.png',\n",
       " './vehicle_chips2/set2/vehicle_chip_595.png',\n",
       " './vehicle_chips2/set2/vehicle_chip_3256.png',\n",
       " './vehicle_chips2/set2/vehicle_chip_634.png',\n",
       " './vehicle_chips2/set2/vehicle_chip_620.png',\n",
       " './vehicle_chips2/set2/vehicle_chip_608.png',\n",
       " './vehicle_chips2/set2/vehicle_chip_813.png',\n",
       " './vehicle_chips2/set2/vehicle_chip_807.png',\n",
       " './vehicle_chips2/set2/vehicle_chip_806.png',\n",
       " './vehicle_chips2/set2/vehicle_chip_812.png',\n",
       " './vehicle_chips2/set2/vehicle_chip_609.png',\n",
       " './vehicle_chips2/set2/vehicle_chip_621.png',\n",
       " './vehicle_chips2/set2/vehicle_chip_635.png',\n",
       " './vehicle_chips2/set2/vehicle_chip_3257.png',\n",
       " './vehicle_chips2/set2/vehicle_chip_3243.png',\n",
       " './vehicle_chips2/set2/vehicle_chip_594.png',\n",
       " './vehicle_chips2/set2/vehicle_chip_580.png',\n",
       " './vehicle_chips2/set2/vehicle_chip_557.png',\n",
       " './vehicle_chips2/set2/vehicle_chip_543.png',\n",
       " './vehicle_chips2/set2/vehicle_chip_796.png',\n",
       " './vehicle_chips2/set2/vehicle_chip_782.png',\n",
       " './vehicle_chips2/set2/vehicle_chip_769.png',\n",
       " './vehicle_chips2/set2/vehicle_chip_755.png',\n",
       " './vehicle_chips2/set2/vehicle_chip_741.png',\n",
       " './vehicle_chips2/set2/vehicle_chip_779.png',\n",
       " './vehicle_chips2/set2/vehicle_chip_745.png',\n",
       " './vehicle_chips2/set2/vehicle_chip_751.png',\n",
       " './vehicle_chips2/set2/vehicle_chip_962.png',\n",
       " './vehicle_chips2/set2/vehicle_chip_786.png',\n",
       " './vehicle_chips2/set2/vehicle_chip_792.png',\n",
       " './vehicle_chips2/set2/vehicle_chip_547.png',\n",
       " './vehicle_chips2/set2/vehicle_chip_553.png',\n",
       " './vehicle_chips2/set2/vehicle_chip_3247.png',\n",
       " './vehicle_chips2/set2/vehicle_chip_3253.png',\n",
       " './vehicle_chips2/set2/vehicle_chip_584.png',\n",
       " './vehicle_chips2/set2/vehicle_chip_590.png',\n",
       " './vehicle_chips2/set2/vehicle_chip_619.png',\n",
       " './vehicle_chips2/set2/vehicle_chip_631.png',\n",
       " './vehicle_chips2/set2/vehicle_chip_625.png',\n",
       " './vehicle_chips2/set2/vehicle_chip_816.png',\n",
       " './vehicle_chips2/set2/vehicle_chip_802.png',\n",
       " './vehicle_chips2/set2/vehicle_chip_803.png',\n",
       " './vehicle_chips2/set2/vehicle_chip_817.png',\n",
       " './vehicle_chips2/set2/vehicle_chip_624.png',\n",
       " './vehicle_chips2/set2/vehicle_chip_630.png',\n",
       " './vehicle_chips2/set2/vehicle_chip_618.png',\n",
       " './vehicle_chips2/set2/vehicle_chip_591.png',\n",
       " './vehicle_chips2/set2/vehicle_chip_585.png',\n",
       " './vehicle_chips2/set2/vehicle_chip_3252.png',\n",
       " './vehicle_chips2/set2/vehicle_chip_3246.png',\n",
       " './vehicle_chips2/set2/vehicle_chip_552.png',\n",
       " './vehicle_chips2/set2/vehicle_chip_546.png',\n",
       " './vehicle_chips2/set2/vehicle_chip_793.png',\n",
       " './vehicle_chips2/set2/vehicle_chip_787.png',\n",
       " './vehicle_chips2/set2/vehicle_chip_750.png',\n",
       " './vehicle_chips2/set2/vehicle_chip_744.png',\n",
       " './vehicle_chips2/set2/vehicle_chip_778.png',\n",
       " './vehicle_chips2/set2/vehicle_chip_752.png',\n",
       " './vehicle_chips2/set2/vehicle_chip_746.png',\n",
       " './vehicle_chips2/set2/vehicle_chip_961.png',\n",
       " './vehicle_chips2/set2/vehicle_chip_949.png',\n",
       " './vehicle_chips2/set2/vehicle_chip_791.png',\n",
       " './vehicle_chips2/set2/vehicle_chip_785.png',\n",
       " './vehicle_chips2/set2/vehicle_chip_578.png',\n",
       " './vehicle_chips2/set2/vehicle_chip_550.png',\n",
       " './vehicle_chips2/set2/vehicle_chip_544.png',\n",
       " './vehicle_chips2/set2/vehicle_chip_3250.png',\n",
       " './vehicle_chips2/set2/vehicle_chip_3244.png',\n",
       " './vehicle_chips2/set2/vehicle_chip_593.png',\n",
       " './vehicle_chips2/set2/vehicle_chip_587.png',\n",
       " './vehicle_chips2/set2/vehicle_chip_626.png',\n",
       " './vehicle_chips2/set2/vehicle_chip_632.png',\n",
       " './vehicle_chips2/set2/vehicle_chip_801.png',\n",
       " './vehicle_chips2/set2/vehicle_chip_815.png',\n",
       " './vehicle_chips2/set2/vehicle_chip_829.png',\n",
       " './vehicle_chips2/set2/vehicle_chip_828.png',\n",
       " './vehicle_chips2/set2/vehicle_chip_814.png',\n",
       " './vehicle_chips2/set2/vehicle_chip_800.png',\n",
       " './vehicle_chips2/set2/vehicle_chip_633.png',\n",
       " './vehicle_chips2/set2/vehicle_chip_627.png',\n",
       " './vehicle_chips2/set2/vehicle_chip_586.png',\n",
       " './vehicle_chips2/set2/vehicle_chip_592.png',\n",
       " './vehicle_chips2/set2/vehicle_chip_3245.png',\n",
       " './vehicle_chips2/set2/vehicle_chip_3251.png',\n",
       " './vehicle_chips2/set2/vehicle_chip_545.png',\n",
       " './vehicle_chips2/set2/vehicle_chip_551.png',\n",
       " './vehicle_chips2/set2/vehicle_chip_579.png',\n",
       " './vehicle_chips2/set2/vehicle_chip_784.png',\n",
       " './vehicle_chips2/set2/vehicle_chip_790.png',\n",
       " './vehicle_chips2/set2/vehicle_chip_948.png',\n",
       " './vehicle_chips2/set2/vehicle_chip_960.png',\n",
       " './vehicle_chips2/set2/vehicle_chip_747.png',\n",
       " './vehicle_chips2/set2/vehicle_chip_753.png',\n",
       " './vehicle_chips2/set2/vehicle_chip_734.png',\n",
       " './vehicle_chips2/set2/vehicle_chip_720.png',\n",
       " './vehicle_chips2/set2/vehicle_chip_708.png',\n",
       " './vehicle_chips2/set2/vehicle_chip_913.png',\n",
       " './vehicle_chips2/set2/vehicle_chip_907.png',\n",
       " './vehicle_chips2/set2/vehicle_chip_536.png',\n",
       " './vehicle_chips2/set2/vehicle_chip_522.png',\n",
       " './vehicle_chips2/set2/vehicle_chip_898.png',\n",
       " './vehicle_chips2/set2/vehicle_chip_640.png',\n",
       " './vehicle_chips2/set2/vehicle_chip_654.png',\n",
       " './vehicle_chips2/set2/vehicle_chip_668.png',\n",
       " './vehicle_chips2/set2/vehicle_chip_683.png',\n",
       " './vehicle_chips2/set2/vehicle_chip_697.png',\n",
       " './vehicle_chips2/set2/vehicle_chip_867.png',\n",
       " './vehicle_chips2/set2/vehicle_chip_873.png',\n",
       " './vehicle_chips2/set2/vehicle_chip_872.png',\n",
       " './vehicle_chips2/set2/vehicle_chip_866.png',\n",
       " './vehicle_chips2/set2/vehicle_chip_696.png',\n",
       " './vehicle_chips2/set2/vehicle_chip_682.png',\n",
       " './vehicle_chips2/set2/vehicle_chip_669.png',\n",
       " './vehicle_chips2/set2/vehicle_chip_655.png',\n",
       " './vehicle_chips2/set2/vehicle_chip_641.png',\n",
       " './vehicle_chips2/set2/vehicle_chip_899.png',\n",
       " './vehicle_chips2/set2/vehicle_chip_523.png',\n",
       " './vehicle_chips2/set2/vehicle_chip_537.png',\n",
       " './vehicle_chips2/set2/vehicle_chip_906.png',\n",
       " './vehicle_chips2/set2/vehicle_chip_912.png',\n",
       " './vehicle_chips2/set2/vehicle_chip_709.png',\n",
       " './vehicle_chips2/set2/vehicle_chip_721.png',\n",
       " './vehicle_chips2/set2/vehicle_chip_735.png',\n",
       " './vehicle_chips2/set2/vehicle_chip_723.png',\n",
       " './vehicle_chips2/set2/vehicle_chip_737.png',\n",
       " './vehicle_chips2/set2/vehicle_chip_938.png',\n",
       " './vehicle_chips2/set2/vehicle_chip_904.png',\n",
       " './vehicle_chips2/set2/vehicle_chip_910.png',\n",
       " './vehicle_chips2/set2/vehicle_chip_521.png',\n",
       " './vehicle_chips2/set2/vehicle_chip_535.png',\n",
       " './vehicle_chips2/set2/vehicle_chip_509.png',\n",
       " './vehicle_chips2/set2/vehicle_chip_657.png',\n",
       " './vehicle_chips2/set2/vehicle_chip_643.png',\n",
       " './vehicle_chips2/set2/vehicle_chip_694.png',\n",
       " './vehicle_chips2/set2/vehicle_chip_680.png',\n",
       " './vehicle_chips2/set2/vehicle_chip_858.png',\n",
       " './vehicle_chips2/set2/vehicle_chip_870.png',\n",
       " './vehicle_chips2/set2/vehicle_chip_864.png',\n",
       " './vehicle_chips2/set2/vehicle_chip_865.png',\n",
       " './vehicle_chips2/set2/vehicle_chip_871.png',\n",
       " './vehicle_chips2/set2/vehicle_chip_859.png',\n",
       " './vehicle_chips2/set2/vehicle_chip_681.png',\n",
       " './vehicle_chips2/set2/vehicle_chip_695.png',\n",
       " './vehicle_chips2/set2/vehicle_chip_642.png',\n",
       " './vehicle_chips2/set2/vehicle_chip_656.png',\n",
       " './vehicle_chips2/set2/vehicle_chip_508.png',\n",
       " './vehicle_chips2/set2/vehicle_chip_534.png',\n",
       " './vehicle_chips2/set2/vehicle_chip_520.png',\n",
       " './vehicle_chips2/set2/vehicle_chip_911.png',\n",
       " './vehicle_chips2/set2/vehicle_chip_905.png',\n",
       " './vehicle_chips2/set2/vehicle_chip_939.png',\n",
       " './vehicle_chips2/set2/vehicle_chip_736.png',\n",
       " './vehicle_chips2/set2/vehicle_chip_722.png',\n",
       " './vehicle_chips2/set2/vehicle_chip_726.png',\n",
       " './vehicle_chips2/set2/vehicle_chip_732.png',\n",
       " './vehicle_chips2/set2/vehicle_chip_901.png',\n",
       " './vehicle_chips2/set2/vehicle_chip_915.png',\n",
       " './vehicle_chips2/set2/vehicle_chip_929.png',\n",
       " './vehicle_chips2/set2/vehicle_chip_518.png',\n",
       " './vehicle_chips2/set2/vehicle_chip_524.png',\n",
       " './vehicle_chips2/set2/vehicle_chip_530.png',\n",
       " './vehicle_chips2/set2/vehicle_chip_652.png',\n",
       " './vehicle_chips2/set2/vehicle_chip_646.png',\n",
       " './vehicle_chips2/set2/vehicle_chip_875.png',\n",
       " './vehicle_chips2/set2/vehicle_chip_861.png',\n",
       " './vehicle_chips2/set2/vehicle_chip_691.png',\n",
       " './vehicle_chips2/set2/vehicle_chip_849.png',\n",
       " './vehicle_chips2/set2/vehicle_chip_685.png',\n",
       " './vehicle_chips2/set2/vehicle_chip_684.png',\n",
       " './vehicle_chips2/set2/vehicle_chip_848.png',\n",
       " './vehicle_chips2/set2/vehicle_chip_690.png',\n",
       " './vehicle_chips2/set2/vehicle_chip_860.png',\n",
       " './vehicle_chips2/set2/vehicle_chip_874.png',\n",
       " './vehicle_chips2/set2/vehicle_chip_647.png',\n",
       " './vehicle_chips2/set2/vehicle_chip_653.png',\n",
       " './vehicle_chips2/set2/vehicle_chip_531.png',\n",
       " './vehicle_chips2/set2/vehicle_chip_525.png',\n",
       " './vehicle_chips2/set2/vehicle_chip_519.png',\n",
       " './vehicle_chips2/set2/vehicle_chip_928.png',\n",
       " './vehicle_chips2/set2/vehicle_chip_914.png',\n",
       " './vehicle_chips2/set2/vehicle_chip_900.png',\n",
       " './vehicle_chips2/set2/vehicle_chip_733.png',\n",
       " './vehicle_chips2/set2/vehicle_chip_727.png',\n",
       " './vehicle_chips2/set2/vehicle_chip_719.png',\n",
       " './vehicle_chips2/set2/vehicle_chip_731.png',\n",
       " './vehicle_chips2/set2/vehicle_chip_725.png',\n",
       " './vehicle_chips2/set2/vehicle_chip_916.png',\n",
       " './vehicle_chips2/set2/vehicle_chip_902.png',\n",
       " './vehicle_chips2/set2/vehicle_chip_533.png',\n",
       " './vehicle_chips2/set2/vehicle_chip_527.png',\n",
       " './vehicle_chips2/set2/vehicle_chip_679.png',\n",
       " './vehicle_chips2/set2/vehicle_chip_645.png',\n",
       " './vehicle_chips2/set2/vehicle_chip_889.png',\n",
       " './vehicle_chips2/set2/vehicle_chip_651.png',\n",
       " './vehicle_chips2/set2/vehicle_chip_862.png',\n",
       " './vehicle_chips2/set2/vehicle_chip_876.png',\n",
       " './vehicle_chips2/set2/vehicle_chip_686.png',\n",
       " './vehicle_chips2/set2/vehicle_chip_692.png',\n",
       " './vehicle_chips2/set2/vehicle_chip_693.png',\n",
       " './vehicle_chips2/set2/vehicle_chip_687.png',\n",
       " './vehicle_chips2/set2/vehicle_chip_877.png',\n",
       " './vehicle_chips2/set2/vehicle_chip_863.png',\n",
       " './vehicle_chips2/set2/vehicle_chip_650.png',\n",
       " './vehicle_chips2/set2/vehicle_chip_888.png',\n",
       " './vehicle_chips2/set2/vehicle_chip_644.png',\n",
       " './vehicle_chips2/set2/vehicle_chip_678.png',\n",
       " './vehicle_chips2/set2/vehicle_chip_526.png',\n",
       " './vehicle_chips2/set2/vehicle_chip_532.png',\n",
       " './vehicle_chips2/set2/vehicle_chip_903.png',\n",
       " './vehicle_chips2/set2/vehicle_chip_917.png',\n",
       " './vehicle_chips2/set2/vehicle_chip_724.png',\n",
       " './vehicle_chips2/set2/vehicle_chip_730.png',\n",
       " './vehicle_chips2/set2/vehicle_chip_718.png',\n",
       " './vehicle_chips2/set5/vehicle_chip_1825.png',\n",
       " './vehicle_chips2/set5/vehicle_chip_1831.png',\n",
       " './vehicle_chips2/set5/vehicle_chip_1819.png',\n",
       " './vehicle_chips2/set5/vehicle_chip_2135.png',\n",
       " './vehicle_chips2/set5/vehicle_chip_2121.png',\n",
       " './vehicle_chips2/set5/vehicle_chip_2109.png',\n",
       " './vehicle_chips2/set5/vehicle_chip_2082.png',\n",
       " './vehicle_chips2/set5/vehicle_chip_2096.png',\n",
       " './vehicle_chips2/set5/vehicle_chip_2041.png',\n",
       " './vehicle_chips2/set5/vehicle_chip_2055.png',\n",
       " './vehicle_chips2/set5/vehicle_chip_2069.png',\n",
       " './vehicle_chips2/set5/vehicle_chip_1951.png',\n",
       " './vehicle_chips2/set5/vehicle_chip_1945.png',\n",
       " './vehicle_chips2/set5/vehicle_chip_1979.png',\n",
       " './vehicle_chips2/set5/vehicle_chip_2243.png',\n",
       " './vehicle_chips2/set5/vehicle_chip_1992.png',\n",
       " './vehicle_chips2/set5/vehicle_chip_1986.png',\n",
       " './vehicle_chips2/set5/vehicle_chip_2257.png',\n",
       " './vehicle_chips2/set5/vehicle_chip_2256.png',\n",
       " './vehicle_chips2/set5/vehicle_chip_1987.png',\n",
       " './vehicle_chips2/set5/vehicle_chip_1993.png',\n",
       " './vehicle_chips2/set5/vehicle_chip_2242.png',\n",
       " './vehicle_chips2/set5/vehicle_chip_1978.png',\n",
       " './vehicle_chips2/set5/vehicle_chip_1944.png',\n",
       " './vehicle_chips2/set5/vehicle_chip_1950.png',\n",
       " './vehicle_chips2/set5/vehicle_chip_2068.png',\n",
       " './vehicle_chips2/set5/vehicle_chip_2054.png',\n",
       " './vehicle_chips2/set5/vehicle_chip_2040.png',\n",
       " './vehicle_chips2/set5/vehicle_chip_2097.png',\n",
       " './vehicle_chips2/set5/vehicle_chip_2083.png',\n",
       " './vehicle_chips2/set5/vehicle_chip_2108.png',\n",
       " './vehicle_chips2/set5/vehicle_chip_2120.png',\n",
       " './vehicle_chips2/set5/vehicle_chip_2134.png',\n",
       " './vehicle_chips2/set5/vehicle_chip_1818.png',\n",
       " './vehicle_chips2/set5/vehicle_chip_1830.png',\n",
       " './vehicle_chips2/set5/vehicle_chip_1824.png',\n",
       " './vehicle_chips2/set5/vehicle_chip_1832.png',\n",
       " './vehicle_chips2/set5/vehicle_chip_1826.png',\n",
       " './vehicle_chips2/set5/vehicle_chip_2122.png',\n",
       " './vehicle_chips2/set5/vehicle_chip_2136.png',\n",
       " './vehicle_chips2/set5/vehicle_chip_2095.png',\n",
       " './vehicle_chips2/set5/vehicle_chip_2081.png',\n",
       " './vehicle_chips2/set5/vehicle_chip_2056.png',\n",
       " './vehicle_chips2/set5/vehicle_chip_2042.png',\n",
       " './vehicle_chips2/set5/vehicle_chip_1946.png',\n",
       " './vehicle_chips2/set5/vehicle_chip_1952.png',\n",
       " './vehicle_chips2/set5/vehicle_chip_1985.png',\n",
       " './vehicle_chips2/set5/vehicle_chip_2254.png',\n",
       " './vehicle_chips2/set5/vehicle_chip_2240.png',\n",
       " './vehicle_chips2/set5/vehicle_chip_1991.png',\n",
       " './vehicle_chips2/set5/vehicle_chip_1990.png',\n",
       " './vehicle_chips2/set5/vehicle_chip_2241.png',\n",
       " './vehicle_chips2/set5/vehicle_chip_2255.png',\n",
       " './vehicle_chips2/set5/vehicle_chip_1984.png',\n",
       " './vehicle_chips2/set5/vehicle_chip_1953.png',\n",
       " './vehicle_chips2/set5/vehicle_chip_1947.png',\n",
       " './vehicle_chips2/set5/vehicle_chip_2043.png',\n",
       " './vehicle_chips2/set5/vehicle_chip_2057.png',\n",
       " './vehicle_chips2/set5/vehicle_chip_2080.png',\n",
       " './vehicle_chips2/set5/vehicle_chip_2094.png',\n",
       " './vehicle_chips2/set5/vehicle_chip_2137.png',\n",
       " './vehicle_chips2/set5/vehicle_chip_2123.png',\n",
       " './vehicle_chips2/set5/vehicle_chip_1827.png',\n",
       " './vehicle_chips2/set5/vehicle_chip_1833.png',\n",
       " './vehicle_chips2/set5/vehicle_chip_1837.png',\n",
       " './vehicle_chips2/set5/vehicle_chip_1823.png',\n",
       " './vehicle_chips2/set5/vehicle_chip_2127.png',\n",
       " './vehicle_chips2/set5/vehicle_chip_2133.png',\n",
       " './vehicle_chips2/set5/vehicle_chip_2090.png',\n",
       " './vehicle_chips2/set5/vehicle_chip_2084.png',\n",
       " './vehicle_chips2/set5/vehicle_chip_2053.png',\n",
       " './vehicle_chips2/set5/vehicle_chip_2047.png',\n",
       " './vehicle_chips2/set5/vehicle_chip_1943.png',\n",
       " './vehicle_chips2/set5/vehicle_chip_1957.png',\n",
       " './vehicle_chips2/set5/vehicle_chip_1980.png',\n",
       " './vehicle_chips2/set5/vehicle_chip_2251.png',\n",
       " './vehicle_chips2/set5/vehicle_chip_2245.png',\n",
       " './vehicle_chips2/set5/vehicle_chip_1994.png',\n",
       " './vehicle_chips2/set5/vehicle_chip_1995.png',\n",
       " './vehicle_chips2/set5/vehicle_chip_2244.png',\n",
       " './vehicle_chips2/set5/vehicle_chip_2250.png',\n",
       " './vehicle_chips2/set5/vehicle_chip_1981.png',\n",
       " './vehicle_chips2/set5/vehicle_chip_1956.png',\n",
       " './vehicle_chips2/set5/vehicle_chip_1942.png',\n",
       " './vehicle_chips2/set5/vehicle_chip_2046.png',\n",
       " './vehicle_chips2/set5/vehicle_chip_2052.png',\n",
       " './vehicle_chips2/set5/vehicle_chip_2085.png',\n",
       " './vehicle_chips2/set5/vehicle_chip_2091.png',\n",
       " './vehicle_chips2/set5/vehicle_chip_2132.png',\n",
       " './vehicle_chips2/set5/vehicle_chip_2126.png',\n",
       " './vehicle_chips2/set5/vehicle_chip_1822.png',\n",
       " './vehicle_chips2/set5/vehicle_chip_1836.png',\n",
       " './vehicle_chips2/set5/vehicle_chip_1808.png',\n",
       " './vehicle_chips2/set5/vehicle_chip_1820.png',\n",
       " './vehicle_chips2/set5/vehicle_chip_1834.png',\n",
       " './vehicle_chips2/set5/vehicle_chip_2118.png',\n",
       " './vehicle_chips2/set5/vehicle_chip_2130.png',\n",
       " './vehicle_chips2/set5/vehicle_chip_2124.png',\n",
       " './vehicle_chips2/set5/vehicle_chip_2087.png',\n",
       " './vehicle_chips2/set5/vehicle_chip_2093.png',\n",
       " './vehicle_chips2/set5/vehicle_chip_2078.png',\n",
       " './vehicle_chips2/set5/vehicle_chip_2044.png',\n",
       " './vehicle_chips2/set5/vehicle_chip_2050.png',\n",
       " './vehicle_chips2/set5/vehicle_chip_1968.png',\n",
       " './vehicle_chips2/set5/vehicle_chip_1954.png',\n",
       " './vehicle_chips2/set5/vehicle_chip_1940.png',\n",
       " './vehicle_chips2/set5/vehicle_chip_1798.png',\n",
       " './vehicle_chips2/set5/vehicle_chip_2246.png',\n",
       " './vehicle_chips2/set5/vehicle_chip_1997.png',\n",
       " './vehicle_chips2/set5/vehicle_chip_1983.png',\n",
       " './vehicle_chips2/set5/vehicle_chip_2252.png',\n",
       " './vehicle_chips2/set5/vehicle_chip_2253.png',\n",
       " './vehicle_chips2/set5/vehicle_chip_1982.png',\n",
       " './vehicle_chips2/set5/vehicle_chip_1996.png',\n",
       " './vehicle_chips2/set5/vehicle_chip_2247.png',\n",
       " './vehicle_chips2/set5/vehicle_chip_1799.png',\n",
       " './vehicle_chips2/set5/vehicle_chip_1941.png',\n",
       " './vehicle_chips2/set5/vehicle_chip_1955.png',\n",
       " './vehicle_chips2/set5/vehicle_chip_1969.png',\n",
       " './vehicle_chips2/set5/vehicle_chip_2051.png',\n",
       " './vehicle_chips2/set5/vehicle_chip_2045.png',\n",
       " './vehicle_chips2/set5/vehicle_chip_2079.png',\n",
       " './vehicle_chips2/set5/vehicle_chip_2092.png',\n",
       " './vehicle_chips2/set5/vehicle_chip_2086.png',\n",
       " './vehicle_chips2/set5/vehicle_chip_2125.png',\n",
       " './vehicle_chips2/set5/vehicle_chip_2131.png',\n",
       " './vehicle_chips2/set5/vehicle_chip_2119.png',\n",
       " './vehicle_chips2/set5/vehicle_chip_1835.png',\n",
       " './vehicle_chips2/set5/vehicle_chip_1821.png',\n",
       " './vehicle_chips2/set5/vehicle_chip_1809.png',\n",
       " './vehicle_chips2/set5/vehicle_chip_1846.png',\n",
       " './vehicle_chips2/set5/vehicle_chip_1852.png',\n",
       " './vehicle_chips2/set5/vehicle_chip_1885.png',\n",
       " './vehicle_chips2/set5/vehicle_chip_1891.png',\n",
       " './vehicle_chips2/set5/vehicle_chip_2195.png',\n",
       " './vehicle_chips2/set5/vehicle_chip_2181.png',\n",
       " './vehicle_chips2/set5/vehicle_chip_2156.png',\n",
       " './vehicle_chips2/set5/vehicle_chip_2142.png',\n",
       " './vehicle_chips2/set5/vehicle_chip_2022.png',\n",
       " './vehicle_chips2/set5/vehicle_chip_2036.png',\n",
       " './vehicle_chips2/set5/vehicle_chip_1932.png',\n",
       " './vehicle_chips2/set5/vehicle_chip_1926.png',\n",
       " './vehicle_chips2/set5/vehicle_chip_2220.png',\n",
       " './vehicle_chips2/set5/vehicle_chip_2234.png',\n",
       " './vehicle_chips2/set5/vehicle_chip_2208.png',\n",
       " './vehicle_chips2/set5/vehicle_chip_2209.png',\n",
       " './vehicle_chips2/set5/vehicle_chip_2235.png',\n",
       " './vehicle_chips2/set5/vehicle_chip_2221.png',\n",
       " './vehicle_chips2/set5/vehicle_chip_1927.png',\n",
       " './vehicle_chips2/set5/vehicle_chip_1933.png',\n",
       " './vehicle_chips2/set5/vehicle_chip_2037.png',\n",
       " './vehicle_chips2/set5/vehicle_chip_2023.png',\n",
       " './vehicle_chips2/set5/vehicle_chip_2143.png',\n",
       " './vehicle_chips2/set5/vehicle_chip_2157.png',\n",
       " './vehicle_chips2/set5/vehicle_chip_2180.png',\n",
       " './vehicle_chips2/set5/vehicle_chip_2194.png',\n",
       " './vehicle_chips2/set5/vehicle_chip_1890.png',\n",
       " './vehicle_chips2/set5/vehicle_chip_1884.png',\n",
       " './vehicle_chips2/set5/vehicle_chip_1853.png',\n",
       " './vehicle_chips2/set5/vehicle_chip_1847.png',\n",
       " './vehicle_chips2/set5/vehicle_chip_1851.png',\n",
       " './vehicle_chips2/set5/vehicle_chip_1845.png',\n",
       " './vehicle_chips2/set5/vehicle_chip_1879.png',\n",
       " './vehicle_chips2/set5/vehicle_chip_1892.png',\n",
       " './vehicle_chips2/set5/vehicle_chip_1886.png',\n",
       " './vehicle_chips2/set5/vehicle_chip_2182.png',\n",
       " './vehicle_chips2/set5/vehicle_chip_2196.png',\n",
       " './vehicle_chips2/set5/vehicle_chip_2141.png',\n",
       " './vehicle_chips2/set5/vehicle_chip_2155.png',\n",
       " './vehicle_chips2/set5/vehicle_chip_2169.png',\n",
       " './vehicle_chips2/set5/vehicle_chip_2035.png',\n",
       " './vehicle_chips2/set5/vehicle_chip_2021.png',\n",
       " './vehicle_chips2/set5/vehicle_chip_2009.png',\n",
       " './vehicle_chips2/set5/vehicle_chip_1925.png',\n",
       " './vehicle_chips2/set5/vehicle_chip_1931.png',\n",
       " './vehicle_chips2/set5/vehicle_chip_1919.png',\n",
       " './vehicle_chips2/set5/vehicle_chip_2237.png',\n",
       " './vehicle_chips2/set5/vehicle_chip_2223.png',\n",
       " './vehicle_chips2/set5/vehicle_chip_2222.png',\n",
       " './vehicle_chips2/set5/vehicle_chip_2236.png',\n",
       " './vehicle_chips2/set5/vehicle_chip_1918.png',\n",
       " './vehicle_chips2/set5/vehicle_chip_1930.png',\n",
       " './vehicle_chips2/set5/vehicle_chip_1924.png',\n",
       " './vehicle_chips2/set5/vehicle_chip_2008.png',\n",
       " './vehicle_chips2/set5/vehicle_chip_2020.png',\n",
       " './vehicle_chips2/set5/vehicle_chip_2034.png',\n",
       " './vehicle_chips2/set5/vehicle_chip_2168.png',\n",
       " './vehicle_chips2/set5/vehicle_chip_2154.png',\n",
       " './vehicle_chips2/set5/vehicle_chip_2140.png',\n",
       " './vehicle_chips2/set5/vehicle_chip_2197.png',\n",
       " './vehicle_chips2/set5/vehicle_chip_2183.png',\n",
       " './vehicle_chips2/set5/vehicle_chip_1887.png',\n",
       " './vehicle_chips2/set5/vehicle_chip_1893.png',\n",
       " './vehicle_chips2/set5/vehicle_chip_1878.png',\n",
       " './vehicle_chips2/set5/vehicle_chip_1844.png',\n",
       " './vehicle_chips2/set5/vehicle_chip_1850.png',\n",
       " './vehicle_chips2/set5/vehicle_chip_1868.png',\n",
       " './vehicle_chips2/set5/vehicle_chip_1854.png',\n",
       " './vehicle_chips2/set5/vehicle_chip_1840.png',\n",
       " './vehicle_chips2/set5/vehicle_chip_1897.png',\n",
       " './vehicle_chips2/set5/vehicle_chip_1883.png',\n",
       " './vehicle_chips2/set5/vehicle_chip_2187.png',\n",
       " './vehicle_chips2/set5/vehicle_chip_2193.png',\n",
       " './vehicle_chips2/set5/vehicle_chip_2178.png',\n",
       " './vehicle_chips2/set5/vehicle_chip_2144.png',\n",
       " './vehicle_chips2/set5/vehicle_chip_2150.png',\n",
       " './vehicle_chips2/set5/vehicle_chip_2018.png',\n",
       " './vehicle_chips2/set5/vehicle_chip_2030.png',\n",
       " './vehicle_chips2/set5/vehicle_chip_2024.png',\n",
       " './vehicle_chips2/set5/vehicle_chip_1908.png',\n",
       " './vehicle_chips2/set5/vehicle_chip_1920.png',\n",
       " './vehicle_chips2/set5/vehicle_chip_1934.png',\n",
       " './vehicle_chips2/set5/vehicle_chip_2232.png',\n",
       " './vehicle_chips2/set5/vehicle_chip_2226.png',\n",
       " './vehicle_chips2/set5/vehicle_chip_2227.png',\n",
       " './vehicle_chips2/set5/vehicle_chip_2233.png',\n",
       " './vehicle_chips2/set5/vehicle_chip_1935.png',\n",
       " './vehicle_chips2/set5/vehicle_chip_1921.png',\n",
       " './vehicle_chips2/set5/vehicle_chip_1909.png',\n",
       " './vehicle_chips2/set5/vehicle_chip_2025.png',\n",
       " './vehicle_chips2/set5/vehicle_chip_2031.png',\n",
       " './vehicle_chips2/set5/vehicle_chip_2019.png',\n",
       " './vehicle_chips2/set5/vehicle_chip_2151.png',\n",
       " './vehicle_chips2/set5/vehicle_chip_2145.png',\n",
       " './vehicle_chips2/set5/vehicle_chip_2179.png',\n",
       " './vehicle_chips2/set5/vehicle_chip_2192.png',\n",
       " './vehicle_chips2/set5/vehicle_chip_2186.png',\n",
       " './vehicle_chips2/set5/vehicle_chip_1882.png',\n",
       " './vehicle_chips2/set5/vehicle_chip_1896.png',\n",
       " './vehicle_chips2/set5/vehicle_chip_1841.png',\n",
       " './vehicle_chips2/set5/vehicle_chip_1855.png',\n",
       " './vehicle_chips2/set5/vehicle_chip_1869.png',\n",
       " './vehicle_chips2/set5/vehicle_chip_1843.png',\n",
       " './vehicle_chips2/set5/vehicle_chip_1857.png',\n",
       " './vehicle_chips2/set5/vehicle_chip_1880.png',\n",
       " './vehicle_chips2/set5/vehicle_chip_1894.png',\n",
       " './vehicle_chips2/set5/vehicle_chip_2190.png',\n",
       " './vehicle_chips2/set5/vehicle_chip_2184.png',\n",
       " './vehicle_chips2/set5/vehicle_chip_2153.png',\n",
       " './vehicle_chips2/set5/vehicle_chip_2147.png',\n",
       " './vehicle_chips2/set5/vehicle_chip_2027.png',\n",
       " './vehicle_chips2/set5/vehicle_chip_2033.png',\n",
       " './vehicle_chips2/set5/vehicle_chip_1937.png',\n",
       " './vehicle_chips2/set5/vehicle_chip_1923.png',\n",
       " './vehicle_chips2/set5/vehicle_chip_2219.png',\n",
       " './vehicle_chips2/set5/vehicle_chip_2225.png',\n",
       " './vehicle_chips2/set5/vehicle_chip_2231.png',\n",
       " './vehicle_chips2/set5/vehicle_chip_2230.png',\n",
       " './vehicle_chips2/set5/vehicle_chip_2224.png',\n",
       " './vehicle_chips2/set5/vehicle_chip_2218.png',\n",
       " './vehicle_chips2/set5/vehicle_chip_1922.png',\n",
       " './vehicle_chips2/set5/vehicle_chip_1936.png',\n",
       " './vehicle_chips2/set5/vehicle_chip_2032.png',\n",
       " './vehicle_chips2/set5/vehicle_chip_2026.png',\n",
       " './vehicle_chips2/set5/vehicle_chip_2146.png',\n",
       " './vehicle_chips2/set5/vehicle_chip_2152.png',\n",
       " './vehicle_chips2/set5/vehicle_chip_2185.png',\n",
       " './vehicle_chips2/set5/vehicle_chip_2191.png',\n",
       " './vehicle_chips2/set5/vehicle_chip_1895.png',\n",
       " './vehicle_chips2/set5/vehicle_chip_1881.png',\n",
       " './vehicle_chips2/set5/vehicle_chip_1856.png',\n",
       " './vehicle_chips2/set5/vehicle_chip_1842.png',\n",
       " './vehicle_chips2/set5/vehicle_chip_1867.png',\n",
       " './vehicle_chips2/set5/vehicle_chip_1873.png',\n",
       " './vehicle_chips2/set5/vehicle_chip_1898.png',\n",
       " './vehicle_chips2/set5/vehicle_chip_2188.png',\n",
       " './vehicle_chips2/set5/vehicle_chip_2177.png',\n",
       " './vehicle_chips2/set5/vehicle_chip_2163.png',\n",
       " './vehicle_chips2/set5/vehicle_chip_2003.png',\n",
       " './vehicle_chips2/set5/vehicle_chip_2017.png',\n",
       " './vehicle_chips2/set5/vehicle_chip_1913.png',\n",
       " './vehicle_chips2/set5/vehicle_chip_1907.png',\n",
       " './vehicle_chips2/set5/vehicle_chip_2201.png',\n",
       " './vehicle_chips2/set5/vehicle_chip_2215.png',\n",
       " './vehicle_chips2/set5/vehicle_chip_2229.png',\n",
       " './vehicle_chips2/set5/vehicle_chip_2228.png',\n",
       " './vehicle_chips2/set5/vehicle_chip_2214.png',\n",
       " './vehicle_chips2/set5/vehicle_chip_2200.png',\n",
       " './vehicle_chips2/set5/vehicle_chip_1906.png',\n",
       " './vehicle_chips2/set5/vehicle_chip_1912.png',\n",
       " './vehicle_chips2/set5/vehicle_chip_2016.png',\n",
       " './vehicle_chips2/set5/vehicle_chip_2002.png',\n",
       " './vehicle_chips2/set5/vehicle_chip_2162.png',\n",
       " './vehicle_chips2/set5/vehicle_chip_2176.png',\n",
       " './vehicle_chips2/set5/vehicle_chip_2189.png',\n",
       " './vehicle_chips2/set5/vehicle_chip_1899.png',\n",
       " './vehicle_chips2/set5/vehicle_chip_1872.png',\n",
       " './vehicle_chips2/set5/vehicle_chip_1866.png',\n",
       " './vehicle_chips2/set5/vehicle_chip_1870.png',\n",
       " './vehicle_chips2/set5/vehicle_chip_1864.png',\n",
       " './vehicle_chips2/set5/vehicle_chip_1858.png',\n",
       " './vehicle_chips2/set5/vehicle_chip_2160.png',\n",
       " './vehicle_chips2/set5/vehicle_chip_2174.png',\n",
       " './vehicle_chips2/set5/vehicle_chip_2148.png',\n",
       " './vehicle_chips2/set5/vehicle_chip_2014.png',\n",
       " './vehicle_chips2/set5/vehicle_chip_2000.png',\n",
       " './vehicle_chips2/set5/vehicle_chip_2028.png',\n",
       " './vehicle_chips2/set5/vehicle_chip_1904.png',\n",
       " './vehicle_chips2/set5/vehicle_chip_1910.png',\n",
       " './vehicle_chips2/set5/vehicle_chip_1938.png',\n",
       " './vehicle_chips2/set5/vehicle_chip_2216.png',\n",
       " './vehicle_chips2/set5/vehicle_chip_2202.png',\n",
       " './vehicle_chips2/set5/vehicle_chip_2203.png',\n",
       " './vehicle_chips2/set5/vehicle_chip_2217.png',\n",
       " './vehicle_chips2/set5/vehicle_chip_1939.png',\n",
       " './vehicle_chips2/set5/vehicle_chip_1911.png',\n",
       " './vehicle_chips2/set5/vehicle_chip_1905.png',\n",
       " './vehicle_chips2/set5/vehicle_chip_2029.png',\n",
       " './vehicle_chips2/set5/vehicle_chip_2001.png',\n",
       " './vehicle_chips2/set5/vehicle_chip_2015.png',\n",
       " './vehicle_chips2/set5/vehicle_chip_2149.png',\n",
       " './vehicle_chips2/set5/vehicle_chip_2175.png',\n",
       " './vehicle_chips2/set5/vehicle_chip_2161.png',\n",
       " './vehicle_chips2/set5/vehicle_chip_1859.png',\n",
       " './vehicle_chips2/set5/vehicle_chip_1865.png',\n",
       " './vehicle_chips2/set5/vehicle_chip_1871.png',\n",
       " './vehicle_chips2/set5/vehicle_chip_1849.png',\n",
       " './vehicle_chips2/set5/vehicle_chip_1875.png',\n",
       " './vehicle_chips2/set5/vehicle_chip_1861.png',\n",
       " './vehicle_chips2/set5/vehicle_chip_2159.png',\n",
       " './vehicle_chips2/set5/vehicle_chip_2165.png',\n",
       " './vehicle_chips2/set5/vehicle_chip_2171.png',\n",
       " './vehicle_chips2/set5/vehicle_chip_2039.png',\n",
       " './vehicle_chips2/set5/vehicle_chip_2011.png',\n",
       " './vehicle_chips2/set5/vehicle_chip_2005.png',\n",
       " './vehicle_chips2/set5/vehicle_chip_1929.png',\n",
       " './vehicle_chips2/set5/vehicle_chip_1901.png',\n",
       " './vehicle_chips2/set5/vehicle_chip_1915.png',\n",
       " './vehicle_chips2/set5/vehicle_chip_2213.png',\n",
       " './vehicle_chips2/set5/vehicle_chip_2207.png',\n",
       " './vehicle_chips2/set5/vehicle_chip_2206.png',\n",
       " './vehicle_chips2/set5/vehicle_chip_2212.png',\n",
       " './vehicle_chips2/set5/vehicle_chip_1914.png',\n",
       " './vehicle_chips2/set5/vehicle_chip_1900.png',\n",
       " './vehicle_chips2/set5/vehicle_chip_1928.png',\n",
       " './vehicle_chips2/set5/vehicle_chip_2004.png',\n",
       " './vehicle_chips2/set5/vehicle_chip_2010.png',\n",
       " './vehicle_chips2/set5/vehicle_chip_2038.png',\n",
       " './vehicle_chips2/set5/vehicle_chip_2170.png',\n",
       " './vehicle_chips2/set5/vehicle_chip_2164.png',\n",
       " './vehicle_chips2/set5/vehicle_chip_2158.png',\n",
       " './vehicle_chips2/set5/vehicle_chip_1860.png',\n",
       " './vehicle_chips2/set5/vehicle_chip_1874.png',\n",
       " './vehicle_chips2/set5/vehicle_chip_1848.png',\n",
       " './vehicle_chips2/set5/vehicle_chip_1862.png',\n",
       " './vehicle_chips2/set5/vehicle_chip_1876.png',\n",
       " './vehicle_chips2/set5/vehicle_chip_1889.png',\n",
       " './vehicle_chips2/set5/vehicle_chip_2199.png',\n",
       " './vehicle_chips2/set5/vehicle_chip_2172.png',\n",
       " './vehicle_chips2/set5/vehicle_chip_2166.png',\n",
       " './vehicle_chips2/set5/vehicle_chip_2006.png',\n",
       " './vehicle_chips2/set5/vehicle_chip_2012.png',\n",
       " './vehicle_chips2/set5/vehicle_chip_1916.png',\n",
       " './vehicle_chips2/set5/vehicle_chip_1902.png',\n",
       " './vehicle_chips2/set5/vehicle_chip_2238.png',\n",
       " './vehicle_chips2/set5/vehicle_chip_2204.png',\n",
       " './vehicle_chips2/set5/vehicle_chip_2210.png',\n",
       " './vehicle_chips2/set5/vehicle_chip_2211.png',\n",
       " './vehicle_chips2/set5/vehicle_chip_2205.png',\n",
       " './vehicle_chips2/set5/vehicle_chip_2239.png',\n",
       " './vehicle_chips2/set5/vehicle_chip_1903.png',\n",
       " './vehicle_chips2/set5/vehicle_chip_1917.png',\n",
       " './vehicle_chips2/set5/vehicle_chip_2013.png',\n",
       " './vehicle_chips2/set5/vehicle_chip_2007.png',\n",
       " './vehicle_chips2/set5/vehicle_chip_2167.png',\n",
       " './vehicle_chips2/set5/vehicle_chip_2173.png',\n",
       " './vehicle_chips2/set5/vehicle_chip_2198.png',\n",
       " './vehicle_chips2/set5/vehicle_chip_1888.png',\n",
       " './vehicle_chips2/set5/vehicle_chip_1877.png',\n",
       " './vehicle_chips2/set5/vehicle_chip_1863.png',\n",
       " './vehicle_chips2/set5/vehicle_chip_1804.png',\n",
       " './vehicle_chips2/set5/vehicle_chip_1810.png',\n",
       " './vehicle_chips2/set5/vehicle_chip_1838.png',\n",
       " './vehicle_chips2/set5/vehicle_chip_2114.png',\n",
       " './vehicle_chips2/set5/vehicle_chip_2100.png',\n",
       " './vehicle_chips2/set5/vehicle_chip_2128.png',\n",
       " './vehicle_chips2/set5/vehicle_chip_2060.png',\n",
       " './vehicle_chips2/set5/vehicle_chip_2074.png',\n",
       " './vehicle_chips2/set5/vehicle_chip_2048.png',\n",
       " './vehicle_chips2/set5/vehicle_chip_1970.png',\n",
       " './vehicle_chips2/set5/vehicle_chip_1964.png',\n",
       " './vehicle_chips2/set5/vehicle_chip_1794.png',\n",
       " './vehicle_chips2/set5/vehicle_chip_1958.png',\n",
       " './vehicle_chips2/set5/vehicle_chip_2262.png',\n",
       " './vehicle_chips2/set5/vehicle_chip_2263.png',\n",
       " './vehicle_chips2/set5/vehicle_chip_1959.png',\n",
       " './vehicle_chips2/set5/vehicle_chip_1795.png',\n",
       " './vehicle_chips2/set5/vehicle_chip_1965.png',\n",
       " './vehicle_chips2/set5/vehicle_chip_1971.png',\n",
       " './vehicle_chips2/set5/vehicle_chip_2049.png',\n",
       " './vehicle_chips2/set5/vehicle_chip_2075.png',\n",
       " './vehicle_chips2/set5/vehicle_chip_2061.png',\n",
       " './vehicle_chips2/set5/vehicle_chip_2129.png',\n",
       " './vehicle_chips2/set5/vehicle_chip_2101.png',\n",
       " './vehicle_chips2/set5/vehicle_chip_2115.png',\n",
       " './vehicle_chips2/set5/vehicle_chip_1839.png',\n",
       " './vehicle_chips2/set5/vehicle_chip_1811.png',\n",
       " './vehicle_chips2/set5/vehicle_chip_1805.png',\n",
       " './vehicle_chips2/set5/vehicle_chip_1813.png',\n",
       " './vehicle_chips2/set5/vehicle_chip_1807.png',\n",
       " './vehicle_chips2/set5/vehicle_chip_2103.png',\n",
       " './vehicle_chips2/set5/vehicle_chip_2117.png',\n",
       " './vehicle_chips2/set5/vehicle_chip_2088.png',\n",
       " './vehicle_chips2/set5/vehicle_chip_2077.png',\n",
       " './vehicle_chips2/set5/vehicle_chip_2063.png',\n",
       " './vehicle_chips2/set5/vehicle_chip_1967.png',\n",
       " './vehicle_chips2/set5/vehicle_chip_1973.png',\n",
       " './vehicle_chips2/set5/vehicle_chip_1797.png',\n",
       " './vehicle_chips2/set5/vehicle_chip_2261.png',\n",
       " './vehicle_chips2/set5/vehicle_chip_1998.png',\n",
       " './vehicle_chips2/set5/vehicle_chip_2249.png',\n",
       " './vehicle_chips2/set5/vehicle_chip_2248.png',\n",
       " './vehicle_chips2/set5/vehicle_chip_1999.png',\n",
       " './vehicle_chips2/set5/vehicle_chip_2260.png',\n",
       " './vehicle_chips2/set5/vehicle_chip_1796.png',\n",
       " './vehicle_chips2/set5/vehicle_chip_1972.png',\n",
       " './vehicle_chips2/set5/vehicle_chip_1966.png',\n",
       " './vehicle_chips2/set5/vehicle_chip_2062.png',\n",
       " './vehicle_chips2/set5/vehicle_chip_2076.png',\n",
       " './vehicle_chips2/set5/vehicle_chip_2089.png',\n",
       " './vehicle_chips2/set5/vehicle_chip_2116.png',\n",
       " './vehicle_chips2/set5/vehicle_chip_2102.png',\n",
       " './vehicle_chips2/set5/vehicle_chip_1806.png',\n",
       " './vehicle_chips2/set5/vehicle_chip_1812.png',\n",
       " './vehicle_chips2/set5/vehicle_chip_1816.png',\n",
       " './vehicle_chips2/set5/vehicle_chip_1802.png',\n",
       " './vehicle_chips2/set5/vehicle_chip_2106.png',\n",
       " './vehicle_chips2/set5/vehicle_chip_2112.png',\n",
       " './vehicle_chips2/set5/vehicle_chip_2099.png',\n",
       " './vehicle_chips2/set5/vehicle_chip_2072.png',\n",
       " './vehicle_chips2/set5/vehicle_chip_2066.png',\n",
       " './vehicle_chips2/set5/vehicle_chip_1962.png',\n",
       " './vehicle_chips2/set5/vehicle_chip_1976.png',\n",
       " './vehicle_chips2/set5/vehicle_chip_2258.png',\n",
       " './vehicle_chips2/set5/vehicle_chip_1989.png',\n",
       " './vehicle_chips2/set5/vehicle_chip_2264.png',\n",
       " './vehicle_chips2/set5/vehicle_chip_2265.png',\n",
       " './vehicle_chips2/set5/vehicle_chip_1988.png',\n",
       " './vehicle_chips2/set5/vehicle_chip_2259.png',\n",
       " './vehicle_chips2/set5/vehicle_chip_1977.png',\n",
       " './vehicle_chips2/set5/vehicle_chip_1963.png',\n",
       " './vehicle_chips2/set5/vehicle_chip_2067.png',\n",
       " './vehicle_chips2/set5/vehicle_chip_2073.png',\n",
       " './vehicle_chips2/set5/vehicle_chip_2098.png',\n",
       " './vehicle_chips2/set5/vehicle_chip_2113.png',\n",
       " './vehicle_chips2/set5/vehicle_chip_2107.png',\n",
       " './vehicle_chips2/set5/vehicle_chip_1803.png',\n",
       " './vehicle_chips2/set5/vehicle_chip_1817.png',\n",
       " './vehicle_chips2/set5/vehicle_chip_1829.png',\n",
       " './vehicle_chips2/set5/vehicle_chip_1801.png',\n",
       " './vehicle_chips2/set5/vehicle_chip_1815.png',\n",
       " './vehicle_chips2/set5/vehicle_chip_2139.png',\n",
       " './vehicle_chips2/set5/vehicle_chip_2111.png',\n",
       " './vehicle_chips2/set5/vehicle_chip_2105.png',\n",
       " './vehicle_chips2/set5/vehicle_chip_2059.png',\n",
       " './vehicle_chips2/set5/vehicle_chip_2065.png',\n",
       " './vehicle_chips2/set5/vehicle_chip_2071.png',\n",
       " './vehicle_chips2/set5/vehicle_chip_1949.png',\n",
       " './vehicle_chips2/set5/vehicle_chip_1975.png',\n",
       " './vehicle_chips2/set5/vehicle_chip_1961.png',\n",
       " './vehicle_chips2/set5/vehicle_chip_1960.png',\n",
       " './vehicle_chips2/set5/vehicle_chip_1974.png',\n",
       " './vehicle_chips2/set5/vehicle_chip_1948.png',\n",
       " './vehicle_chips2/set5/vehicle_chip_2070.png',\n",
       " './vehicle_chips2/set5/vehicle_chip_2064.png',\n",
       " './vehicle_chips2/set5/vehicle_chip_2058.png',\n",
       " './vehicle_chips2/set5/vehicle_chip_2104.png',\n",
       " './vehicle_chips2/set5/vehicle_chip_2110.png',\n",
       " './vehicle_chips2/set5/vehicle_chip_2138.png',\n",
       " './vehicle_chips2/set5/vehicle_chip_1814.png',\n",
       " './vehicle_chips2/set5/vehicle_chip_1800.png',\n",
       " './vehicle_chips2/set5/vehicle_chip_1828.png',\n",
       " './vehicle_chips2/set4/vehicle_chip_1602.png',\n",
       " './vehicle_chips2/set4/vehicle_chip_1616.png',\n",
       " './vehicle_chips2/set4/vehicle_chip_1399.png',\n",
       " './vehicle_chips2/set4/vehicle_chip_1428.png',\n",
       " './vehicle_chips2/set4/vehicle_chip_1400.png',\n",
       " './vehicle_chips2/set4/vehicle_chip_1414.png',\n",
       " './vehicle_chips2/set4/vehicle_chip_1548.png',\n",
       " './vehicle_chips2/set4/vehicle_chip_1574.png',\n",
       " './vehicle_chips2/set4/vehicle_chip_1560.png',\n",
       " './vehicle_chips2/set4/vehicle_chip_1789.png',\n",
       " './vehicle_chips2/set4/vehicle_chip_1776.png',\n",
       " './vehicle_chips2/set4/vehicle_chip_1762.png',\n",
       " './vehicle_chips2/set4/vehicle_chip_1763.png',\n",
       " './vehicle_chips2/set4/vehicle_chip_1777.png',\n",
       " './vehicle_chips2/set4/vehicle_chip_1788.png',\n",
       " './vehicle_chips2/set4/vehicle_chip_1561.png',\n",
       " './vehicle_chips2/set4/vehicle_chip_1575.png',\n",
       " './vehicle_chips2/set4/vehicle_chip_1549.png',\n",
       " './vehicle_chips2/set4/vehicle_chip_1415.png',\n",
       " './vehicle_chips2/set4/vehicle_chip_1401.png',\n",
       " './vehicle_chips2/set4/vehicle_chip_1429.png',\n",
       " './vehicle_chips2/set4/vehicle_chip_1398.png',\n",
       " './vehicle_chips2/set4/vehicle_chip_1617.png',\n",
       " './vehicle_chips2/set4/vehicle_chip_1603.png',\n",
       " './vehicle_chips2/set4/vehicle_chip_1629.png',\n",
       " './vehicle_chips2/set4/vehicle_chip_1615.png',\n",
       " './vehicle_chips2/set4/vehicle_chip_1601.png',\n",
       " './vehicle_chips2/set4/vehicle_chip_1417.png',\n",
       " './vehicle_chips2/set4/vehicle_chip_1403.png',\n",
       " './vehicle_chips2/set4/vehicle_chip_1588.png',\n",
       " './vehicle_chips2/set4/vehicle_chip_1563.png',\n",
       " './vehicle_chips2/set4/vehicle_chip_1577.png',\n",
       " './vehicle_chips2/set4/vehicle_chip_1749.png',\n",
       " './vehicle_chips2/set4/vehicle_chip_1761.png',\n",
       " './vehicle_chips2/set4/vehicle_chip_1775.png',\n",
       " ...]"
      ]
     },
     "execution_count": 7,
     "metadata": {},
     "output_type": "execute_result"
    }
   ],
   "source": [
    "vehicle_images"
   ]
  },
  {
   "cell_type": "code",
   "execution_count": 8,
   "id": "3bdea854",
   "metadata": {},
   "outputs": [
    {
     "data": {
      "text/plain": [
       "3271"
      ]
     },
     "execution_count": 8,
     "metadata": {},
     "output_type": "execute_result"
    }
   ],
   "source": [
    "len(vehicle_images)"
   ]
  },
  {
   "cell_type": "code",
   "execution_count": 9,
   "id": "00dd6820",
   "metadata": {},
   "outputs": [],
   "source": [
    "vehicle_labels = np.ones(shape = (3271))\n",
    "vehicle_labels = vehicle_labels.astype('uint8')"
   ]
  },
  {
   "cell_type": "code",
   "execution_count": 11,
   "id": "ce4f4926",
   "metadata": {},
   "outputs": [],
   "source": [
    "full_set = list(zip(vehicle_images, vehicle_labels))"
   ]
  },
  {
   "cell_type": "code",
   "execution_count": 12,
   "id": "4d28adcf",
   "metadata": {},
   "outputs": [
    {
     "data": {
      "text/html": [
       "<div>\n",
       "<style scoped>\n",
       "    .dataframe tbody tr th:only-of-type {\n",
       "        vertical-align: middle;\n",
       "    }\n",
       "\n",
       "    .dataframe tbody tr th {\n",
       "        vertical-align: top;\n",
       "    }\n",
       "\n",
       "    .dataframe thead th {\n",
       "        text-align: right;\n",
       "    }\n",
       "</style>\n",
       "<table border=\"1\" class=\"dataframe\">\n",
       "  <thead>\n",
       "    <tr style=\"text-align: right;\">\n",
       "      <th></th>\n",
       "      <th>image_names</th>\n",
       "      <th>vehicle_or_not</th>\n",
       "    </tr>\n",
       "  </thead>\n",
       "  <tbody>\n",
       "    <tr>\n",
       "      <th>0</th>\n",
       "      <td>./vehicle_chips2/set2/vehicle_chip_715.png</td>\n",
       "      <td>1</td>\n",
       "    </tr>\n",
       "    <tr>\n",
       "      <th>1</th>\n",
       "      <td>./vehicle_chips2/set2/vehicle_chip_701.png</td>\n",
       "      <td>1</td>\n",
       "    </tr>\n",
       "    <tr>\n",
       "      <th>2</th>\n",
       "      <td>./vehicle_chips2/set2/vehicle_chip_729.png</td>\n",
       "      <td>1</td>\n",
       "    </tr>\n",
       "    <tr>\n",
       "      <th>3</th>\n",
       "      <td>./vehicle_chips2/set2/vehicle_chip_932.png</td>\n",
       "      <td>1</td>\n",
       "    </tr>\n",
       "    <tr>\n",
       "      <th>4</th>\n",
       "      <td>./vehicle_chips2/set2/vehicle_chip_926.png</td>\n",
       "      <td>1</td>\n",
       "    </tr>\n",
       "  </tbody>\n",
       "</table>\n",
       "</div>"
      ],
      "text/plain": [
       "                                  image_names  vehicle_or_not\n",
       "0  ./vehicle_chips2/set2/vehicle_chip_715.png               1\n",
       "1  ./vehicle_chips2/set2/vehicle_chip_701.png               1\n",
       "2  ./vehicle_chips2/set2/vehicle_chip_729.png               1\n",
       "3  ./vehicle_chips2/set2/vehicle_chip_932.png               1\n",
       "4  ./vehicle_chips2/set2/vehicle_chip_926.png               1"
      ]
     },
     "execution_count": 12,
     "metadata": {},
     "output_type": "execute_result"
    }
   ],
   "source": [
    "df = pd.DataFrame(full_set, columns = ['image_names', 'vehicle_or_not'])\n",
    "df.head()"
   ]
  },
  {
   "cell_type": "code",
   "execution_count": null,
   "id": "0376ecc1",
   "metadata": {},
   "outputs": [],
   "source": []
  },
  {
   "cell_type": "code",
   "execution_count": 13,
   "id": "f9cadbd0",
   "metadata": {},
   "outputs": [],
   "source": [
    "tree_images = glob.glob('./tree_chips2/*/*.png')"
   ]
  },
  {
   "cell_type": "code",
   "execution_count": 14,
   "id": "5b290ee4",
   "metadata": {},
   "outputs": [
    {
     "data": {
      "text/plain": [
       "1925"
      ]
     },
     "execution_count": 14,
     "metadata": {},
     "output_type": "execute_result"
    }
   ],
   "source": [
    "len(tree_images)"
   ]
  },
  {
   "cell_type": "code",
   "execution_count": 15,
   "id": "c953abb1",
   "metadata": {},
   "outputs": [],
   "source": [
    "tree_labels = np.zeros(shape = (1925))\n",
    "tree_labels = tree_labels.astype('uint8')"
   ]
  },
  {
   "cell_type": "code",
   "execution_count": 16,
   "id": "42035781",
   "metadata": {},
   "outputs": [],
   "source": [
    "tree_set = list(zip(tree_images, tree_labels))"
   ]
  },
  {
   "cell_type": "code",
   "execution_count": 17,
   "id": "304cb863",
   "metadata": {},
   "outputs": [],
   "source": [
    "df = df.append(pd.DataFrame(tree_set, columns = ['image_names', 'vehicle_or_not'])).reset_index()"
   ]
  },
  {
   "cell_type": "code",
   "execution_count": 18,
   "id": "6da2395d",
   "metadata": {},
   "outputs": [],
   "source": [
    "df = df[['image_names','vehicle_or_not']]"
   ]
  },
  {
   "cell_type": "code",
   "execution_count": 19,
   "id": "fbfca0e3",
   "metadata": {},
   "outputs": [
    {
     "data": {
      "text/html": [
       "<div>\n",
       "<style scoped>\n",
       "    .dataframe tbody tr th:only-of-type {\n",
       "        vertical-align: middle;\n",
       "    }\n",
       "\n",
       "    .dataframe tbody tr th {\n",
       "        vertical-align: top;\n",
       "    }\n",
       "\n",
       "    .dataframe thead th {\n",
       "        text-align: right;\n",
       "    }\n",
       "</style>\n",
       "<table border=\"1\" class=\"dataframe\">\n",
       "  <thead>\n",
       "    <tr style=\"text-align: right;\">\n",
       "      <th></th>\n",
       "      <th>image_names</th>\n",
       "      <th>vehicle_or_not</th>\n",
       "    </tr>\n",
       "  </thead>\n",
       "  <tbody>\n",
       "    <tr>\n",
       "      <th>0</th>\n",
       "      <td>./vehicle_chips2/set2/vehicle_chip_715.png</td>\n",
       "      <td>1</td>\n",
       "    </tr>\n",
       "    <tr>\n",
       "      <th>1</th>\n",
       "      <td>./vehicle_chips2/set2/vehicle_chip_701.png</td>\n",
       "      <td>1</td>\n",
       "    </tr>\n",
       "    <tr>\n",
       "      <th>2</th>\n",
       "      <td>./vehicle_chips2/set2/vehicle_chip_729.png</td>\n",
       "      <td>1</td>\n",
       "    </tr>\n",
       "    <tr>\n",
       "      <th>3</th>\n",
       "      <td>./vehicle_chips2/set2/vehicle_chip_932.png</td>\n",
       "      <td>1</td>\n",
       "    </tr>\n",
       "    <tr>\n",
       "      <th>4</th>\n",
       "      <td>./vehicle_chips2/set2/vehicle_chip_926.png</td>\n",
       "      <td>1</td>\n",
       "    </tr>\n",
       "    <tr>\n",
       "      <th>...</th>\n",
       "      <td>...</td>\n",
       "      <td>...</td>\n",
       "    </tr>\n",
       "    <tr>\n",
       "      <th>5191</th>\n",
       "      <td>./tree_chips2/set1/tree_chip_378.png</td>\n",
       "      <td>0</td>\n",
       "    </tr>\n",
       "    <tr>\n",
       "      <th>5192</th>\n",
       "      <td>./tree_chips2/set1/tree_chip_191.png</td>\n",
       "      <td>0</td>\n",
       "    </tr>\n",
       "    <tr>\n",
       "      <th>5193</th>\n",
       "      <td>./tree_chips2/set1/tree_chip_185.png</td>\n",
       "      <td>0</td>\n",
       "    </tr>\n",
       "    <tr>\n",
       "      <th>5194</th>\n",
       "      <td>./tree_chips2/set1/tree_chip_152.png</td>\n",
       "      <td>0</td>\n",
       "    </tr>\n",
       "    <tr>\n",
       "      <th>5195</th>\n",
       "      <td>./tree_chips2/set1/tree_chip_146.png</td>\n",
       "      <td>0</td>\n",
       "    </tr>\n",
       "  </tbody>\n",
       "</table>\n",
       "<p>5196 rows × 2 columns</p>\n",
       "</div>"
      ],
      "text/plain": [
       "                                     image_names  vehicle_or_not\n",
       "0     ./vehicle_chips2/set2/vehicle_chip_715.png               1\n",
       "1     ./vehicle_chips2/set2/vehicle_chip_701.png               1\n",
       "2     ./vehicle_chips2/set2/vehicle_chip_729.png               1\n",
       "3     ./vehicle_chips2/set2/vehicle_chip_932.png               1\n",
       "4     ./vehicle_chips2/set2/vehicle_chip_926.png               1\n",
       "...                                          ...             ...\n",
       "5191        ./tree_chips2/set1/tree_chip_378.png               0\n",
       "5192        ./tree_chips2/set1/tree_chip_191.png               0\n",
       "5193        ./tree_chips2/set1/tree_chip_185.png               0\n",
       "5194        ./tree_chips2/set1/tree_chip_152.png               0\n",
       "5195        ./tree_chips2/set1/tree_chip_146.png               0\n",
       "\n",
       "[5196 rows x 2 columns]"
      ]
     },
     "execution_count": 19,
     "metadata": {},
     "output_type": "execute_result"
    }
   ],
   "source": [
    "df"
   ]
  },
  {
   "cell_type": "code",
   "execution_count": 20,
   "id": "b8dd9891",
   "metadata": {},
   "outputs": [],
   "source": [
    "# Split data into train-test data sets\n",
    "\n",
    "X = df.loc[:,'image_names']\n",
    "y = df.loc[:,'vehicle_or_not']\n",
    "\n",
    "# Split\n",
    "train_x, val_x, train_y, val_y = train_test_split(X, y, \n",
    "                                                  test_size = 0.1, \n",
    "                                                  random_state = 27, \n",
    "                                                  stratify=y)\n",
    "\n",
    "# Train df\n",
    "df_train = pd.DataFrame(columns=['image_name','category'])\n",
    "df_train['image_name'] = train_x\n",
    "df_train['category'] = train_y\n",
    "\n",
    "# Test df\n",
    "df_test= pd.DataFrame(columns=['image_name','category'])\n",
    "df_test['image_name'] = val_x\n",
    "df_test['category'] = val_y\n",
    "\n",
    "df_train.reset_index(drop=True, inplace=True)\n",
    "df_test.reset_index(drop=True, inplace=True)"
   ]
  },
  {
   "cell_type": "code",
   "execution_count": 21,
   "id": "8456306b",
   "metadata": {},
   "outputs": [
    {
     "data": {
      "text/html": [
       "<div>\n",
       "<style scoped>\n",
       "    .dataframe tbody tr th:only-of-type {\n",
       "        vertical-align: middle;\n",
       "    }\n",
       "\n",
       "    .dataframe tbody tr th {\n",
       "        vertical-align: top;\n",
       "    }\n",
       "\n",
       "    .dataframe thead th {\n",
       "        text-align: right;\n",
       "    }\n",
       "</style>\n",
       "<table border=\"1\" class=\"dataframe\">\n",
       "  <thead>\n",
       "    <tr style=\"text-align: right;\">\n",
       "      <th></th>\n",
       "      <th>image_name</th>\n",
       "      <th>category</th>\n",
       "    </tr>\n",
       "  </thead>\n",
       "  <tbody>\n",
       "    <tr>\n",
       "      <th>0</th>\n",
       "      <td>./vehicle_chips2/set3/vehicle_chip_1126.png</td>\n",
       "      <td>1</td>\n",
       "    </tr>\n",
       "    <tr>\n",
       "      <th>1</th>\n",
       "      <td>./tree_chips2/set2/tree_chip_796.png</td>\n",
       "      <td>0</td>\n",
       "    </tr>\n",
       "    <tr>\n",
       "      <th>2</th>\n",
       "      <td>./tree_chips2/set1/tree_chip_1.png</td>\n",
       "      <td>0</td>\n",
       "    </tr>\n",
       "    <tr>\n",
       "      <th>3</th>\n",
       "      <td>./vehicle_chips2/set7/vehicle_chip_2879.png</td>\n",
       "      <td>1</td>\n",
       "    </tr>\n",
       "    <tr>\n",
       "      <th>4</th>\n",
       "      <td>./vehicle_chips2/set1/vehicle_chip_291.png</td>\n",
       "      <td>1</td>\n",
       "    </tr>\n",
       "    <tr>\n",
       "      <th>...</th>\n",
       "      <td>...</td>\n",
       "      <td>...</td>\n",
       "    </tr>\n",
       "    <tr>\n",
       "      <th>4671</th>\n",
       "      <td>./tree_chips2/set4/tree_chip_1849.png</td>\n",
       "      <td>0</td>\n",
       "    </tr>\n",
       "    <tr>\n",
       "      <th>4672</th>\n",
       "      <td>./tree_chips2/set2/tree_chip_699.png</td>\n",
       "      <td>0</td>\n",
       "    </tr>\n",
       "    <tr>\n",
       "      <th>4673</th>\n",
       "      <td>./vehicle_chips2/set6/vehicle_chip_2650.png</td>\n",
       "      <td>1</td>\n",
       "    </tr>\n",
       "    <tr>\n",
       "      <th>4674</th>\n",
       "      <td>./vehicle_chips2/set7/vehicle_chip_2822.png</td>\n",
       "      <td>1</td>\n",
       "    </tr>\n",
       "    <tr>\n",
       "      <th>4675</th>\n",
       "      <td>./vehicle_chips2/set2/vehicle_chip_858.png</td>\n",
       "      <td>1</td>\n",
       "    </tr>\n",
       "  </tbody>\n",
       "</table>\n",
       "<p>4676 rows × 2 columns</p>\n",
       "</div>"
      ],
      "text/plain": [
       "                                       image_name  category\n",
       "0     ./vehicle_chips2/set3/vehicle_chip_1126.png         1\n",
       "1            ./tree_chips2/set2/tree_chip_796.png         0\n",
       "2              ./tree_chips2/set1/tree_chip_1.png         0\n",
       "3     ./vehicle_chips2/set7/vehicle_chip_2879.png         1\n",
       "4      ./vehicle_chips2/set1/vehicle_chip_291.png         1\n",
       "...                                           ...       ...\n",
       "4671        ./tree_chips2/set4/tree_chip_1849.png         0\n",
       "4672         ./tree_chips2/set2/tree_chip_699.png         0\n",
       "4673  ./vehicle_chips2/set6/vehicle_chip_2650.png         1\n",
       "4674  ./vehicle_chips2/set7/vehicle_chip_2822.png         1\n",
       "4675   ./vehicle_chips2/set2/vehicle_chip_858.png         1\n",
       "\n",
       "[4676 rows x 2 columns]"
      ]
     },
     "execution_count": 21,
     "metadata": {},
     "output_type": "execute_result"
    }
   ],
   "source": [
    "df_train"
   ]
  },
  {
   "cell_type": "code",
   "execution_count": 22,
   "id": "96776c6c",
   "metadata": {},
   "outputs": [
    {
     "data": {
      "text/html": [
       "<div>\n",
       "<style scoped>\n",
       "    .dataframe tbody tr th:only-of-type {\n",
       "        vertical-align: middle;\n",
       "    }\n",
       "\n",
       "    .dataframe tbody tr th {\n",
       "        vertical-align: top;\n",
       "    }\n",
       "\n",
       "    .dataframe thead th {\n",
       "        text-align: right;\n",
       "    }\n",
       "</style>\n",
       "<table border=\"1\" class=\"dataframe\">\n",
       "  <thead>\n",
       "    <tr style=\"text-align: right;\">\n",
       "      <th></th>\n",
       "      <th>image_name</th>\n",
       "      <th>category</th>\n",
       "    </tr>\n",
       "  </thead>\n",
       "  <tbody>\n",
       "    <tr>\n",
       "      <th>0</th>\n",
       "      <td>./tree_chips2/set4/tree_chip_1872.png</td>\n",
       "      <td>0</td>\n",
       "    </tr>\n",
       "    <tr>\n",
       "      <th>1</th>\n",
       "      <td>./vehicle_chips2/set5/vehicle_chip_2161.png</td>\n",
       "      <td>1</td>\n",
       "    </tr>\n",
       "    <tr>\n",
       "      <th>2</th>\n",
       "      <td>./tree_chips2/set3/tree_chip_1308.png</td>\n",
       "      <td>0</td>\n",
       "    </tr>\n",
       "    <tr>\n",
       "      <th>3</th>\n",
       "      <td>./tree_chips2/set4/tree_chip_1588.png</td>\n",
       "      <td>0</td>\n",
       "    </tr>\n",
       "    <tr>\n",
       "      <th>4</th>\n",
       "      <td>./vehicle_chips2/set7/vehicle_chip_3119.png</td>\n",
       "      <td>1</td>\n",
       "    </tr>\n",
       "    <tr>\n",
       "      <th>...</th>\n",
       "      <td>...</td>\n",
       "      <td>...</td>\n",
       "    </tr>\n",
       "    <tr>\n",
       "      <th>515</th>\n",
       "      <td>./vehicle_chips2/set6/vehicle_chip_2528.png</td>\n",
       "      <td>1</td>\n",
       "    </tr>\n",
       "    <tr>\n",
       "      <th>516</th>\n",
       "      <td>./vehicle_chips2/set3/vehicle_chip_1278.png</td>\n",
       "      <td>1</td>\n",
       "    </tr>\n",
       "    <tr>\n",
       "      <th>517</th>\n",
       "      <td>./vehicle_chips2/set7/vehicle_chip_3080.png</td>\n",
       "      <td>1</td>\n",
       "    </tr>\n",
       "    <tr>\n",
       "      <th>518</th>\n",
       "      <td>./tree_chips2/set1/tree_chip_476.png</td>\n",
       "      <td>0</td>\n",
       "    </tr>\n",
       "    <tr>\n",
       "      <th>519</th>\n",
       "      <td>./vehicle_chips2/set1/vehicle_chip_119.png</td>\n",
       "      <td>1</td>\n",
       "    </tr>\n",
       "  </tbody>\n",
       "</table>\n",
       "<p>520 rows × 2 columns</p>\n",
       "</div>"
      ],
      "text/plain": [
       "                                      image_name  category\n",
       "0          ./tree_chips2/set4/tree_chip_1872.png         0\n",
       "1    ./vehicle_chips2/set5/vehicle_chip_2161.png         1\n",
       "2          ./tree_chips2/set3/tree_chip_1308.png         0\n",
       "3          ./tree_chips2/set4/tree_chip_1588.png         0\n",
       "4    ./vehicle_chips2/set7/vehicle_chip_3119.png         1\n",
       "..                                           ...       ...\n",
       "515  ./vehicle_chips2/set6/vehicle_chip_2528.png         1\n",
       "516  ./vehicle_chips2/set3/vehicle_chip_1278.png         1\n",
       "517  ./vehicle_chips2/set7/vehicle_chip_3080.png         1\n",
       "518         ./tree_chips2/set1/tree_chip_476.png         0\n",
       "519   ./vehicle_chips2/set1/vehicle_chip_119.png         1\n",
       "\n",
       "[520 rows x 2 columns]"
      ]
     },
     "execution_count": 22,
     "metadata": {},
     "output_type": "execute_result"
    }
   ],
   "source": [
    "df_test"
   ]
  },
  {
   "cell_type": "code",
   "execution_count": 23,
   "id": "ed98b585",
   "metadata": {},
   "outputs": [
    {
     "data": {
      "text/plain": [
       "1    327\n",
       "0    193\n",
       "Name: category, dtype: int64"
      ]
     },
     "execution_count": 23,
     "metadata": {},
     "output_type": "execute_result"
    }
   ],
   "source": [
    "df_test['category'].value_counts()"
   ]
  },
  {
   "cell_type": "code",
   "execution_count": 31,
   "id": "3a971c2e",
   "metadata": {},
   "outputs": [],
   "source": [
    "# Images\n",
    "train_images = df_train.loc[:,'image_name']\n",
    "train_labels = df_train.loc[:,'category']\n",
    "\n",
    "test_images = df_test.loc[:,'image_name']\n",
    "test_labels = df_test.loc[:,'category']\n",
    "\n",
    "# Train images\n",
    "X_train = []\n",
    "for i in train_images:\n",
    "    img = cv2.imread(i)\n",
    "    img = cv2.cvtColor(img, cv2.COLOR_BGR2RGB)\n",
    "    X_train.append(img)\n",
    "\n",
    "# Train labels\n",
    "y_train=tf.keras.utils.to_categorical(train_labels)\n",
    "\n",
    "# Test images\n",
    "X_test = []\n",
    "for i in test_images:\n",
    "    img = cv2.cvtColor(img, cv2.COLOR_BGR2RGB)\n",
    "    X_test.append(img)\n",
    "\n",
    "# Test labels\n",
    "y_test=tf.keras.utils.to_categorical(test_labels)\n",
    "\n",
    "# Normalize images\n",
    "X_train = np.array(X_train, dtype=\"float\") / 255.0\n",
    "X_test = np.array(X_test, dtype=\"float\") / 255.0"
   ]
  },
  {
   "cell_type": "code",
   "execution_count": 32,
   "id": "57bf0805",
   "metadata": {},
   "outputs": [
    {
     "data": {
      "text/plain": [
       "(4676, 24, 24, 3)"
      ]
     },
     "execution_count": 32,
     "metadata": {},
     "output_type": "execute_result"
    }
   ],
   "source": [
    "X_train.shape"
   ]
  },
  {
   "cell_type": "code",
   "execution_count": 33,
   "id": "d996a9b0",
   "metadata": {
    "scrolled": true
   },
   "outputs": [
    {
     "data": {
      "text/plain": [
       "(24, 24, 3)"
      ]
     },
     "execution_count": 33,
     "metadata": {},
     "output_type": "execute_result"
    }
   ],
   "source": [
    "X_train[0].shape"
   ]
  },
  {
   "cell_type": "code",
   "execution_count": 34,
   "id": "16037be4",
   "metadata": {},
   "outputs": [],
   "source": [
    "X_train_show1 = X_train[100]"
   ]
  },
  {
   "cell_type": "code",
   "execution_count": 36,
   "id": "642f17c8",
   "metadata": {},
   "outputs": [
    {
     "data": {
      "text/plain": [
       "<matplotlib.image.AxesImage at 0x7fcdf5cabf28>"
      ]
     },
     "execution_count": 36,
     "metadata": {},
     "output_type": "execute_result"
    },
    {
     "data": {
      "image/png": "[encoded data removed]",
      "text/plain": [
       "<Figure size 432x288 with 1 Axes>"
      ]
     },
     "metadata": {
      "needs_background": "light"
     },
     "output_type": "display_data"
    }
   ],
   "source": [
    "plt.imshow(X_train_show1)"
   ]
  },
  {
   "cell_type": "code",
   "execution_count": 37,
   "id": "88e50413",
   "metadata": {},
   "outputs": [
    {
     "data": {
      "text/plain": [
       "<matplotlib.image.AxesImage at 0x7fcdf5c751d0>"
      ]
     },
     "execution_count": 37,
     "metadata": {},
     "output_type": "execute_result"
    },
    {
     "data": {
      "image/png": "[encoded data removed]",
      "text/plain": [
       "<Figure size 432x288 with 1 Axes>"
      ]
     },
     "metadata": {
      "needs_background": "light"
     },
     "output_type": "display_data"
    }
   ],
   "source": [
    "X_train_show2 = X_train[101]\n",
    "plt.imshow(X_train_show2)"
   ]
  },
  {
   "cell_type": "code",
   "execution_count": 38,
   "id": "98188091",
   "metadata": {},
   "outputs": [
    {
     "data": {
      "text/plain": [
       "(520, 24, 24, 3)"
      ]
     },
     "execution_count": 38,
     "metadata": {},
     "output_type": "execute_result"
    }
   ],
   "source": [
    "X_test.shape"
   ]
  },
  {
   "cell_type": "code",
   "execution_count": 39,
   "id": "a5a54e09",
   "metadata": {},
   "outputs": [
    {
     "data": {
      "text/plain": [
       "array([0., 1.], dtype=float32)"
      ]
     },
     "execution_count": 39,
     "metadata": {},
     "output_type": "execute_result"
    }
   ],
   "source": [
    "y_train[0]"
   ]
  },
  {
   "cell_type": "code",
   "execution_count": 40,
   "id": "c6021e57",
   "metadata": {
    "scrolled": true
   },
   "outputs": [
    {
     "data": {
      "text/plain": [
       "(4676, 2)"
      ]
     },
     "execution_count": 40,
     "metadata": {},
     "output_type": "execute_result"
    }
   ],
   "source": [
    "y_train.shape"
   ]
  },
  {
   "cell_type": "code",
   "execution_count": 41,
   "id": "dbd4bdd1",
   "metadata": {},
   "outputs": [
    {
     "data": {
      "text/plain": [
       "(520, 2)"
      ]
     },
     "execution_count": 41,
     "metadata": {},
     "output_type": "execute_result"
    }
   ],
   "source": [
    "y_test.shape"
   ]
  },
  {
   "cell_type": "code",
   "execution_count": 43,
   "id": "4d6464b2",
   "metadata": {},
   "outputs": [
    {
     "data": {
      "text/plain": [
       "array([1., 0.], dtype=float32)"
      ]
     },
     "execution_count": 43,
     "metadata": {},
     "output_type": "execute_result"
    }
   ],
   "source": [
    "y_train[100]"
   ]
  },
  {
   "cell_type": "code",
   "execution_count": 44,
   "id": "4109da8e",
   "metadata": {},
   "outputs": [
    {
     "data": {
      "text/plain": [
       "array([0., 1.], dtype=float32)"
      ]
     },
     "execution_count": 44,
     "metadata": {},
     "output_type": "execute_result"
    }
   ],
   "source": [
    "y_train[101]"
   ]
  },
  {
   "cell_type": "code",
   "execution_count": 45,
   "id": "e5de7b49",
   "metadata": {},
   "outputs": [
    {
     "name": "stderr",
     "output_type": "stream",
     "text": [
      "2022-03-03 18:38:34.367174: I tensorflow/core/platform/cpu_feature_guard.cc:145] This TensorFlow binary is optimized with Intel(R) MKL-DNN to use the following CPU instructions in performance critical operations:  SSE4.1 SSE4.2 AVX AVX2 FMA\n",
      "To enable them in non-MKL-DNN operations, rebuild TensorFlow with the appropriate compiler flags.\n",
      "2022-03-03 18:38:34.370536: I tensorflow/core/common_runtime/process_util.cc:115] Creating new thread pool with default inter op setting: 4. Tune using inter_op_parallelism_threads for best performance.\n"
     ]
    },
    {
     "name": "stdout",
     "output_type": "stream",
     "text": [
      "Model: \"sequential\"\n",
      "_________________________________________________________________\n",
      "Layer (type)                 Output Shape              Param #   \n",
      "=================================================================\n",
      "conv2d (Conv2D)              (None, 22, 22, 32)        896       \n",
      "_________________________________________________________________\n",
      "max_pooling2d (MaxPooling2D) (None, 11, 11, 32)        0         \n",
      "_________________________________________________________________\n",
      "conv2d_1 (Conv2D)            (None, 9, 9, 32)          9248      \n",
      "_________________________________________________________________\n",
      "max_pooling2d_1 (MaxPooling2 (None, 4, 4, 32)          0         \n",
      "_________________________________________________________________\n",
      "conv2d_2 (Conv2D)            (None, 2, 2, 64)          18496     \n",
      "_________________________________________________________________\n",
      "max_pooling2d_2 (MaxPooling2 (None, 1, 1, 64)          0         \n",
      "_________________________________________________________________\n",
      "flatten (Flatten)            (None, 64)                0         \n",
      "_________________________________________________________________\n",
      "dense (Dense)                (None, 64)                4160      \n",
      "_________________________________________________________________\n",
      "dropout (Dropout)            (None, 64)                0         \n",
      "_________________________________________________________________\n",
      "dense_1 (Dense)              (None, 2)                 130       \n",
      "=================================================================\n",
      "Total params: 32,930\n",
      "Trainable params: 32,930\n",
      "Non-trainable params: 0\n",
      "_________________________________________________________________\n"
     ]
    }
   ],
   "source": [
    "# Model architechture\n",
    "model = Sequential()\n",
    "\n",
    "model.add(Conv2D(32, (3, 3), input_shape=(24, 24, 3), activation='relu'))\n",
    "model.add(MaxPooling2D(pool_size=(2, 2)))\n",
    "\n",
    "model.add(Conv2D(32, (3, 3), activation='relu'))\n",
    "model.add(MaxPooling2D(pool_size=(2, 2)))\n",
    "\n",
    "model.add(Conv2D(64, (3, 3), activation='relu'))\n",
    "model.add(MaxPooling2D(pool_size=(2, 2)))\n",
    "\n",
    "model.add(Flatten())\n",
    "model.add(Dense(64, activation='relu'))\n",
    "model.add(Dropout(0.24))\n",
    "model.add(Dense(2,activation='softmax'))\n",
    "\n",
    "model.summary()"
   ]
  },
  {
   "cell_type": "code",
   "execution_count": 46,
   "id": "efb49311",
   "metadata": {},
   "outputs": [],
   "source": [
    "# Compile\n",
    "optim = tf.keras.optimizers.RMSprop(learning_rate=0.00001)\n",
    "model.compile(loss='categorical_crossentropy',\n",
    "              optimizer=optim,\n",
    "              metrics=['accuracy'])"
   ]
  },
  {
   "cell_type": "code",
   "execution_count": 47,
   "id": "030d876b",
   "metadata": {},
   "outputs": [],
   "source": [
    "# Augmentation\n",
    "train_datagen = ImageDataGenerator(rotation_range=5,  # rotation\n",
    "                                   width_shift_range=0.2,  # horizontal shift\n",
    "                                   zoom_range=0.2,  # zoom\n",
    "                                   horizontal_flip=True,  # horizontal flip\n",
    "                                   brightness_range=[0.2,0.8],\n",
    "                                    )  # brightness"
   ]
  },
  {
   "cell_type": "code",
   "execution_count": 81,
   "id": "4c217170",
   "metadata": {},
   "outputs": [
    {
     "name": "stdout",
     "output_type": "stream",
     "text": [
      "Train for 146 steps, validate on 520 samples\n",
      "Epoch 1/25\n",
      "146/146 [==============================] - 9s 61ms/step - loss: 0.0382 - accuracy: 0.9905 - val_loss: 0.6976 - val_accuracy: 0.5096\n",
      "Epoch 2/25\n",
      "146/146 [==============================] - 9s 63ms/step - loss: 0.0405 - accuracy: 0.9869 - val_loss: 0.6981 - val_accuracy: 0.5096\n",
      "Epoch 3/25\n",
      "146/146 [==============================] - 9s 61ms/step - loss: 0.0416 - accuracy: 0.9899 - val_loss: 0.6977 - val_accuracy: 0.5096\n",
      "Epoch 4/25\n",
      "146/146 [==============================] - 9s 61ms/step - loss: 0.0314 - accuracy: 0.9912 - val_loss: 0.6963 - val_accuracy: 0.5096\n",
      "Epoch 5/25\n",
      "146/146 [==============================] - 8s 56ms/step - loss: 0.0327 - accuracy: 0.9907 - val_loss: 0.6980 - val_accuracy: 0.5096\n",
      "Epoch 6/25\n",
      "146/146 [==============================] - 8s 54ms/step - loss: 0.0342 - accuracy: 0.9903 - val_loss: 0.6978 - val_accuracy: 0.5096\n",
      "Epoch 7/25\n",
      "146/146 [==============================] - 8s 57ms/step - loss: 0.0341 - accuracy: 0.9922 - val_loss: 0.6987 - val_accuracy: 0.5096\n",
      "Epoch 8/25\n",
      "146/146 [==============================] - 8s 54ms/step - loss: 0.0329 - accuracy: 0.9901 - val_loss: 0.6978 - val_accuracy: 0.5096\n",
      "Epoch 9/25\n",
      "146/146 [==============================] - 8s 56ms/step - loss: 0.0298 - accuracy: 0.9914 - val_loss: 0.6987 - val_accuracy: 0.5096\n",
      "Epoch 10/25\n",
      "146/146 [==============================] - 7s 48ms/step - loss: 0.0322 - accuracy: 0.9907 - val_loss: 0.6987 - val_accuracy: 0.5096\n",
      "Epoch 11/25\n",
      "146/146 [==============================] - 7s 50ms/step - loss: 0.0359 - accuracy: 0.9905 - val_loss: 0.6991 - val_accuracy: 0.5096\n",
      "Epoch 12/25\n",
      "146/146 [==============================] - 10s 67ms/step - loss: 0.0345 - accuracy: 0.9912 - val_loss: 0.6997 - val_accuracy: 0.5096\n",
      "Epoch 13/25\n",
      "146/146 [==============================] - 10s 71ms/step - loss: 0.0267 - accuracy: 0.9922 - val_loss: 0.6986 - val_accuracy: 0.5096\n",
      "Epoch 14/25\n",
      "146/146 [==============================] - 9s 61ms/step - loss: 0.0261 - accuracy: 0.9935 - val_loss: 0.6984 - val_accuracy: 0.5096\n",
      "Epoch 15/25\n",
      "146/146 [==============================] - 8s 56ms/step - loss: 0.0265 - accuracy: 0.9920 - val_loss: 0.6997 - val_accuracy: 0.5096\n",
      "Epoch 16/25\n",
      "146/146 [==============================] - 8s 54ms/step - loss: 0.0326 - accuracy: 0.9916 - val_loss: 0.7003 - val_accuracy: 0.5096\n",
      "Epoch 17/25\n",
      "146/146 [==============================] - 8s 55ms/step - loss: 0.0269 - accuracy: 0.9918 - val_loss: 0.6993 - val_accuracy: 0.5096\n",
      "Epoch 18/25\n",
      "146/146 [==============================] - 7s 51ms/step - loss: 0.0254 - accuracy: 0.9927 - val_loss: 0.7000 - val_accuracy: 0.5096\n",
      "Epoch 19/25\n",
      "146/146 [==============================] - 7s 48ms/step - loss: 0.0252 - accuracy: 0.9931 - val_loss: 0.6987 - val_accuracy: 0.5096\n",
      "Epoch 20/25\n",
      "146/146 [==============================] - 7s 47ms/step - loss: 0.0301 - accuracy: 0.9920 - val_loss: 0.6999 - val_accuracy: 0.5096\n",
      "Epoch 21/25\n",
      "146/146 [==============================] - 7s 51ms/step - loss: 0.0312 - accuracy: 0.9931 - val_loss: 0.7006 - val_accuracy: 0.5096\n",
      "Epoch 22/25\n",
      "146/146 [==============================] - 9s 64ms/step - loss: 0.0290 - accuracy: 0.9929 - val_loss: 0.7004 - val_accuracy: 0.5096\n",
      "Epoch 23/25\n",
      "146/146 [==============================] - 8s 52ms/step - loss: 0.0264 - accuracy: 0.9933 - val_loss: 0.6998 - val_accuracy: 0.5096\n",
      "Epoch 24/25\n",
      "146/146 [==============================] - 8s 53ms/step - loss: 0.0209 - accuracy: 0.9935 - val_loss: 0.7019 - val_accuracy: 0.5096\n",
      "Epoch 25/25\n",
      "146/146 [==============================] - 6s 44ms/step - loss: 0.0235 - accuracy: 0.9938 - val_loss: 0.7012 - val_accuracy: 0.5096\n"
     ]
    }
   ],
   "source": [
    "# Epochs\n",
    "epochs = 25\n",
    "# Batch size\n",
    "batch_size = 32\n",
    "\n",
    "history = model.fit(train_datagen.flow(X_train,y_train,\n",
    "                                       batch_size=batch_size, \n",
    "                                       seed=27,\n",
    "                                       shuffle=False,\n",
    "                                      save_to_dir = './created_images',\n",
    "                                      save_prefix = 'created',\n",
    "                                      save_format = 'png'),\n",
    "                    epochs=epochs,\n",
    "                    steps_per_epoch=X_train.shape[0] // batch_size,\n",
    "                    validation_data=(X_test,y_test))"
   ]
  },
  {
   "cell_type": "code",
   "execution_count": null,
   "id": "9b87feaa",
   "metadata": {},
   "outputs": [],
   "source": []
  },
  {
   "cell_type": "code",
   "execution_count": null,
   "id": "ab195356",
   "metadata": {},
   "outputs": [],
   "source": []
  },
  {
   "cell_type": "code",
   "execution_count": 51,
   "id": "c8e01589",
   "metadata": {},
   "outputs": [
    {
     "data": {
      "image/png": "[encoded data removed]",
      "text/plain": [
       "<Figure size 432x288 with 1 Axes>"
      ]
     },
     "metadata": {
      "needs_background": "light"
     },
     "output_type": "display_data"
    }
   ],
   "source": [
    "plt.plot(history.history['loss'], 'r')\n",
    "plt.plot(history.history['accuracy'], 'b')\n",
    "plt.show()"
   ]
  },
  {
   "cell_type": "code",
   "execution_count": null,
   "id": "9028fc83",
   "metadata": {},
   "outputs": [],
   "source": []
  },
  {
   "cell_type": "code",
   "execution_count": 52,
   "id": "c988b180",
   "metadata": {},
   "outputs": [
    {
     "data": {
      "image/png": "[encoded data removed]",
      "text/plain": [
       "<Figure size 432x288 with 1 Axes>"
      ]
     },
     "metadata": {
      "needs_background": "light"
     },
     "output_type": "display_data"
    }
   ],
   "source": [
    "plt.plot(history.history['val_loss'], 'r')\n",
    "plt.plot(history.history['val_accuracy'], 'b')\n",
    "plt.show()"
   ]
  },
  {
   "cell_type": "code",
   "execution_count": null,
   "id": "54cd4f09",
   "metadata": {},
   "outputs": [],
   "source": []
  },
  {
   "cell_type": "code",
   "execution_count": 64,
   "id": "0f24b50a",
   "metadata": {},
   "outputs": [],
   "source": [
    "im = cv2.imread('./created_images/created_0_3856.png')\n",
    "im = cv2.cvtColor(im, cv2.COLOR_BGR2RGB)"
   ]
  },
  {
   "cell_type": "code",
   "execution_count": 41,
   "id": "e680f9e6",
   "metadata": {},
   "outputs": [
    {
     "data": {
      "text/plain": [
       "\"\\ncv2.imshow('image', im)\\ncv2.waitKey(0)\\ncv2.destroyAllWindows()\\n\""
      ]
     },
     "execution_count": 41,
     "metadata": {},
     "output_type": "execute_result"
    }
   ],
   "source": [
    "'''\n",
    "cv2.imshow('image', im)\n",
    "cv2.waitKey(0)\n",
    "cv2.destroyAllWindows()\n",
    "'''"
   ]
  },
  {
   "cell_type": "code",
   "execution_count": 65,
   "id": "1d8b7c2a",
   "metadata": {},
   "outputs": [
    {
     "data": {
      "text/plain": [
       "<matplotlib.image.AxesImage at 0x7fcde3a7e320>"
      ]
     },
     "execution_count": 65,
     "metadata": {},
     "output_type": "execute_result"
    },
    {
     "data": {
      "image/png": "[encoded data removed]",
      "text/plain": [
       "<Figure size 432x288 with 1 Axes>"
      ]
     },
     "metadata": {
      "needs_background": "light"
     },
     "output_type": "display_data"
    }
   ],
   "source": [
    "plt.imshow(im)"
   ]
  },
  {
   "cell_type": "markdown",
   "id": "ace7638a",
   "metadata": {},
   "source": [
    "#### the rest of this code is basically just running some bs test on the data.\n",
    "need to figure out of y_test of [0,1] means tree or car?"
   ]
  },
  {
   "cell_type": "code",
   "execution_count": 66,
   "id": "fa1362ab",
   "metadata": {},
   "outputs": [
    {
     "data": {
      "text/plain": [
       "(24, 24, 3)"
      ]
     },
     "execution_count": 66,
     "metadata": {},
     "output_type": "execute_result"
    }
   ],
   "source": [
    "X_test[0].shape"
   ]
  },
  {
   "cell_type": "code",
   "execution_count": 77,
   "id": "8fc48fa1",
   "metadata": {},
   "outputs": [],
   "source": [
    "testing = X_test[0]"
   ]
  },
  {
   "cell_type": "code",
   "execution_count": 78,
   "id": "27f7344d",
   "metadata": {},
   "outputs": [],
   "source": [
    "testing = np.expand_dims(testing, axis = 0)"
   ]
  },
  {
   "cell_type": "code",
   "execution_count": 79,
   "id": "ab7480ab",
   "metadata": {},
   "outputs": [
    {
     "data": {
      "text/plain": [
       "(1, 24, 24, 3)"
      ]
     },
     "execution_count": 79,
     "metadata": {},
     "output_type": "execute_result"
    }
   ],
   "source": [
    "testing.shape"
   ]
  },
  {
   "cell_type": "code",
   "execution_count": 80,
   "id": "e585fe3f",
   "metadata": {},
   "outputs": [
    {
     "data": {
      "text/plain": [
       "array([[0.5241997 , 0.47580034]], dtype=float32)"
      ]
     },
     "execution_count": 80,
     "metadata": {},
     "output_type": "execute_result"
    }
   ],
   "source": [
    "model.predict(testing)"
   ]
  },
  {
   "cell_type": "code",
   "execution_count": 82,
   "id": "8bed7555",
   "metadata": {},
   "outputs": [
    {
     "data": {
      "text/plain": [
       "array([1., 0.], dtype=float32)"
      ]
     },
     "execution_count": 82,
     "metadata": {},
     "output_type": "execute_result"
    }
   ],
   "source": [
    "y_test[0]"
   ]
  },
  {
   "cell_type": "code",
   "execution_count": 85,
   "id": "5b71d466",
   "metadata": {},
   "outputs": [
    {
     "data": {
      "text/plain": [
       "<matplotlib.image.AxesImage at 0x7fcde43ac9e8>"
      ]
     },
     "execution_count": 85,
     "metadata": {},
     "output_type": "execute_result"
    },
    {
     "data": {
      "image/png": "[encoded data removed]",
      "text/plain": [
       "<Figure size 432x288 with 1 Axes>"
      ]
     },
     "metadata": {
      "needs_background": "light"
     },
     "output_type": "display_data"
    }
   ],
   "source": [
    "plt.imshow(testing[0])"
   ]
  },
  {
   "cell_type": "code",
   "execution_count": null,
   "id": "055ecd3a",
   "metadata": {},
   "outputs": [],
   "source": []
  }
 ],
 "metadata": {
  "kernelspec": {
   "display_name": "Python 3 (ipykernel)",
   "language": "python",
   "name": "python3"
  },
  "language_info": {
   "codemirror_mode": {
    "name": "ipython",
    "version": 3
   },
   "file_extension": ".py",
   "mimetype": "text/x-python",
   "name": "python",
   "nbconvert_exporter": "python",
   "pygments_lexer": "ipython3",
   "version": "3.7.0"
  }
 },
 "nbformat": 4,
 "nbformat_minor": 5
}
