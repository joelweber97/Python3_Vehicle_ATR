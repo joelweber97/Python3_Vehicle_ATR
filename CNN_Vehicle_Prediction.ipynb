{
 "cells": [
  {
   "cell_type": "markdown",
   "id": "f1249291",
   "metadata": {},
   "source": [
    "CNN can be trained for single class of data as well, here we need to understand 2 aspects of it.\n",
    "\n",
    "1. Simple way is : you take single class and randomly mix of many other classes label data and train in CNN\n",
    "2. Auto encoder way: Train your single set of images (make sure dataset cover very high variance), then now in prediction time: pass images to autoencoder and check reconstruction error. If reconstruction error high: they say “my single class NOT found in this image”, if it’s in manageable range, then say “my single class FOUND”"
   ]
  },
  {
   "cell_type": "markdown",
   "id": "666a7a59",
   "metadata": {},
   "source": [
    "### simple cnn way"
   ]
  },
  {
   "cell_type": "code",
   "execution_count": 1,
   "id": "6d0d3774",
   "metadata": {},
   "outputs": [],
   "source": [
    "import tensorflow as tf"
   ]
  },
  {
   "cell_type": "code",
   "execution_count": 2,
   "id": "cad1fdb4",
   "metadata": {},
   "outputs": [],
   "source": [
    "import cv2"
   ]
  },
  {
   "cell_type": "code",
   "execution_count": 3,
   "id": "f7cbdae3",
   "metadata": {},
   "outputs": [],
   "source": [
    "from tensorflow.keras import datasets, layers, models\n",
    "\n",
    "from tensorflow.keras.layers import Dense, Dropout, Conv2D, MaxPool2D, Flatten\n",
    "#from tensorflow.keras.utils import np_utils\n",
    "from tensorflow.keras import utils\n",
    "from sklearn.model_selection import train_test_split"
   ]
  },
  {
   "cell_type": "code",
   "execution_count": 4,
   "id": "28cdc0bd",
   "metadata": {},
   "outputs": [],
   "source": [
    "import numpy as np\n",
    "import glob"
   ]
  },
  {
   "cell_type": "code",
   "execution_count": 5,
   "id": "2734ac99",
   "metadata": {},
   "outputs": [],
   "source": [
    "#import cv2\n",
    "from sklearn.metrics import confusion_matrix, classification_report"
   ]
  },
  {
   "cell_type": "code",
   "execution_count": 6,
   "id": "1cb1149b",
   "metadata": {},
   "outputs": [],
   "source": [
    "physical_devices = tf.config.list_physical_devices('GPU')\n",
    "try:\n",
    "  tf.config.experimental.set_memory_growth(physical_devices[0], True)\n",
    "except:\n",
    "  # Invalid device or cannot modify virtual devices once initialized.\n",
    "  pass"
   ]
  },
  {
   "cell_type": "code",
   "execution_count": 37,
   "id": "41888cd0",
   "metadata": {},
   "outputs": [
    {
     "name": "stdout",
     "output_type": "stream",
     "text": [
      "GPU found\n"
     ]
    }
   ],
   "source": [
    "\n",
    "import os\n",
    "os.environ['CUDA_VISIBLE_DEVICES'] = '-1'\n",
    "\n",
    "if tf.test.gpu_device_name():\n",
    "    print('GPU found')\n",
    "else:\n",
    "    print(\"No GPU found\")\n",
    "\n",
    "# No GPU found\n"
   ]
  },
  {
   "cell_type": "code",
   "execution_count": null,
   "id": "5c5bc836",
   "metadata": {},
   "outputs": [],
   "source": []
  },
  {
   "cell_type": "code",
   "execution_count": 8,
   "id": "aa4efa6d",
   "metadata": {},
   "outputs": [
    {
     "data": {
      "text/plain": [
       "\"\\nim = cv2.imread('./image_chips2/clipped_image_254.png')\\n#im2 = Image.open('./image_chips/clipped_image_1.tif.png')\\n\\n\\nprint(im.shape)\\n\\n\\n\\ncv2.imshow('image', im)\\ncv2.waitKey(0)\\ncv2.destroyAllWindows()\\n\\n\\n\\n\\nimage_files = glob.glob('./image_chips2/*.png')\\n#print(image_files)\""
      ]
     },
     "execution_count": 8,
     "metadata": {},
     "output_type": "execute_result"
    }
   ],
   "source": [
    "'''\n",
    "im = cv2.imread('./image_chips2/clipped_image_254.png')\n",
    "#im2 = Image.open('./image_chips/clipped_image_1.tif.png')\n",
    "\n",
    "\n",
    "print(im.shape)\n",
    "\n",
    "\n",
    "\n",
    "cv2.imshow('image', im)\n",
    "cv2.waitKey(0)\n",
    "cv2.destroyAllWindows()\n",
    "\n",
    "\n",
    "\n",
    "\n",
    "image_files = glob.glob('./image_chips2/*.png')\n",
    "#print(image_files)'''"
   ]
  },
  {
   "cell_type": "code",
   "execution_count": 7,
   "id": "fbed06fc",
   "metadata": {},
   "outputs": [
    {
     "data": {
      "text/plain": [
       "3271"
      ]
     },
     "execution_count": 7,
     "metadata": {},
     "output_type": "execute_result"
    }
   ],
   "source": [
    "vehicle_images = glob.glob('./vehicle_chips2/*/*.png')\n",
    "len(vehicle_images)"
   ]
  },
  {
   "cell_type": "code",
   "execution_count": 8,
   "id": "33eba38c",
   "metadata": {},
   "outputs": [
    {
     "data": {
      "text/plain": [
       "(3271, 1)"
      ]
     },
     "execution_count": 8,
     "metadata": {},
     "output_type": "execute_result"
    }
   ],
   "source": [
    "vehicle_labels = np.ones(shape = (3271, 1)).astype('uint8')\n",
    "vehicle_labels.shape"
   ]
  },
  {
   "cell_type": "code",
   "execution_count": 9,
   "id": "d0839de2",
   "metadata": {},
   "outputs": [
    {
     "data": {
      "text/plain": [
       "1925"
      ]
     },
     "execution_count": 9,
     "metadata": {},
     "output_type": "execute_result"
    }
   ],
   "source": [
    "tree_images = glob.glob('./tree_chips2/*/*.png')\n",
    "len(tree_images)"
   ]
  },
  {
   "cell_type": "code",
   "execution_count": 10,
   "id": "51952bfa",
   "metadata": {},
   "outputs": [
    {
     "data": {
      "text/plain": [
       "(1925, 1)"
      ]
     },
     "execution_count": 10,
     "metadata": {},
     "output_type": "execute_result"
    }
   ],
   "source": [
    "tree_labels = np.zeros(shape = (1925,1)).astype('uint8')\n",
    "tree_labels.shape"
   ]
  },
  {
   "cell_type": "code",
   "execution_count": 11,
   "id": "236a6e06",
   "metadata": {},
   "outputs": [],
   "source": [
    "vehicles = []\n",
    "for i in vehicle_images:\n",
    "    data = cv2.imread(i)\n",
    "    vehicles.append(data)\n",
    "vehicles = np.array(vehicles)"
   ]
  },
  {
   "cell_type": "code",
   "execution_count": 12,
   "id": "cb10508f",
   "metadata": {},
   "outputs": [],
   "source": [
    "vehicles = vehicles/255."
   ]
  },
  {
   "cell_type": "code",
   "execution_count": 13,
   "id": "fbab3fb1",
   "metadata": {},
   "outputs": [],
   "source": [
    "trees = []\n",
    "for t in tree_images:\n",
    "    data = cv2.imread(t)\n",
    "    trees.append(data)\n",
    "    \n",
    "trees = np.array(trees)"
   ]
  },
  {
   "cell_type": "code",
   "execution_count": 14,
   "id": "0e28dbbb",
   "metadata": {},
   "outputs": [],
   "source": [
    "trees = trees/255."
   ]
  },
  {
   "cell_type": "code",
   "execution_count": null,
   "id": "8d1bb18d",
   "metadata": {},
   "outputs": [],
   "source": []
  },
  {
   "cell_type": "code",
   "execution_count": null,
   "id": "4787fefa",
   "metadata": {},
   "outputs": [],
   "source": []
  },
  {
   "cell_type": "code",
   "execution_count": null,
   "id": "e38e4069",
   "metadata": {},
   "outputs": [],
   "source": []
  },
  {
   "cell_type": "code",
   "execution_count": null,
   "id": "e8502375",
   "metadata": {},
   "outputs": [],
   "source": []
  },
  {
   "cell_type": "code",
   "execution_count": null,
   "id": "d851d180",
   "metadata": {},
   "outputs": [],
   "source": []
  },
  {
   "cell_type": "code",
   "execution_count": 15,
   "id": "1c2eb4a0",
   "metadata": {},
   "outputs": [
    {
     "data": {
      "text/plain": [
       "(5196, 24, 24, 3)"
      ]
     },
     "execution_count": 15,
     "metadata": {},
     "output_type": "execute_result"
    }
   ],
   "source": [
    "images = np.append(vehicles, trees, axis = 0)\n",
    "images.shape"
   ]
  },
  {
   "cell_type": "code",
   "execution_count": 16,
   "id": "ec59c847",
   "metadata": {},
   "outputs": [
    {
     "data": {
      "text/plain": [
       "(5196, 1)"
      ]
     },
     "execution_count": 16,
     "metadata": {},
     "output_type": "execute_result"
    }
   ],
   "source": [
    "labels = np.append(vehicle_labels, tree_labels, axis = 0)\n",
    "labels.shape"
   ]
  },
  {
   "cell_type": "code",
   "execution_count": null,
   "id": "9f097169",
   "metadata": {},
   "outputs": [],
   "source": []
  },
  {
   "cell_type": "code",
   "execution_count": null,
   "id": "30603aa2",
   "metadata": {},
   "outputs": [],
   "source": []
  },
  {
   "cell_type": "code",
   "execution_count": null,
   "id": "f7c0bfb3",
   "metadata": {},
   "outputs": [],
   "source": []
  },
  {
   "cell_type": "code",
   "execution_count": 17,
   "id": "ceb01593",
   "metadata": {},
   "outputs": [],
   "source": [
    "X_train, X_test, y_train, y_test = train_test_split(images, labels, test_size=0.8, random_state=42)"
   ]
  },
  {
   "cell_type": "code",
   "execution_count": 18,
   "id": "a1de7b79",
   "metadata": {},
   "outputs": [
    {
     "data": {
      "text/plain": [
       "array([[[[0.25098039, 0.45882353, 0.36078431],\n",
       "         [0.25490196, 0.4627451 , 0.35294118],\n",
       "         [0.2627451 , 0.46666667, 0.34901961],\n",
       "         ...,\n",
       "         [0.2745098 , 0.44705882, 0.39215686],\n",
       "         [0.2627451 , 0.44705882, 0.38039216],\n",
       "         [0.27843137, 0.46666667, 0.39607843]],\n",
       "\n",
       "        [[0.25882353, 0.44705882, 0.36078431],\n",
       "         [0.25882353, 0.44313725, 0.35294118],\n",
       "         [0.2627451 , 0.44313725, 0.35294118],\n",
       "         ...,\n",
       "         [0.27058824, 0.44313725, 0.38431373],\n",
       "         [0.2627451 , 0.44313725, 0.37647059],\n",
       "         [0.27843137, 0.47058824, 0.39215686]],\n",
       "\n",
       "        [[0.27058824, 0.43529412, 0.36470588],\n",
       "         [0.26666667, 0.42745098, 0.36078431],\n",
       "         [0.2627451 , 0.41568627, 0.35294118],\n",
       "         ...,\n",
       "         [0.26666667, 0.43921569, 0.37647059],\n",
       "         [0.2627451 , 0.43921569, 0.37254902],\n",
       "         [0.27843137, 0.47058824, 0.38823529]],\n",
       "\n",
       "        ...,\n",
       "\n",
       "        [[0.50980392, 0.55686275, 0.58431373],\n",
       "         [0.50196078, 0.55686275, 0.59215686],\n",
       "         [0.49803922, 0.56078431, 0.6       ],\n",
       "         ...,\n",
       "         [0.50980392, 0.56862745, 0.59607843],\n",
       "         [0.51764706, 0.58039216, 0.61176471],\n",
       "         [0.50588235, 0.56470588, 0.58823529]],\n",
       "\n",
       "        [[0.50980392, 0.54509804, 0.57254902],\n",
       "         [0.49411765, 0.54117647, 0.57254902],\n",
       "         [0.48627451, 0.54509804, 0.58039216],\n",
       "         ...,\n",
       "         [0.52156863, 0.57647059, 0.60392157],\n",
       "         [0.52941176, 0.58431373, 0.61568627],\n",
       "         [0.53333333, 0.58823529, 0.60784314]],\n",
       "\n",
       "        [[0.51764706, 0.54509804, 0.57254902],\n",
       "         [0.50196078, 0.54509804, 0.57254902],\n",
       "         [0.49411765, 0.54901961, 0.58039216],\n",
       "         ...,\n",
       "         [0.51372549, 0.56470588, 0.59215686],\n",
       "         [0.51764706, 0.56470588, 0.59607843],\n",
       "         [0.53333333, 0.58431373, 0.60392157]]],\n",
       "\n",
       "\n",
       "       [[[0.22352941, 0.29411765, 0.22745098],\n",
       "         [0.20784314, 0.25490196, 0.18823529],\n",
       "         [0.18823529, 0.21176471, 0.14901961],\n",
       "         ...,\n",
       "         [0.18431373, 0.24705882, 0.16862745],\n",
       "         [0.19215686, 0.25098039, 0.18431373],\n",
       "         [0.20784314, 0.25882353, 0.20392157]],\n",
       "\n",
       "        [[0.24313725, 0.34117647, 0.2745098 ],\n",
       "         [0.21176471, 0.2745098 , 0.20784314],\n",
       "         [0.17647059, 0.20392157, 0.14117647],\n",
       "         ...,\n",
       "         [0.14901961, 0.20784314, 0.13333333],\n",
       "         [0.18431373, 0.23921569, 0.17647059],\n",
       "         [0.21960784, 0.26666667, 0.21960784]],\n",
       "\n",
       "        [[0.2627451 , 0.38431373, 0.31764706],\n",
       "         [0.21960784, 0.29411765, 0.23137255],\n",
       "         [0.17254902, 0.2       , 0.14117647],\n",
       "         ...,\n",
       "         [0.11372549, 0.16862745, 0.09803922],\n",
       "         [0.17647059, 0.22352941, 0.16862745],\n",
       "         [0.23529412, 0.2745098 , 0.23529412]],\n",
       "\n",
       "        ...,\n",
       "\n",
       "        [[0.22352941, 0.30196078, 0.19215686],\n",
       "         [0.24313725, 0.31764706, 0.2       ],\n",
       "         [0.24313725, 0.31372549, 0.18823529],\n",
       "         ...,\n",
       "         [0.15294118, 0.16470588, 0.10588235],\n",
       "         [0.14901961, 0.16862745, 0.10980392],\n",
       "         [0.15294118, 0.17647059, 0.11764706]],\n",
       "\n",
       "        [[0.20392157, 0.26666667, 0.15686275],\n",
       "         [0.22352941, 0.28627451, 0.16862745],\n",
       "         [0.23921569, 0.30196078, 0.17647059],\n",
       "         ...,\n",
       "         [0.19607843, 0.19607843, 0.14117647],\n",
       "         [0.18823529, 0.19215686, 0.1372549 ],\n",
       "         [0.18823529, 0.19215686, 0.14117647]],\n",
       "\n",
       "        [[0.20784314, 0.27058824, 0.16470588],\n",
       "         [0.23137255, 0.30196078, 0.18823529],\n",
       "         [0.24313725, 0.3254902 , 0.20784314],\n",
       "         ...,\n",
       "         [0.23529412, 0.24313725, 0.18431373],\n",
       "         [0.21960784, 0.22745098, 0.16862745],\n",
       "         [0.20784314, 0.21176471, 0.15686275]]],\n",
       "\n",
       "\n",
       "       [[[0.49411765, 0.55686275, 0.56862745],\n",
       "         [0.44705882, 0.50588235, 0.50588235],\n",
       "         [0.45098039, 0.50196078, 0.49019608],\n",
       "         ...,\n",
       "         [0.46666667, 0.51372549, 0.50980392],\n",
       "         [0.46666667, 0.51764706, 0.45882353],\n",
       "         [0.5372549 , 0.5254902 , 0.48627451]],\n",
       "\n",
       "        [[0.45098039, 0.50980392, 0.5372549 ],\n",
       "         [0.49411765, 0.53333333, 0.55686275],\n",
       "         [0.5372549 , 0.55686275, 0.57647059],\n",
       "         ...,\n",
       "         [0.45882353, 0.5254902 , 0.52941176],\n",
       "         [0.45490196, 0.54117647, 0.47843137],\n",
       "         [0.54117647, 0.55686275, 0.52156863]],\n",
       "\n",
       "        [[0.38823529, 0.42745098, 0.38431373],\n",
       "         [0.49019608, 0.54117647, 0.51764706],\n",
       "         [0.49803922, 0.56078431, 0.56078431],\n",
       "         ...,\n",
       "         [0.48235294, 0.54901961, 0.55686275],\n",
       "         [0.50196078, 0.58039216, 0.53333333],\n",
       "         [0.54509804, 0.56862745, 0.54117647]],\n",
       "\n",
       "        ...,\n",
       "\n",
       "        [[0.70588235, 0.71372549, 0.70588235],\n",
       "         [0.70980392, 0.72156863, 0.71372549],\n",
       "         [0.71372549, 0.7254902 , 0.72156863],\n",
       "         ...,\n",
       "         [0.74117647, 0.76862745, 0.76862745],\n",
       "         [0.74509804, 0.76862745, 0.76862745],\n",
       "         [0.74509804, 0.76862745, 0.76862745]],\n",
       "\n",
       "        [[0.70588235, 0.71764706, 0.70980392],\n",
       "         [0.70588235, 0.72156863, 0.71372549],\n",
       "         [0.70980392, 0.7254902 , 0.72156863],\n",
       "         ...,\n",
       "         [0.7372549 , 0.76470588, 0.76078431],\n",
       "         [0.7372549 , 0.76470588, 0.76078431],\n",
       "         [0.7372549 , 0.76470588, 0.76078431]],\n",
       "\n",
       "        [[0.70588235, 0.71764706, 0.71372549],\n",
       "         [0.70588235, 0.72156863, 0.71764706],\n",
       "         [0.70588235, 0.72156863, 0.71764706],\n",
       "         ...,\n",
       "         [0.73333333, 0.76078431, 0.75686275],\n",
       "         [0.73333333, 0.76078431, 0.75686275],\n",
       "         [0.73333333, 0.76078431, 0.75686275]]],\n",
       "\n",
       "\n",
       "       ...,\n",
       "\n",
       "\n",
       "       [[[0.17647059, 0.12156863, 0.12156863],\n",
       "         [0.18039216, 0.1254902 , 0.1254902 ],\n",
       "         [0.18039216, 0.12941176, 0.12941176],\n",
       "         ...,\n",
       "         [0.2       , 0.17647059, 0.16078431],\n",
       "         [0.21568627, 0.19607843, 0.18039216],\n",
       "         [0.23529412, 0.21960784, 0.20784314]],\n",
       "\n",
       "        [[0.17647059, 0.1254902 , 0.12156863],\n",
       "         [0.18039216, 0.12941176, 0.1254902 ],\n",
       "         [0.18039216, 0.13333333, 0.12941176],\n",
       "         ...,\n",
       "         [0.18823529, 0.16862745, 0.15294118],\n",
       "         [0.19607843, 0.18039216, 0.16470588],\n",
       "         [0.21176471, 0.19607843, 0.18431373]],\n",
       "\n",
       "        [[0.18431373, 0.1372549 , 0.13333333],\n",
       "         [0.18431373, 0.1372549 , 0.13333333],\n",
       "         [0.18431373, 0.1372549 , 0.13333333],\n",
       "         ...,\n",
       "         [0.18039216, 0.16078431, 0.14509804],\n",
       "         [0.18431373, 0.16862745, 0.15294118],\n",
       "         [0.19215686, 0.17647059, 0.16470588]],\n",
       "\n",
       "        ...,\n",
       "\n",
       "        [[0.24313725, 0.28627451, 0.25098039],\n",
       "         [0.21176471, 0.25098039, 0.21176471],\n",
       "         [0.19607843, 0.23137255, 0.18431373],\n",
       "         ...,\n",
       "         [0.21960784, 0.28235294, 0.21176471],\n",
       "         [0.22745098, 0.29803922, 0.22352941],\n",
       "         [0.24313725, 0.31372549, 0.23529412]],\n",
       "\n",
       "        [[0.27843137, 0.33333333, 0.29803922],\n",
       "         [0.23529412, 0.28627451, 0.24705882],\n",
       "         [0.21176471, 0.25882353, 0.21176471],\n",
       "         ...,\n",
       "         [0.23529412, 0.30196078, 0.23137255],\n",
       "         [0.25490196, 0.32941176, 0.25490196],\n",
       "         [0.27843137, 0.35686275, 0.27843137]],\n",
       "\n",
       "        [[0.27058824, 0.34117647, 0.30588235],\n",
       "         [0.22745098, 0.29411765, 0.25098039],\n",
       "         [0.21960784, 0.28235294, 0.23137255],\n",
       "         ...,\n",
       "         [0.23921569, 0.30980392, 0.23921569],\n",
       "         [0.25882353, 0.34117647, 0.26666667],\n",
       "         [0.29411765, 0.38039216, 0.30196078]]],\n",
       "\n",
       "\n",
       "       [[[0.15686275, 0.10588235, 0.10588235],\n",
       "         [0.14901961, 0.10588235, 0.10196078],\n",
       "         [0.14509804, 0.10588235, 0.10196078],\n",
       "         ...,\n",
       "         [0.2       , 0.24705882, 0.21176471],\n",
       "         [0.20784314, 0.25490196, 0.21960784],\n",
       "         [0.20784314, 0.25882353, 0.21960784]],\n",
       "\n",
       "        [[0.15686275, 0.10980392, 0.10588235],\n",
       "         [0.14509804, 0.10588235, 0.09803922],\n",
       "         [0.14509804, 0.10980392, 0.10196078],\n",
       "         ...,\n",
       "         [0.2       , 0.24705882, 0.21176471],\n",
       "         [0.21176471, 0.25882353, 0.22352941],\n",
       "         [0.20784314, 0.25882353, 0.21960784]],\n",
       "\n",
       "        [[0.14509804, 0.10588235, 0.09803922],\n",
       "         [0.14117647, 0.10980392, 0.09803922],\n",
       "         [0.1372549 , 0.10980392, 0.09803922],\n",
       "         ...,\n",
       "         [0.2       , 0.24705882, 0.21176471],\n",
       "         [0.21568627, 0.2627451 , 0.22745098],\n",
       "         [0.20784314, 0.25882353, 0.21960784]],\n",
       "\n",
       "        ...,\n",
       "\n",
       "        [[0.16470588, 0.24705882, 0.25098039],\n",
       "         [0.17254902, 0.25490196, 0.25098039],\n",
       "         [0.17647059, 0.25882353, 0.24705882],\n",
       "         ...,\n",
       "         [0.14509804, 0.16470588, 0.1254902 ],\n",
       "         [0.12156863, 0.1372549 , 0.09803922],\n",
       "         [0.14509804, 0.16470588, 0.1254902 ]],\n",
       "\n",
       "        [[0.18039216, 0.27058824, 0.28235294],\n",
       "         [0.17647059, 0.26666667, 0.26666667],\n",
       "         [0.17647059, 0.26666667, 0.25882353],\n",
       "         ...,\n",
       "         [0.18431373, 0.20392157, 0.16078431],\n",
       "         [0.16470588, 0.18039216, 0.1372549 ],\n",
       "         [0.17254902, 0.19215686, 0.14901961]],\n",
       "\n",
       "        [[0.19607843, 0.29411765, 0.31372549],\n",
       "         [0.18431373, 0.28235294, 0.29019608],\n",
       "         [0.18039216, 0.2745098 , 0.27058824],\n",
       "         ...,\n",
       "         [0.23137255, 0.24705882, 0.20392157],\n",
       "         [0.21568627, 0.22745098, 0.18431373],\n",
       "         [0.20784314, 0.22352941, 0.18039216]]],\n",
       "\n",
       "\n",
       "       [[[0.4745098 , 0.47843137, 0.45490196],\n",
       "         [0.42745098, 0.38431373, 0.3254902 ],\n",
       "         [0.38823529, 0.29411765, 0.20392157],\n",
       "         ...,\n",
       "         [0.49803922, 0.56862745, 0.58039216],\n",
       "         [0.50196078, 0.57254902, 0.58823529],\n",
       "         [0.49411765, 0.56470588, 0.58039216]],\n",
       "\n",
       "        [[0.46666667, 0.50588235, 0.49019608],\n",
       "         [0.40392157, 0.40784314, 0.36470588],\n",
       "         [0.34509804, 0.31372549, 0.24705882],\n",
       "         ...,\n",
       "         [0.50196078, 0.57254902, 0.58431373],\n",
       "         [0.50588235, 0.57647059, 0.59215686],\n",
       "         [0.49411765, 0.56862745, 0.58431373]],\n",
       "\n",
       "        [[0.40784314, 0.48235294, 0.4745098 ],\n",
       "         [0.38039216, 0.43529412, 0.40784314],\n",
       "         [0.35686275, 0.38823529, 0.34117647],\n",
       "         ...,\n",
       "         [0.50588235, 0.57647059, 0.58823529],\n",
       "         [0.50980392, 0.58039216, 0.59607843],\n",
       "         [0.49411765, 0.56862745, 0.58431373]],\n",
       "\n",
       "        ...,\n",
       "\n",
       "        [[0.28235294, 0.33333333, 0.34117647],\n",
       "         [0.3254902 , 0.38431373, 0.4       ],\n",
       "         [0.37254902, 0.43529412, 0.45882353],\n",
       "         ...,\n",
       "         [0.45490196, 0.6       , 0.61568627],\n",
       "         [0.49019608, 0.65098039, 0.67843137],\n",
       "         [0.49019608, 0.65490196, 0.69019608]],\n",
       "\n",
       "        [[0.28627451, 0.33333333, 0.34117647],\n",
       "         [0.3254902 , 0.38039216, 0.39215686],\n",
       "         [0.37254902, 0.43137255, 0.45098039],\n",
       "         ...,\n",
       "         [0.45490196, 0.59607843, 0.61568627],\n",
       "         [0.50980392, 0.6627451 , 0.69411765],\n",
       "         [0.49411765, 0.65490196, 0.69411765]],\n",
       "\n",
       "        [[0.29019608, 0.33333333, 0.34117647],\n",
       "         [0.33333333, 0.38039216, 0.39215686],\n",
       "         [0.37647059, 0.42745098, 0.44705882],\n",
       "         ...,\n",
       "         [0.4627451 , 0.59607843, 0.61960784],\n",
       "         [0.53333333, 0.6745098 , 0.70980392],\n",
       "         [0.50196078, 0.65490196, 0.69803922]]]])"
      ]
     },
     "execution_count": 18,
     "metadata": {},
     "output_type": "execute_result"
    }
   ],
   "source": [
    "X_train"
   ]
  },
  {
   "cell_type": "code",
   "execution_count": 19,
   "id": "6a137126",
   "metadata": {},
   "outputs": [
    {
     "data": {
      "text/plain": [
       "array([[1],\n",
       "       [0],\n",
       "       [1],\n",
       "       ...,\n",
       "       [0],\n",
       "       [0],\n",
       "       [1]], dtype=uint8)"
      ]
     },
     "execution_count": 19,
     "metadata": {},
     "output_type": "execute_result"
    }
   ],
   "source": [
    "y_train"
   ]
  },
  {
   "cell_type": "code",
   "execution_count": 20,
   "id": "6eecad5f",
   "metadata": {},
   "outputs": [],
   "source": [
    "X_train_t = tf.constant(X_train)"
   ]
  },
  {
   "cell_type": "code",
   "execution_count": 21,
   "id": "dafa14d7",
   "metadata": {},
   "outputs": [],
   "source": [
    "y_train_t = tf.constant(y_train)"
   ]
  },
  {
   "cell_type": "code",
   "execution_count": 22,
   "id": "f30f6293",
   "metadata": {},
   "outputs": [],
   "source": [
    "X_test_t = tf.constant(X_test)"
   ]
  },
  {
   "cell_type": "code",
   "execution_count": 23,
   "id": "c0469b5b",
   "metadata": {},
   "outputs": [],
   "source": [
    "y_test_t = tf.constant(y_test)"
   ]
  },
  {
   "cell_type": "code",
   "execution_count": 24,
   "id": "e17ad782",
   "metadata": {},
   "outputs": [],
   "source": [
    "model = models.Sequential()\n",
    "model.add(layers.Conv2D(24, (3, 3), activation='relu', input_shape=(24, 24, 3)))\n",
    "model.add(layers.MaxPooling2D((2, 2)))\n",
    "model.add(layers.Conv2D(48, (3, 3), activation='relu'))\n",
    "model.add(layers.MaxPooling2D((2, 2)))\n",
    "model.add(layers.Conv2D(48, (3, 3), activation='relu'))\n",
    "\n",
    "model.add(layers.Flatten())\n",
    "model.add(layers.Dense(48, activation='relu'))\n",
    "model.add(layers.Dense(2))"
   ]
  },
  {
   "cell_type": "code",
   "execution_count": null,
   "id": "a44b77b1",
   "metadata": {},
   "outputs": [],
   "source": []
  },
  {
   "cell_type": "code",
   "execution_count": 25,
   "id": "a4c868e2",
   "metadata": {},
   "outputs": [],
   "source": [
    "#model.summary()"
   ]
  },
  {
   "cell_type": "code",
   "execution_count": 26,
   "id": "961976b8",
   "metadata": {},
   "outputs": [],
   "source": [
    "callback = tf.keras.callbacks.EarlyStopping(monitor='loss', patience=5)"
   ]
  },
  {
   "cell_type": "code",
   "execution_count": 27,
   "id": "15784038",
   "metadata": {},
   "outputs": [],
   "source": [
    "model.compile(optimizer=tf.keras.optimizers.SGD(),\n",
    "              loss=tf.keras.losses.SparseCategoricalCrossentropy(from_logits=False),\n",
    "              metrics=['accuracy'])"
   ]
  },
  {
   "cell_type": "code",
   "execution_count": 28,
   "id": "fa2ae8f1",
   "metadata": {},
   "outputs": [],
   "source": [
    "#model.summary()"
   ]
  },
  {
   "cell_type": "code",
   "execution_count": null,
   "id": "e212de47",
   "metadata": {
    "scrolled": true
   },
   "outputs": [
    {
     "name": "stdout",
     "output_type": "stream",
     "text": [
      "Epoch 1/100\n",
      "33/33 [==============================] - 2s 6ms/step - loss: 0.7084 - accuracy: 0.3917\n",
      "Epoch 2/100\n",
      "33/33 [==============================] - 0s 3ms/step - loss: 0.6931 - accuracy: 0.3782\n",
      "Epoch 3/100\n",
      "33/33 [==============================] - 0s 3ms/step - loss: 0.6931 - accuracy: 0.3782\n",
      "Epoch 4/100\n",
      "33/33 [==============================] - 0s 3ms/step - loss: 0.6931 - accuracy: 0.3782\n",
      "Epoch 5/100\n",
      "33/33 [==============================] - 0s 3ms/step - loss: 0.6931 - accuracy: 0.3782\n",
      "Epoch 6/100\n",
      "33/33 [==============================] - 0s 3ms/step - loss: 0.6931 - accuracy: 0.3782\n",
      "Epoch 7/100\n",
      "33/33 [==============================] - 0s 3ms/step - loss: 0.6931 - accuracy: 0.3782\n",
      "Epoch 8/100\n",
      "33/33 [==============================] - 0s 3ms/step - loss: 0.6931 - accuracy: 0.3782\n",
      "Epoch 9/100\n",
      "33/33 [==============================] - 0s 3ms/step - loss: 0.6931 - accuracy: 0.3782\n",
      "Epoch 10/100\n",
      "33/33 [==============================] - 0s 3ms/step - loss: 0.6931 - accuracy: 0.3782\n",
      "Epoch 11/100\n",
      "33/33 [==============================] - 0s 3ms/step - loss: 0.6931 - accuracy: 0.3782\n",
      "Epoch 12/100\n",
      "33/33 [==============================] - 0s 3ms/step - loss: 0.6931 - accuracy: 0.3782\n",
      "Epoch 13/100\n",
      "33/33 [==============================] - 0s 3ms/step - loss: 0.6931 - accuracy: 0.3782\n",
      "Epoch 14/100\n",
      "33/33 [==============================] - 0s 3ms/step - loss: 0.6931 - accuracy: 0.3782\n",
      "Epoch 15/100\n",
      "33/33 [==============================] - 0s 3ms/step - loss: 0.6931 - accuracy: 0.3782\n",
      "Epoch 16/100\n",
      "33/33 [==============================] - 0s 3ms/step - loss: 0.6931 - accuracy: 0.3782\n",
      "Epoch 17/100\n",
      "33/33 [==============================] - 0s 3ms/step - loss: 0.6931 - accuracy: 0.3782\n",
      "Epoch 18/100\n",
      "33/33 [==============================] - 0s 3ms/step - loss: 0.6931 - accuracy: 0.3782\n",
      "Epoch 19/100\n",
      "33/33 [==============================] - 0s 2ms/step - loss: 0.6931 - accuracy: 0.3782\n",
      "Epoch 20/100\n",
      "33/33 [==============================] - 0s 3ms/step - loss: 0.6931 - accuracy: 0.3782\n",
      "Epoch 21/100\n",
      "33/33 [==============================] - 0s 3ms/step - loss: 0.6931 - accuracy: 0.3782\n",
      "Epoch 22/100\n",
      "33/33 [==============================] - 0s 3ms/step - loss: 0.6931 - accuracy: 0.3782\n",
      "Epoch 23/100\n",
      "33/33 [==============================] - 0s 3ms/step - loss: 0.6931 - accuracy: 0.3782\n",
      "Epoch 24/100\n",
      "33/33 [==============================] - 0s 3ms/step - loss: 0.6931 - accuracy: 0.3782\n",
      "Epoch 25/100\n",
      "33/33 [==============================] - 0s 3ms/step - loss: 0.6931 - accuracy: 0.3782\n",
      "Epoch 26/100\n",
      "33/33 [==============================] - 0s 3ms/step - loss: 0.6931 - accuracy: 0.3782\n",
      "Epoch 27/100\n",
      "33/33 [==============================] - 0s 3ms/step - loss: 0.6931 - accuracy: 0.3782\n",
      "Epoch 28/100\n",
      "33/33 [==============================] - 0s 3ms/step - loss: 0.6931 - accuracy: 0.3782\n",
      "Epoch 29/100\n",
      "33/33 [==============================] - 0s 3ms/step - loss: 0.6931 - accuracy: 0.3782\n",
      "Epoch 30/100\n",
      "33/33 [==============================] - 0s 3ms/step - loss: 0.6931 - accuracy: 0.3782\n",
      "Epoch 31/100\n",
      "33/33 [==============================] - 0s 3ms/step - loss: 0.6931 - accuracy: 0.3782\n",
      "Epoch 32/100\n",
      "33/33 [==============================] - 0s 3ms/step - loss: 0.6931 - accuracy: 0.3782\n",
      "Epoch 33/100\n",
      "33/33 [==============================] - 0s 3ms/step - loss: 0.6931 - accuracy: 0.3782\n",
      "Epoch 34/100\n",
      "33/33 [==============================] - 0s 3ms/step - loss: 0.6931 - accuracy: 0.3782\n",
      "Epoch 35/100\n",
      "33/33 [==============================] - 0s 3ms/step - loss: 0.6931 - accuracy: 0.3782\n",
      "Epoch 36/100\n",
      "33/33 [==============================] - 0s 3ms/step - loss: 0.6931 - accuracy: 0.3782\n",
      "Epoch 37/100\n",
      "33/33 [==============================] - 0s 3ms/step - loss: 0.6931 - accuracy: 0.3782\n",
      "Epoch 38/100\n",
      "33/33 [==============================] - 0s 3ms/step - loss: 0.6931 - accuracy: 0.3782\n",
      "Epoch 39/100\n",
      "33/33 [==============================] - 0s 3ms/step - loss: 0.6931 - accuracy: 0.3782\n",
      "Epoch 40/100\n",
      "33/33 [==============================] - 0s 3ms/step - loss: 0.6931 - accuracy: 0.3782\n",
      "Epoch 41/100\n",
      "33/33 [==============================] - 0s 3ms/step - loss: 0.6931 - accuracy: 0.3782\n",
      "Epoch 42/100\n",
      "33/33 [==============================] - 0s 3ms/step - loss: 0.6931 - accuracy: 0.3782\n",
      "Epoch 43/100\n",
      "33/33 [==============================] - 0s 3ms/step - loss: 0.6931 - accuracy: 0.3782\n",
      "Epoch 44/100\n",
      "33/33 [==============================] - 0s 3ms/step - loss: 0.6931 - accuracy: 0.3782\n",
      "Epoch 45/100\n",
      "33/33 [==============================] - 0s 3ms/step - loss: 0.6931 - accuracy: 0.3782\n",
      "Epoch 46/100\n",
      "33/33 [==============================] - 0s 3ms/step - loss: 0.6931 - accuracy: 0.3782\n",
      "Epoch 47/100\n",
      "33/33 [==============================] - 0s 3ms/step - loss: 0.6931 - accuracy: 0.3782\n",
      "Epoch 48/100\n",
      "33/33 [==============================] - 0s 3ms/step - loss: 0.6931 - accuracy: 0.3782\n",
      "Epoch 49/100\n",
      "33/33 [==============================] - 0s 3ms/step - loss: 0.6931 - accuracy: 0.3782\n",
      "Epoch 50/100\n",
      "33/33 [==============================] - 0s 3ms/step - loss: 0.6931 - accuracy: 0.3782\n",
      "Epoch 51/100\n",
      "33/33 [==============================] - 0s 3ms/step - loss: 0.6931 - accuracy: 0.3782\n",
      "Epoch 52/100\n",
      "33/33 [==============================] - 0s 3ms/step - loss: 0.6931 - accuracy: 0.3782\n",
      "Epoch 53/100\n",
      "33/33 [==============================] - 0s 3ms/step - loss: 0.6931 - accuracy: 0.3782\n",
      "Epoch 54/100\n",
      "33/33 [==============================] - 0s 3ms/step - loss: 0.6931 - accuracy: 0.3782\n",
      "Epoch 55/100\n",
      "33/33 [==============================] - 0s 3ms/step - loss: 0.6931 - accuracy: 0.3782\n",
      "Epoch 56/100\n",
      "33/33 [==============================] - 0s 3ms/step - loss: 0.6931 - accuracy: 0.3782\n",
      "Epoch 57/100\n",
      "33/33 [==============================] - 0s 3ms/step - loss: 0.6931 - accuracy: 0.3782\n",
      "Epoch 58/100\n",
      "33/33 [==============================] - 0s 3ms/step - loss: 0.6931 - accuracy: 0.3782\n",
      "Epoch 59/100\n",
      "33/33 [==============================] - 0s 3ms/step - loss: 0.6931 - accuracy: 0.3782\n",
      "Epoch 60/100\n",
      "33/33 [==============================] - 0s 3ms/step - loss: 0.6931 - accuracy: 0.3782\n",
      "Epoch 61/100\n",
      "33/33 [==============================] - 0s 3ms/step - loss: 0.6931 - accuracy: 0.3782\n",
      "Epoch 62/100\n",
      "33/33 [==============================] - 0s 3ms/step - loss: 0.6931 - accuracy: 0.3782\n",
      "Epoch 63/100\n",
      "33/33 [==============================] - 0s 3ms/step - loss: 0.6931 - accuracy: 0.3782\n",
      "Epoch 64/100\n",
      "33/33 [==============================] - 0s 3ms/step - loss: 0.6931 - accuracy: 0.3782\n",
      "Epoch 65/100\n",
      "33/33 [==============================] - 0s 3ms/step - loss: 0.6931 - accuracy: 0.3782\n",
      "Epoch 66/100\n",
      "33/33 [==============================] - 0s 3ms/step - loss: 0.6931 - accuracy: 0.3782\n",
      "Epoch 67/100\n",
      "33/33 [==============================] - 0s 3ms/step - loss: 0.6931 - accuracy: 0.3782\n",
      "Epoch 68/100\n",
      "33/33 [==============================] - 0s 3ms/step - loss: 0.6931 - accuracy: 0.3782\n",
      "Epoch 69/100\n",
      "33/33 [==============================] - 0s 3ms/step - loss: 0.6931 - accuracy: 0.3782\n",
      "Epoch 70/100\n",
      "33/33 [==============================] - 0s 3ms/step - loss: 0.6931 - accuracy: 0.3782\n",
      "Epoch 71/100\n",
      "33/33 [==============================] - 0s 3ms/step - loss: 0.6931 - accuracy: 0.3782\n",
      "Epoch 72/100\n",
      "33/33 [==============================] - 0s 3ms/step - loss: 0.6931 - accuracy: 0.3782\n",
      "Epoch 73/100\n",
      "33/33 [==============================] - 0s 3ms/step - loss: 0.6931 - accuracy: 0.3782\n",
      "Epoch 74/100\n",
      "33/33 [==============================] - 0s 3ms/step - loss: 0.6931 - accuracy: 0.3782\n",
      "Epoch 75/100\n",
      "33/33 [==============================] - 0s 3ms/step - loss: 0.6931 - accuracy: 0.3782\n",
      "Epoch 76/100\n",
      "33/33 [==============================] - 0s 3ms/step - loss: 0.6931 - accuracy: 0.3782\n",
      "Epoch 77/100\n",
      "33/33 [==============================] - 0s 3ms/step - loss: 0.6931 - accuracy: 0.3782\n",
      "Epoch 78/100\n",
      "33/33 [==============================] - 0s 3ms/step - loss: 0.6931 - accuracy: 0.3782\n",
      "Epoch 79/100\n",
      "33/33 [==============================] - 0s 3ms/step - loss: 0.6931 - accuracy: 0.3782\n",
      "Epoch 80/100\n",
      "33/33 [==============================] - 0s 3ms/step - loss: 0.6931 - accuracy: 0.3782\n",
      "Epoch 81/100\n",
      "33/33 [==============================] - 0s 3ms/step - loss: 0.6931 - accuracy: 0.3782\n",
      "Epoch 82/100\n",
      "33/33 [==============================] - 0s 3ms/step - loss: 0.6931 - accuracy: 0.3782\n",
      "Epoch 83/100\n"
     ]
    },
    {
     "name": "stdout",
     "output_type": "stream",
     "text": [
      "33/33 [==============================] - 0s 3ms/step - loss: 0.6931 - accuracy: 0.3782\n",
      "Epoch 84/100\n",
      "33/33 [==============================] - 0s 3ms/step - loss: 0.6931 - accuracy: 0.3782\n",
      "Epoch 85/100\n",
      "33/33 [==============================] - 0s 3ms/step - loss: 0.6931 - accuracy: 0.3782\n",
      "Epoch 86/100\n",
      "33/33 [==============================] - 0s 3ms/step - loss: 0.6931 - accuracy: 0.3782\n",
      "Epoch 87/100\n",
      "33/33 [==============================] - 0s 3ms/step - loss: 0.6931 - accuracy: 0.3782\n",
      "Epoch 88/100\n",
      "33/33 [==============================] - 0s 3ms/step - loss: 0.6931 - accuracy: 0.3782\n",
      "Epoch 89/100\n",
      "33/33 [==============================] - 0s 3ms/step - loss: 0.6931 - accuracy: 0.3782\n",
      "Epoch 90/100\n",
      "33/33 [==============================] - 0s 3ms/step - loss: 0.6931 - accuracy: 0.3782\n",
      "Epoch 91/100\n",
      "33/33 [==============================] - 0s 3ms/step - loss: 0.6931 - accuracy: 0.3782\n",
      "Epoch 92/100\n",
      "33/33 [==============================] - 0s 3ms/step - loss: 0.6931 - accuracy: 0.3782\n",
      "Epoch 93/100\n",
      "33/33 [==============================] - 0s 3ms/step - loss: 0.6931 - accuracy: 0.3782\n",
      "Epoch 94/100\n",
      "33/33 [==============================] - 0s 3ms/step - loss: 0.6931 - accuracy: 0.3782\n",
      "Epoch 95/100\n",
      "33/33 [==============================] - 0s 3ms/step - loss: 0.6931 - accuracy: 0.3782\n",
      "Epoch 96/100\n",
      "33/33 [==============================] - 0s 3ms/step - loss: 0.6931 - accuracy: 0.3782\n",
      "Epoch 97/100\n",
      "33/33 [==============================] - 0s 3ms/step - loss: 0.6931 - accuracy: 0.3782\n",
      "Epoch 98/100\n",
      "17/33 [==============>...............] - ETA: 0s - loss: 0.6931 - accuracy: 0.3713"
     ]
    }
   ],
   "source": [
    "model.fit(X_train_t, y_train_t, epochs = 100, batch_size = 32)"
   ]
  },
  {
   "cell_type": "code",
   "execution_count": null,
   "id": "b18c5ec9",
   "metadata": {},
   "outputs": [],
   "source": []
  },
  {
   "cell_type": "code",
   "execution_count": 62,
   "id": "e197535d",
   "metadata": {},
   "outputs": [],
   "source": [
    "y_pred = model.predict(X_test)"
   ]
  },
  {
   "cell_type": "code",
   "execution_count": 63,
   "id": "5b91ff0e",
   "metadata": {},
   "outputs": [
    {
     "data": {
      "text/plain": [
       "array([[-52.18572  , -13.565932 ],\n",
       "       [-46.875416 , -12.392427 ],\n",
       "       [-53.24081  , -13.94749  ],\n",
       "       ...,\n",
       "       [-39.282932 , -10.160452 ],\n",
       "       [-19.6653   ,  -5.0640345],\n",
       "       [-43.124863 , -11.271008 ]], dtype=float32)"
      ]
     },
     "execution_count": 63,
     "metadata": {},
     "output_type": "execute_result"
    }
   ],
   "source": [
    "y_pred"
   ]
  },
  {
   "cell_type": "code",
   "execution_count": 64,
   "id": "80af45d2",
   "metadata": {},
   "outputs": [
    {
     "data": {
      "text/plain": [
       "array([[1],\n",
       "       [1],\n",
       "       [1],\n",
       "       ...,\n",
       "       [1],\n",
       "       [1],\n",
       "       [1]], dtype=int64)"
      ]
     },
     "execution_count": 64,
     "metadata": {},
     "output_type": "execute_result"
    }
   ],
   "source": [
    "guess = np.argmax(y_pred, axis = 1)\n",
    "guess = guess.reshape((len(y_test)), 1)\n",
    "guess"
   ]
  },
  {
   "cell_type": "code",
   "execution_count": null,
   "id": "3ef78c74",
   "metadata": {},
   "outputs": [],
   "source": []
  },
  {
   "cell_type": "code",
   "execution_count": 65,
   "id": "a9685f56",
   "metadata": {
    "scrolled": false
   },
   "outputs": [
    {
     "data": {
      "text/plain": [
       "array([[1],\n",
       "       [1],\n",
       "       [1],\n",
       "       ...,\n",
       "       [1],\n",
       "       [0],\n",
       "       [1]], dtype=uint8)"
      ]
     },
     "execution_count": 65,
     "metadata": {},
     "output_type": "execute_result"
    }
   ],
   "source": [
    "y_test"
   ]
  },
  {
   "cell_type": "code",
   "execution_count": null,
   "id": "42182842",
   "metadata": {},
   "outputs": [],
   "source": []
  },
  {
   "cell_type": "code",
   "execution_count": 66,
   "id": "e9a5ff81",
   "metadata": {},
   "outputs": [],
   "source": [
    "results = confusion_matrix(y_test, guess)"
   ]
  },
  {
   "cell_type": "code",
   "execution_count": 67,
   "id": "4b30e4f5",
   "metadata": {},
   "outputs": [
    {
     "data": {
      "text/plain": [
       "array([[   0, 1532],\n",
       "       [   0, 2625]], dtype=int64)"
      ]
     },
     "execution_count": 67,
     "metadata": {},
     "output_type": "execute_result"
    }
   ],
   "source": [
    "results"
   ]
  },
  {
   "attachments": {
    "Screen%20Shot%202022-01-09%20at%206.49.09%20PM.png": {
     "image/png": "[encoded data removed]"
    }
   },
   "cell_type": "markdown",
   "id": "5749fbe5",
   "metadata": {},
   "source": [
    "![Screen%20Shot%202022-01-09%20at%206.49.09%20PM.png](attachment:Screen%20Shot%202022-01-09%20at%206.49.09%20PM.png)"
   ]
  },
  {
   "cell_type": "code",
   "execution_count": 86,
   "id": "73df07eb",
   "metadata": {},
   "outputs": [
    {
     "data": {
      "text/plain": [
       "'        \\n    \\n    \\n                            Actual Values\\n                            0     1\\n            \\n                        0  1530.  2. \\n                \\npredicted values        1  7.     2618.  \\n\\n\\n\\n\\n'"
      ]
     },
     "execution_count": 86,
     "metadata": {},
     "output_type": "execute_result"
    }
   ],
   "source": [
    "'''        \n",
    "    \n",
    "    \n",
    "                            Actual Values\n",
    "                            0     1\n",
    "            \n",
    "                        0  1530.  2. \n",
    "                \n",
    "predicted values        1  7.     2618.  \n",
    "\n",
    "\n",
    "\n",
    "\n",
    "'''\n"
   ]
  },
  {
   "cell_type": "code",
   "execution_count": null,
   "id": "04052bbf",
   "metadata": {},
   "outputs": [],
   "source": []
  },
  {
   "cell_type": "code",
   "execution_count": 87,
   "id": "d417e739",
   "metadata": {
    "scrolled": true
   },
   "outputs": [
    {
     "name": "stdout",
     "output_type": "stream",
     "text": [
      "              precision    recall  f1-score   support\n",
      "\n",
      "           0       1.00      1.00      1.00      1532\n",
      "           1       1.00      1.00      1.00      2625\n",
      "\n",
      "    accuracy                           1.00      4157\n",
      "   macro avg       1.00      1.00      1.00      4157\n",
      "weighted avg       1.00      1.00      1.00      4157\n",
      "\n"
     ]
    }
   ],
   "source": [
    "print(classification_report(y_test, guess))"
   ]
  },
  {
   "cell_type": "code",
   "execution_count": null,
   "id": "d9e8b25c",
   "metadata": {},
   "outputs": [],
   "source": []
  },
  {
   "cell_type": "code",
   "execution_count": 88,
   "id": "eeb10327",
   "metadata": {},
   "outputs": [
    {
     "data": {
      "text/plain": [
       "array([[1, 1],\n",
       "       [1, 1],\n",
       "       [1, 1],\n",
       "       ...,\n",
       "       [1, 1],\n",
       "       [0, 0],\n",
       "       [1, 1]])"
      ]
     },
     "execution_count": 88,
     "metadata": {},
     "output_type": "execute_result"
    }
   ],
   "source": [
    "combined = np.concatenate((y_test, guess), axis = 1)\n",
    "combined"
   ]
  },
  {
   "cell_type": "code",
   "execution_count": null,
   "id": "c133a2d5",
   "metadata": {},
   "outputs": [],
   "source": []
  },
  {
   "cell_type": "markdown",
   "id": "99514c67",
   "metadata": {},
   "source": [
    "### Autoencoder way"
   ]
  },
  {
   "cell_type": "code",
   "execution_count": 35,
   "id": "86af4caf",
   "metadata": {},
   "outputs": [],
   "source": []
  },
  {
   "cell_type": "code",
   "execution_count": null,
   "id": "780d27f6",
   "metadata": {},
   "outputs": [],
   "source": []
  }
 ],
 "metadata": {
  "kernelspec": {
   "display_name": "Python 3 (ipykernel)",
   "language": "python",
   "name": "python3"
  },
  "language_info": {
   "codemirror_mode": {
    "name": "ipython",
    "version": 3
   },
   "file_extension": ".py",
   "mimetype": "text/x-python",
   "name": "python",
   "nbconvert_exporter": "python",
   "pygments_lexer": "ipython3",
   "version": "3.9.7"
  }
 },
 "nbformat": 4,
 "nbformat_minor": 5
}
