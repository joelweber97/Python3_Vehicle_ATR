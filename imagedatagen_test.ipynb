{
 "cells": [
  {
   "cell_type": "code",
   "execution_count": 6,
   "id": "fb249cee",
   "metadata": {},
   "outputs": [],
   "source": [
    "import PIL"
   ]
  },
  {
   "cell_type": "code",
   "execution_count": 7,
   "id": "8a93f220",
   "metadata": {},
   "outputs": [],
   "source": [
    "import pandas as pd"
   ]
  },
  {
   "cell_type": "code",
   "execution_count": 9,
   "id": "345a0ec7",
   "metadata": {},
   "outputs": [],
   "source": [
    "#import cv2\n",
    "import numpy as np\n",
    "import glob\n",
    "import tensorflow as tf\n",
    "import tensorflow\n",
    "from tensorflow.keras import datasets, layers, models\n",
    "\n",
    "from tensorflow.keras.models import Sequential\n",
    "from tensorflow.keras.layers import Dense, Dropout, Conv2D, MaxPool2D, Flatten\n",
    "#from tensorflow.keras.utils import np_utils\n",
    "from tensorflow.keras import utils\n",
    "from sklearn.model_selection import train_test_split\n",
    "from sklearn.metrics import confusion_matrix, classification_report"
   ]
  },
  {
   "cell_type": "code",
   "execution_count": 10,
   "id": "3a7f05f7",
   "metadata": {},
   "outputs": [],
   "source": [
    "from tensorflow.keras.preprocessing.image import ImageDataGenerator, array_to_img, img_to_array"
   ]
  },
  {
   "cell_type": "code",
   "execution_count": 11,
   "id": "efdaee86",
   "metadata": {},
   "outputs": [],
   "source": [
    "# ImageDataGenerator\n",
    "datagen = ImageDataGenerator(\n",
    "        rotation_range=10, # rotation\n",
    "        width_shift_range=0.2, # horizontal shift\n",
    "        height_shift_range=0.2, # vertical shift\n",
    "        zoom_range=0.2, # zoom\n",
    "        horizontal_flip=True, # horizontal flip\n",
    "        brightness_range=[0.2,1.2]) # brightness"
   ]
  },
  {
   "cell_type": "code",
   "execution_count": 19,
   "id": "1511e750",
   "metadata": {},
   "outputs": [],
   "source": [
    "from tensorflow.keras.models import Sequential\n",
    "from tensorflow.keras.layers import Dropout, Flatten, Dense, Conv2D, MaxPooling2D, BatchNormalization\n",
    "from tensorflow.keras.optimizers import SGD\n",
    "import tensorflow.keras\n",
    "from sklearn.model_selection import train_test_split\n",
    "import cv2"
   ]
  },
  {
   "cell_type": "code",
   "execution_count": 13,
   "id": "384cbf3a",
   "metadata": {},
   "outputs": [],
   "source": [
    "import pandas as pd"
   ]
  },
  {
   "cell_type": "code",
   "execution_count": 14,
   "id": "4ebe0574",
   "metadata": {},
   "outputs": [],
   "source": [
    "df = pd.read_csv(\"./imagedatagen_test_images/emergency_train.csv\")"
   ]
  },
  {
   "cell_type": "code",
   "execution_count": 50,
   "id": "b0b2388d",
   "metadata": {},
   "outputs": [
    {
     "data": {
      "text/html": [
       "<div>\n",
       "<style scoped>\n",
       "    .dataframe tbody tr th:only-of-type {\n",
       "        vertical-align: middle;\n",
       "    }\n",
       "\n",
       "    .dataframe tbody tr th {\n",
       "        vertical-align: top;\n",
       "    }\n",
       "\n",
       "    .dataframe thead th {\n",
       "        text-align: right;\n",
       "    }\n",
       "</style>\n",
       "<table border=\"1\" class=\"dataframe\">\n",
       "  <thead>\n",
       "    <tr style=\"text-align: right;\">\n",
       "      <th></th>\n",
       "      <th>image_names</th>\n",
       "      <th>emergency_or_not</th>\n",
       "    </tr>\n",
       "  </thead>\n",
       "  <tbody>\n",
       "    <tr>\n",
       "      <th>0</th>\n",
       "      <td>1503.jpg</td>\n",
       "      <td>0</td>\n",
       "    </tr>\n",
       "    <tr>\n",
       "      <th>1</th>\n",
       "      <td>1420.jpg</td>\n",
       "      <td>0</td>\n",
       "    </tr>\n",
       "    <tr>\n",
       "      <th>2</th>\n",
       "      <td>1764.jpg</td>\n",
       "      <td>0</td>\n",
       "    </tr>\n",
       "    <tr>\n",
       "      <th>3</th>\n",
       "      <td>1356.jpg</td>\n",
       "      <td>0</td>\n",
       "    </tr>\n",
       "    <tr>\n",
       "      <th>4</th>\n",
       "      <td>1117.jpg</td>\n",
       "      <td>0</td>\n",
       "    </tr>\n",
       "  </tbody>\n",
       "</table>\n",
       "</div>"
      ],
      "text/plain": [
       "  image_names  emergency_or_not\n",
       "0    1503.jpg                 0\n",
       "1    1420.jpg                 0\n",
       "2    1764.jpg                 0\n",
       "3    1356.jpg                 0\n",
       "4    1117.jpg                 0"
      ]
     },
     "execution_count": 50,
     "metadata": {},
     "output_type": "execute_result"
    }
   ],
   "source": [
    "df.head()"
   ]
  },
  {
   "cell_type": "code",
   "execution_count": 15,
   "id": "bbea4ff2",
   "metadata": {},
   "outputs": [],
   "source": [
    "# Split data into train-test data sets\n",
    "\n",
    "X = df.loc[:,'image_names']\n",
    "y = df.loc[:,'emergency_or_not']\n",
    "\n",
    "# Split\n",
    "train_x, val_x, train_y, val_y = train_test_split(X, y, \n",
    "                                                  test_size = 0.1, \n",
    "                                                  random_state = 27, \n",
    "                                                  stratify=y)\n",
    "\n",
    "# Train df\n",
    "df_train = pd.DataFrame(columns=['image_name','category'])\n",
    "df_train['image_name'] = train_x\n",
    "df_train['category'] = train_y\n",
    "\n",
    "# Test df\n",
    "df_test= pd.DataFrame(columns=['image_name','category'])\n",
    "df_test['image_name'] = val_x\n",
    "df_test['category'] = val_y\n",
    "\n",
    "df_train.reset_index(drop=True, inplace=True)\n",
    "df_test.reset_index(drop=True, inplace=True)"
   ]
  },
  {
   "cell_type": "code",
   "execution_count": 17,
   "id": "9029a829",
   "metadata": {},
   "outputs": [],
   "source": [
    "home_path = './imagedatagen_test_images/'"
   ]
  },
  {
   "cell_type": "code",
   "execution_count": 22,
   "id": "1be9dff1",
   "metadata": {},
   "outputs": [],
   "source": [
    "# Images\n",
    "train_images = df_train.loc[:,'image_name']\n",
    "train_labels = df_train.loc[:,'category']\n",
    "\n",
    "test_images = df_test.loc[:,'image_name']\n",
    "test_labels = df_test.loc[:,'category']\n",
    "\n",
    "# Train images\n",
    "x_train = []\n",
    "for i in train_images:\n",
    "    image = home_path+'/images/'+i\n",
    "    img = cv2.imread(image)\n",
    "    x_train.append(img)\n",
    "\n",
    "# Train labels\n",
    "y_train=tf.keras.utils.to_categorical(train_labels)\n",
    "\n",
    "# Test images\n",
    "x_test = []\n",
    "for i in test_images:\n",
    "    image = home_path+'/images/'+i\n",
    "    img = cv2.imread(image)\n",
    "    x_test.append(img)\n",
    "\n",
    "# Test labels\n",
    "y_test=tf.keras.utils.to_categorical(test_labels)\n",
    "\n",
    "# Normalize images\n",
    "x_train = np.array(x_train, dtype=\"float\") / 255.0\n",
    "x_test = np.array(x_test, dtype=\"float\") / 255.0"
   ]
  },
  {
   "cell_type": "code",
   "execution_count": 49,
   "id": "aee565b4",
   "metadata": {},
   "outputs": [
    {
     "data": {
      "text/plain": [
       "0       0\n",
       "1       0\n",
       "2       1\n",
       "3       1\n",
       "4       0\n",
       "       ..\n",
       "1476    0\n",
       "1477    0\n",
       "1478    0\n",
       "1479    0\n",
       "1480    1\n",
       "Name: category, Length: 1481, dtype: int64"
      ]
     },
     "execution_count": 49,
     "metadata": {},
     "output_type": "execute_result"
    }
   ],
   "source": [
    "train_labels"
   ]
  },
  {
   "cell_type": "code",
   "execution_count": 40,
   "id": "3eeb53c5",
   "metadata": {},
   "outputs": [
    {
     "data": {
      "text/plain": [
       "(1481, 224, 224, 3)"
      ]
     },
     "execution_count": 40,
     "metadata": {},
     "output_type": "execute_result"
    }
   ],
   "source": [
    "x_train.shape"
   ]
  },
  {
   "cell_type": "code",
   "execution_count": 41,
   "id": "4aba7188",
   "metadata": {},
   "outputs": [
    {
     "data": {
      "text/plain": [
       "(165, 224, 224, 3)"
      ]
     },
     "execution_count": 41,
     "metadata": {},
     "output_type": "execute_result"
    }
   ],
   "source": [
    "x_test.shape"
   ]
  },
  {
   "cell_type": "code",
   "execution_count": 42,
   "id": "655548a7",
   "metadata": {},
   "outputs": [
    {
     "data": {
      "text/plain": [
       "(1481, 2)"
      ]
     },
     "execution_count": 42,
     "metadata": {},
     "output_type": "execute_result"
    }
   ],
   "source": [
    "y_train.shape"
   ]
  },
  {
   "cell_type": "code",
   "execution_count": 43,
   "id": "584009c8",
   "metadata": {},
   "outputs": [
    {
     "data": {
      "text/plain": [
       "array([[1., 0.],\n",
       "       [1., 0.],\n",
       "       [0., 1.],\n",
       "       ...,\n",
       "       [1., 0.],\n",
       "       [1., 0.],\n",
       "       [0., 1.]], dtype=float32)"
      ]
     },
     "execution_count": 43,
     "metadata": {},
     "output_type": "execute_result"
    }
   ],
   "source": [
    "y_train"
   ]
  },
  {
   "cell_type": "code",
   "execution_count": 47,
   "id": "2119bdc4",
   "metadata": {},
   "outputs": [
    {
     "data": {
      "text/plain": [
       "((165, 2), dtype('float32'))"
      ]
     },
     "execution_count": 47,
     "metadata": {},
     "output_type": "execute_result"
    }
   ],
   "source": [
    "y_test.shape, y_test.dtype"
   ]
  },
  {
   "cell_type": "code",
   "execution_count": null,
   "id": "b092607f",
   "metadata": {},
   "outputs": [],
   "source": []
  },
  {
   "cell_type": "code",
   "execution_count": null,
   "id": "75eb5238",
   "metadata": {},
   "outputs": [],
   "source": []
  },
  {
   "cell_type": "code",
   "execution_count": 25,
   "id": "56c2f7f8",
   "metadata": {},
   "outputs": [
    {
     "name": "stdout",
     "output_type": "stream",
     "text": [
      "Model: \"sequential\"\n",
      "_________________________________________________________________\n",
      "Layer (type)                 Output Shape              Param #   \n",
      "=================================================================\n",
      "conv2d (Conv2D)              (None, 222, 222, 32)      896       \n",
      "_________________________________________________________________\n",
      "max_pooling2d (MaxPooling2D) (None, 111, 111, 32)      0         \n",
      "_________________________________________________________________\n",
      "conv2d_1 (Conv2D)            (None, 109, 109, 32)      9248      \n",
      "_________________________________________________________________\n",
      "max_pooling2d_1 (MaxPooling2 (None, 54, 54, 32)        0         \n",
      "_________________________________________________________________\n",
      "conv2d_2 (Conv2D)            (None, 52, 52, 64)        18496     \n",
      "_________________________________________________________________\n",
      "max_pooling2d_2 (MaxPooling2 (None, 26, 26, 64)        0         \n",
      "_________________________________________________________________\n",
      "flatten (Flatten)            (None, 43264)             0         \n",
      "_________________________________________________________________\n",
      "dense (Dense)                (None, 64)                2768960   \n",
      "_________________________________________________________________\n",
      "dropout (Dropout)            (None, 64)                0         \n",
      "_________________________________________________________________\n",
      "dense_1 (Dense)              (None, 2)                 130       \n",
      "=================================================================\n",
      "Total params: 2,797,730\n",
      "Trainable params: 2,797,730\n",
      "Non-trainable params: 0\n",
      "_________________________________________________________________\n"
     ]
    }
   ],
   "source": [
    "# Model architechture\n",
    "model = Sequential()\n",
    "\n",
    "model.add(Conv2D(32, (3, 3), input_shape=(224, 224, 3), activation='relu'))\n",
    "model.add(MaxPooling2D(pool_size=(2, 2)))\n",
    "\n",
    "model.add(Conv2D(32, (3, 3), activation='relu'))\n",
    "model.add(MaxPooling2D(pool_size=(2, 2)))\n",
    "\n",
    "model.add(Conv2D(64, (3, 3), activation='relu'))\n",
    "model.add(MaxPooling2D(pool_size=(2, 2)))\n",
    "\n",
    "model.add(Flatten())\n",
    "model.add(Dense(64, activation='relu'))\n",
    "model.add(Dropout(0.24))\n",
    "model.add(Dense(2,activation='softmax'))\n",
    "\n",
    "model.summary()"
   ]
  },
  {
   "cell_type": "code",
   "execution_count": 26,
   "id": "fcfab301",
   "metadata": {},
   "outputs": [
    {
     "name": "stdout",
     "output_type": "stream",
     "text": [
      "Epoch 1/25\n",
      "47/47 [==============================] - 20s 420ms/step - loss: 0.6717 - accuracy: 0.5935 - val_loss: 0.6779 - val_accuracy: 0.6061\n",
      "Epoch 2/25\n",
      "47/47 [==============================] - 19s 412ms/step - loss: 0.6522 - accuracy: 0.6232 - val_loss: 0.6495 - val_accuracy: 0.6061\n",
      "Epoch 3/25\n",
      "47/47 [==============================] - 20s 421ms/step - loss: 0.6214 - accuracy: 0.6631 - val_loss: 0.6260 - val_accuracy: 0.7030\n",
      "Epoch 4/25\n",
      "47/47 [==============================] - 19s 413ms/step - loss: 0.6001 - accuracy: 0.6921 - val_loss: 0.6136 - val_accuracy: 0.6485\n",
      "Epoch 5/25\n",
      "47/47 [==============================] - 20s 417ms/step - loss: 0.5772 - accuracy: 0.7265 - val_loss: 0.5998 - val_accuracy: 0.7152\n",
      "Epoch 6/25\n",
      "47/47 [==============================] - 20s 434ms/step - loss: 0.5578 - accuracy: 0.7522 - val_loss: 0.5694 - val_accuracy: 0.7030\n",
      "Epoch 7/25\n",
      "47/47 [==============================] - 21s 441ms/step - loss: 0.5351 - accuracy: 0.7549 - val_loss: 0.5488 - val_accuracy: 0.7030\n",
      "Epoch 8/25\n",
      "47/47 [==============================] - 21s 441ms/step - loss: 0.5217 - accuracy: 0.7529 - val_loss: 0.5334 - val_accuracy: 0.7455\n",
      "Epoch 9/25\n",
      "47/47 [==============================] - 21s 442ms/step - loss: 0.4989 - accuracy: 0.7826 - val_loss: 0.5350 - val_accuracy: 0.7091\n",
      "Epoch 10/25\n",
      "47/47 [==============================] - 21s 438ms/step - loss: 0.4898 - accuracy: 0.7893 - val_loss: 0.5095 - val_accuracy: 0.7636\n",
      "Epoch 11/25\n",
      "47/47 [==============================] - 21s 451ms/step - loss: 0.4764 - accuracy: 0.7860 - val_loss: 0.5095 - val_accuracy: 0.7333\n",
      "Epoch 12/25\n",
      "47/47 [==============================] - 21s 449ms/step - loss: 0.4642 - accuracy: 0.8008 - val_loss: 0.4908 - val_accuracy: 0.7636\n",
      "Epoch 13/25\n",
      "47/47 [==============================] - 21s 452ms/step - loss: 0.4564 - accuracy: 0.8042 - val_loss: 0.5341 - val_accuracy: 0.7333\n",
      "Epoch 14/25\n",
      "47/47 [==============================] - 21s 440ms/step - loss: 0.4529 - accuracy: 0.8008 - val_loss: 0.4873 - val_accuracy: 0.7636\n",
      "Epoch 15/25\n",
      "47/47 [==============================] - 21s 439ms/step - loss: 0.4452 - accuracy: 0.7988 - val_loss: 0.4766 - val_accuracy: 0.7636\n",
      "Epoch 16/25\n",
      "47/47 [==============================] - 20s 429ms/step - loss: 0.4320 - accuracy: 0.8197 - val_loss: 0.4886 - val_accuracy: 0.7758\n",
      "Epoch 17/25\n",
      "47/47 [==============================] - 20s 425ms/step - loss: 0.4325 - accuracy: 0.8130 - val_loss: 0.4656 - val_accuracy: 0.7576\n",
      "Epoch 18/25\n",
      "47/47 [==============================] - 20s 426ms/step - loss: 0.4205 - accuracy: 0.8136 - val_loss: 0.4631 - val_accuracy: 0.7636\n",
      "Epoch 19/25\n",
      "47/47 [==============================] - 20s 415ms/step - loss: 0.4143 - accuracy: 0.8258 - val_loss: 0.4582 - val_accuracy: 0.7758\n",
      "Epoch 20/25\n",
      "47/47 [==============================] - 20s 429ms/step - loss: 0.4180 - accuracy: 0.8136 - val_loss: 0.4746 - val_accuracy: 0.7939\n",
      "Epoch 21/25\n",
      "47/47 [==============================] - 20s 436ms/step - loss: 0.4096 - accuracy: 0.8231 - val_loss: 0.4494 - val_accuracy: 0.7939\n",
      "Epoch 22/25\n",
      "47/47 [==============================] - 21s 439ms/step - loss: 0.4022 - accuracy: 0.8211 - val_loss: 0.4470 - val_accuracy: 0.7939\n",
      "Epoch 23/25\n",
      "47/47 [==============================] - 21s 444ms/step - loss: 0.3990 - accuracy: 0.8224 - val_loss: 0.4560 - val_accuracy: 0.7758\n",
      "Epoch 24/25\n",
      "47/47 [==============================] - 21s 440ms/step - loss: 0.3992 - accuracy: 0.8271 - val_loss: 0.4486 - val_accuracy: 0.7879\n",
      "Epoch 25/25\n",
      "47/47 [==============================] - 21s 437ms/step - loss: 0.3944 - accuracy: 0.8150 - val_loss: 0.4440 - val_accuracy: 0.8000\n"
     ]
    }
   ],
   "source": [
    "# Compile\n",
    "optim = tf.keras.optimizers.RMSprop(learning_rate=0.00001)\n",
    "model.compile(loss='categorical_crossentropy',\n",
    "              optimizer=optim,\n",
    "              metrics=['accuracy'])\n",
    "# Fit\n",
    "history = model.fit(x_train,y_train,\n",
    "                    epochs=25,\n",
    "                    validation_data=(x_test,y_test),\n",
    "                    batch_size=32,\n",
    "                    verbose=1)"
   ]
  },
  {
   "cell_type": "code",
   "execution_count": 29,
   "id": "9326ec01",
   "metadata": {},
   "outputs": [
    {
     "data": {
      "text/plain": [
       "dict_keys(['loss', 'accuracy', 'val_loss', 'val_accuracy'])"
      ]
     },
     "execution_count": 29,
     "metadata": {},
     "output_type": "execute_result"
    }
   ],
   "source": [
    "history.history.keys()"
   ]
  },
  {
   "cell_type": "code",
   "execution_count": 31,
   "id": "090885f6",
   "metadata": {},
   "outputs": [],
   "source": [
    "import matplotlib.pyplot as plt"
   ]
  },
  {
   "cell_type": "code",
   "execution_count": 32,
   "id": "11f41080",
   "metadata": {},
   "outputs": [
    {
     "data": {
      "image/png": "[encoded data removed]",
      "text/plain": [
       "<Figure size 432x288 with 1 Axes>"
      ]
     },
     "metadata": {
      "needs_background": "light"
     },
     "output_type": "display_data"
    }
   ],
   "source": [
    "plt.plot(history.history['loss'])\n",
    "plt.plot(history.history['accuracy'])\n",
    "plt.show()"
   ]
  },
  {
   "cell_type": "code",
   "execution_count": 33,
   "id": "5f93a344",
   "metadata": {},
   "outputs": [
    {
     "data": {
      "image/png": "[encoded data removed]",
      "text/plain": [
       "<Figure size 432x288 with 1 Axes>"
      ]
     },
     "metadata": {
      "needs_background": "light"
     },
     "output_type": "display_data"
    }
   ],
   "source": [
    "plt.plot(history.history['val_loss'])\n",
    "plt.plot(history.history['val_accuracy'])\n",
    "plt.show()"
   ]
  },
  {
   "cell_type": "code",
   "execution_count": null,
   "id": "b2a65c6b",
   "metadata": {},
   "outputs": [],
   "source": []
  },
  {
   "cell_type": "code",
   "execution_count": null,
   "id": "51a5f159",
   "metadata": {},
   "outputs": [],
   "source": []
  },
  {
   "cell_type": "code",
   "execution_count": null,
   "id": "7f66b562",
   "metadata": {},
   "outputs": [],
   "source": []
  },
  {
   "cell_type": "code",
   "execution_count": 34,
   "id": "c4f26a1a",
   "metadata": {},
   "outputs": [],
   "source": [
    "# Augmentation\n",
    "train_datagen = ImageDataGenerator(rotation_range=5,  # rotation\n",
    "                                   width_shift_range=0.2,  # horizontal shift\n",
    "                                   zoom_range=0.2,  # zoom\n",
    "                                   horizontal_flip=True,  # horizontal flip\n",
    "                                   brightness_range=[0.2,0.8])  # brightness"
   ]
  },
  {
   "cell_type": "code",
   "execution_count": 35,
   "id": "e4e5c4b9",
   "metadata": {},
   "outputs": [
    {
     "name": "stdout",
     "output_type": "stream",
     "text": [
      "Epoch 1/25\n",
      "46/46 [==============================] - 23s 493ms/step - loss: 16.7597 - accuracy: 0.7723 - val_loss: 0.4895 - val_accuracy: 0.7939\n",
      "Epoch 2/25\n",
      "46/46 [==============================] - 23s 499ms/step - loss: 6.3711 - accuracy: 0.7543 - val_loss: 0.5833 - val_accuracy: 0.8121\n",
      "Epoch 3/25\n",
      "46/46 [==============================] - 23s 499ms/step - loss: 2.8237 - accuracy: 0.7474 - val_loss: 0.6506 - val_accuracy: 0.7939\n",
      "Epoch 4/25\n",
      "46/46 [==============================] - 23s 498ms/step - loss: 0.8798 - accuracy: 0.7529 - val_loss: 0.6757 - val_accuracy: 0.7879\n",
      "Epoch 5/25\n",
      "46/46 [==============================] - 23s 498ms/step - loss: 0.5508 - accuracy: 0.7591 - val_loss: 0.6771 - val_accuracy: 0.7636\n",
      "Epoch 6/25\n",
      "46/46 [==============================] - 23s 498ms/step - loss: 0.5514 - accuracy: 0.7612 - val_loss: 0.6774 - val_accuracy: 0.7818\n",
      "Epoch 7/25\n",
      "46/46 [==============================] - 23s 498ms/step - loss: 0.5331 - accuracy: 0.7688 - val_loss: 0.6710 - val_accuracy: 0.7758\n",
      "Epoch 8/25\n",
      "46/46 [==============================] - 23s 499ms/step - loss: 0.5325 - accuracy: 0.7626 - val_loss: 0.6693 - val_accuracy: 0.8000\n",
      "Epoch 9/25\n",
      "46/46 [==============================] - 23s 496ms/step - loss: 0.5415 - accuracy: 0.7688 - val_loss: 0.6759 - val_accuracy: 0.8121\n",
      "Epoch 10/25\n",
      "46/46 [==============================] - 23s 498ms/step - loss: 0.5610 - accuracy: 0.7605 - val_loss: 0.6732 - val_accuracy: 0.7697\n",
      "Epoch 11/25\n",
      "46/46 [==============================] - 23s 496ms/step - loss: 0.5271 - accuracy: 0.7550 - val_loss: 0.6785 - val_accuracy: 0.7515\n",
      "Epoch 12/25\n",
      "46/46 [==============================] - 23s 503ms/step - loss: 0.5427 - accuracy: 0.7785 - val_loss: 0.6773 - val_accuracy: 0.7758\n",
      "Epoch 13/25\n",
      "46/46 [==============================] - 23s 492ms/step - loss: 0.5255 - accuracy: 0.7612 - val_loss: 0.6761 - val_accuracy: 0.7455\n",
      "Epoch 14/25\n",
      "46/46 [==============================] - 23s 501ms/step - loss: 0.5423 - accuracy: 0.7656 - val_loss: 0.6760 - val_accuracy: 0.7879\n",
      "Epoch 15/25\n",
      "46/46 [==============================] - 23s 497ms/step - loss: 0.5779 - accuracy: 0.7702 - val_loss: 0.6785 - val_accuracy: 0.7758\n",
      "Epoch 16/25\n",
      "46/46 [==============================] - 23s 495ms/step - loss: 0.5239 - accuracy: 0.7688 - val_loss: 0.6769 - val_accuracy: 0.7455\n",
      "Epoch 17/25\n",
      "46/46 [==============================] - 22s 487ms/step - loss: 0.5201 - accuracy: 0.7695 - val_loss: 0.6720 - val_accuracy: 0.7576\n",
      "Epoch 18/25\n",
      "46/46 [==============================] - 21s 466ms/step - loss: 0.5419 - accuracy: 0.7729 - val_loss: 0.6742 - val_accuracy: 0.7333\n",
      "Epoch 19/25\n",
      "46/46 [==============================] - 21s 465ms/step - loss: 0.5400 - accuracy: 0.7750 - val_loss: 0.6726 - val_accuracy: 0.7818\n",
      "Epoch 20/25\n",
      "46/46 [==============================] - 21s 467ms/step - loss: 0.5001 - accuracy: 0.7757 - val_loss: 0.6750 - val_accuracy: 0.7333\n",
      "Epoch 21/25\n",
      "46/46 [==============================] - 23s 491ms/step - loss: 0.5149 - accuracy: 0.7647 - val_loss: 0.6676 - val_accuracy: 0.7576\n",
      "Epoch 22/25\n",
      "46/46 [==============================] - 23s 491ms/step - loss: 0.4999 - accuracy: 0.7667 - val_loss: 0.6633 - val_accuracy: 0.7333\n",
      "Epoch 23/25\n",
      "46/46 [==============================] - 23s 501ms/step - loss: 0.5761 - accuracy: 0.7605 - val_loss: 0.6756 - val_accuracy: 0.6909\n",
      "Epoch 24/25\n",
      "46/46 [==============================] - 23s 498ms/step - loss: 0.5688 - accuracy: 0.7585 - val_loss: 0.6699 - val_accuracy: 0.7333\n",
      "Epoch 25/25\n",
      "46/46 [==============================] - 23s 494ms/step - loss: 0.5182 - accuracy: 0.7736 - val_loss: 0.6762 - val_accuracy: 0.7455\n"
     ]
    }
   ],
   "source": [
    "# Epochs\n",
    "epochs = 25\n",
    "# Batch size\n",
    "batch_size = 32\n",
    "\n",
    "history = model.fit(train_datagen.flow(x_train,y_train,\n",
    "                                       batch_size=batch_size, \n",
    "                                       seed=27,\n",
    "                                       shuffle=False),\n",
    "                    epochs=epochs,\n",
    "                    steps_per_epoch=x_train.shape[0] // batch_size,\n",
    "                    validation_data=(x_test,y_test),\n",
    "                    verbose=1)"
   ]
  },
  {
   "cell_type": "code",
   "execution_count": null,
   "id": "a7703845",
   "metadata": {},
   "outputs": [],
   "source": []
  },
  {
   "cell_type": "code",
   "execution_count": null,
   "id": "ed489f08",
   "metadata": {},
   "outputs": [],
   "source": []
  },
  {
   "cell_type": "code",
   "execution_count": null,
   "id": "f8d0e7a4",
   "metadata": {},
   "outputs": [],
   "source": []
  },
  {
   "cell_type": "code",
   "execution_count": 36,
   "id": "b8374fb6",
   "metadata": {},
   "outputs": [
    {
     "data": {
      "image/png": "[encoded data removed]",
      "text/plain": [
       "<Figure size 432x288 with 1 Axes>"
      ]
     },
     "metadata": {
      "needs_background": "light"
     },
     "output_type": "display_data"
    }
   ],
   "source": [
    "plt.plot(history.history['loss'])\n",
    "plt.plot(history.history['accuracy'])\n",
    "plt.show()"
   ]
  },
  {
   "cell_type": "code",
   "execution_count": 37,
   "id": "6eb5d4c2",
   "metadata": {},
   "outputs": [
    {
     "data": {
      "image/png": "[encoded data removed]",
      "text/plain": [
       "<Figure size 432x288 with 1 Axes>"
      ]
     },
     "metadata": {
      "needs_background": "light"
     },
     "output_type": "display_data"
    }
   ],
   "source": [
    "plt.plot(history.history['val_loss'])\n",
    "plt.plot(history.history['val_accuracy'])\n",
    "plt.show()"
   ]
  },
  {
   "cell_type": "code",
   "execution_count": null,
   "id": "4341d92e",
   "metadata": {},
   "outputs": [],
   "source": []
  },
  {
   "cell_type": "code",
   "execution_count": 38,
   "id": "60f34d2b",
   "metadata": {},
   "outputs": [
    {
     "ename": "NameError",
     "evalue": "name 'X_train' is not defined",
     "output_type": "error",
     "traceback": [
      "\u001b[1;31m---------------------------------------------------------------------------\u001b[0m",
      "\u001b[1;31mNameError\u001b[0m                                 Traceback (most recent call last)",
      "\u001b[1;32m~\\AppData\\Local\\Temp/ipykernel_14136/4239342174.py\u001b[0m in \u001b[0;36m<module>\u001b[1;34m\u001b[0m\n\u001b[1;32m----> 1\u001b[1;33m \u001b[0mX_train\u001b[0m\u001b[1;33m\u001b[0m\u001b[1;33m\u001b[0m\u001b[0m\n\u001b[0m",
      "\u001b[1;31mNameError\u001b[0m: name 'X_train' is not defined"
     ]
    }
   ],
   "source": [
    "X_train"
   ]
  },
  {
   "cell_type": "code",
   "execution_count": null,
   "id": "8aa9200f",
   "metadata": {},
   "outputs": [],
   "source": []
  },
  {
   "cell_type": "code",
   "execution_count": null,
   "id": "a889aaf0",
   "metadata": {},
   "outputs": [],
   "source": []
  }
 ],
 "metadata": {
  "kernelspec": {
   "display_name": "Python 3 (ipykernel)",
   "language": "python",
   "name": "python3"
  },
  "language_info": {
   "codemirror_mode": {
    "name": "ipython",
    "version": 3
   },
   "file_extension": ".py",
   "mimetype": "text/x-python",
   "name": "python",
   "nbconvert_exporter": "python",
   "pygments_lexer": "ipython3",
   "version": "3.8.12"
  }
 },
 "nbformat": 4,
 "nbformat_minor": 5
}
