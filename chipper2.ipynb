{
 "cells": [
  {
   "cell_type": "code",
   "execution_count": 1,
   "id": "b612631d",
   "metadata": {},
   "outputs": [],
   "source": [
    "import tensorflow as tf"
   ]
  },
  {
   "cell_type": "code",
   "execution_count": 2,
   "id": "d564e587",
   "metadata": {},
   "outputs": [],
   "source": [
    "import shapely\n",
    "import geopandas as gpd\n",
    "from shapely.geometry import box"
   ]
  },
  {
   "cell_type": "code",
   "execution_count": 19,
   "id": "8f8e8684",
   "metadata": {},
   "outputs": [],
   "source": [
    "from osgeo import gdal, ogr"
   ]
  },
  {
   "cell_type": "code",
   "execution_count": 10,
   "id": "54011e92",
   "metadata": {},
   "outputs": [],
   "source": [
    "shp = gpd.read_file('vehicle_polygons_test.shp')"
   ]
  },
  {
   "cell_type": "code",
   "execution_count": 11,
   "id": "13c3764c",
   "metadata": {},
   "outputs": [
    {
     "data": {
      "text/html": [
       "<div>\n",
       "<style scoped>\n",
       "    .dataframe tbody tr th:only-of-type {\n",
       "        vertical-align: middle;\n",
       "    }\n",
       "\n",
       "    .dataframe tbody tr th {\n",
       "        vertical-align: top;\n",
       "    }\n",
       "\n",
       "    .dataframe thead th {\n",
       "        text-align: right;\n",
       "    }\n",
       "</style>\n",
       "<table border=\"1\" class=\"dataframe\">\n",
       "  <thead>\n",
       "    <tr style=\"text-align: right;\">\n",
       "      <th></th>\n",
       "      <th>id</th>\n",
       "      <th>image_name</th>\n",
       "      <th>geometry</th>\n",
       "    </tr>\n",
       "  </thead>\n",
       "  <tbody>\n",
       "    <tr>\n",
       "      <th>0</th>\n",
       "      <td>None</td>\n",
       "      <td>top15-nc-cir-50cm-baylor_48023</td>\n",
       "      <td>POLYGON ((473093.269 3717380.149, 473093.269 3...</td>\n",
       "    </tr>\n",
       "    <tr>\n",
       "      <th>1</th>\n",
       "      <td>None</td>\n",
       "      <td>top15-nc-cir-50cm-baylor_48023</td>\n",
       "      <td>POLYGON ((472599.046 3717382.303, 472599.046 3...</td>\n",
       "    </tr>\n",
       "    <tr>\n",
       "      <th>2</th>\n",
       "      <td>None</td>\n",
       "      <td>top15-nc-cir-50cm-baylor_48023</td>\n",
       "      <td>POLYGON ((472667.489 3717383.251, 472667.489 3...</td>\n",
       "    </tr>\n",
       "    <tr>\n",
       "      <th>3</th>\n",
       "      <td>None</td>\n",
       "      <td>top15-nc-cir-50cm-baylor_48023</td>\n",
       "      <td>POLYGON ((471983.528 3717375.110, 471983.528 3...</td>\n",
       "    </tr>\n",
       "    <tr>\n",
       "      <th>4</th>\n",
       "      <td>None</td>\n",
       "      <td>top15-nc-cir-50cm-baylor_48023</td>\n",
       "      <td>POLYGON ((471827.128 3717378.297, 471827.128 3...</td>\n",
       "    </tr>\n",
       "  </tbody>\n",
       "</table>\n",
       "</div>"
      ],
      "text/plain": [
       "     id                      image_name  \\\n",
       "0  None  top15-nc-cir-50cm-baylor_48023   \n",
       "1  None  top15-nc-cir-50cm-baylor_48023   \n",
       "2  None  top15-nc-cir-50cm-baylor_48023   \n",
       "3  None  top15-nc-cir-50cm-baylor_48023   \n",
       "4  None  top15-nc-cir-50cm-baylor_48023   \n",
       "\n",
       "                                            geometry  \n",
       "0  POLYGON ((473093.269 3717380.149, 473093.269 3...  \n",
       "1  POLYGON ((472599.046 3717382.303, 472599.046 3...  \n",
       "2  POLYGON ((472667.489 3717383.251, 472667.489 3...  \n",
       "3  POLYGON ((471983.528 3717375.110, 471983.528 3...  \n",
       "4  POLYGON ((471827.128 3717378.297, 471827.128 3...  "
      ]
     },
     "execution_count": 11,
     "metadata": {},
     "output_type": "execute_result"
    }
   ],
   "source": [
    "shp.head()"
   ]
  },
  {
   "cell_type": "code",
   "execution_count": 20,
   "id": "b437a14f",
   "metadata": {},
   "outputs": [],
   "source": [
    "'''\n",
    "something like this might work as a way to read in the polygon shp and cycle through\n",
    "each feature. which will then use to crop the images and save them accordingly.\n",
    "\n",
    "shp2 = ogr.Open('vehicle_polygons_test.shp')\n",
    "\n",
    "os.chdir(r'C:\\Fcounty')\n",
    "ds = ogr.Open(\"PolygonFC.shp\")\n",
    "layer = ds.GetLayer(0)\n",
    "f = lyr.GetNextFeature()\n",
    "\n",
    "arrayOfMinsAndMaxs = [] \n",
    "\n",
    "while f:\n",
    "    geom = f.GetGeometryRef()\n",
    "    bbox = geom.GetEnvelope()  # returns envelope as (minX, minY, maxX, maxY)\n",
    "\n",
    "    # add the current poly FID, minX and maxX to a list of arrays\n",
    "    minX = bbox[0]\n",
    "    maxX = bbox[2]\n",
    "    arrayOfMinsAndMaxs.append([f.GetFID,minX,maxX])\n",
    "\n",
    "    f = lyr.GetNextFeature()\n",
    "    '''"
   ]
  },
  {
   "cell_type": "code",
   "execution_count": 8,
   "id": "bb3fc5a3",
   "metadata": {},
   "outputs": [
    {
     "data": {
      "text/plain": [
       "\"\\nthis cell might be necessary if there's a need to convert the specific points to polygons\\nbased on the 6m +- from the point. However, I think I will just implement a 6 m buffer\\naround each point directly in qgis meaning I will import a shp with a defined polygon \\nfor clipping already created.\\n\\nshp2 = gpd.read_file('vehicle_locations.shp')\\n\\n#create a geometry column consisting of the bounding box of +- 6 meters from each vehicle centroid.\\n#this boxes will be used to clip each of the rasters into smaller images to be used to train the cnn.\\nshp2['minx'] = shp2['xcoord'] - 6\\nshp2['maxx'] = shp2['xcoord'] + 6\\nshp2['miny'] = shp2['ycoord'] -6\\nshp2['maxy'] = shp2['ycoord'] + 6\\n\\nshp2['box'] = shp2.apply(lambda x: box(x['minx'], x['miny'], x['maxx'], x['maxy']), axis = 1)\\nprint(shp2.head())\\n\""
      ]
     },
     "execution_count": 8,
     "metadata": {},
     "output_type": "execute_result"
    }
   ],
   "source": [
    "'''\n",
    "this cell might be necessary if there's a need to convert the specific points to polygons\n",
    "based on the 6m +- from the point. However, I think I will just implement a 6 m buffer\n",
    "around each point directly in qgis meaning I will import a shp with a defined polygon \n",
    "for clipping already created.\n",
    "\n",
    "shp2 = gpd.read_file('vehicle_locations.shp')\n",
    "\n",
    "#create a geometry column consisting of the bounding box of +- 6 meters from each vehicle centroid.\n",
    "#this boxes will be used to clip each of the rasters into smaller images to be used to train the cnn.\n",
    "shp2['minx'] = shp2['xcoord'] - 6\n",
    "shp2['maxx'] = shp2['xcoord'] + 6\n",
    "shp2['miny'] = shp2['ycoord'] -6\n",
    "shp2['maxy'] = shp2['ycoord'] + 6\n",
    "\n",
    "shp2['box'] = shp2.apply(lambda x: box(x['minx'], x['miny'], x['maxx'], x['maxy']), axis = 1)\n",
    "print(shp2.head())\n",
    "'''"
   ]
  },
  {
   "cell_type": "code",
   "execution_count": 12,
   "id": "ac6dea9b",
   "metadata": {},
   "outputs": [],
   "source": [
    "ds = gdal.Open('G:/top_images/top15-50cm_48023_nc-cir/top15-nc-cir-50cm-baylor_48023.jp2')"
   ]
  },
  {
   "cell_type": "code",
   "execution_count": 14,
   "id": "1017a342",
   "metadata": {},
   "outputs": [],
   "source": [
    "gt = ds.GetGeoTransform()"
   ]
  },
  {
   "cell_type": "code",
   "execution_count": 15,
   "id": "7a53c0b8",
   "metadata": {},
   "outputs": [
    {
     "name": "stdout",
     "output_type": "stream",
     "text": [
      "(453330.0, 0.5, 0.0, 3748569.0, 0.0, -0.5)\n"
     ]
    }
   ],
   "source": [
    "print(gt)"
   ]
  },
  {
   "cell_type": "code",
   "execution_count": 18,
   "id": "d6331d18",
   "metadata": {},
   "outputs": [
    {
     "name": "stdout",
     "output_type": "stream",
     "text": [
      "105289\n"
     ]
    }
   ],
   "source": [
    "print(ds.RasterXSize)"
   ]
  },
  {
   "cell_type": "code",
   "execution_count": null,
   "id": "f056393d",
   "metadata": {},
   "outputs": [],
   "source": []
  }
 ],
 "metadata": {
  "kernelspec": {
   "display_name": "Python 3 (ipykernel)",
   "language": "python",
   "name": "python3"
  },
  "language_info": {
   "codemirror_mode": {
    "name": "ipython",
    "version": 3
   },
   "file_extension": ".py",
   "mimetype": "text/x-python",
   "name": "python",
   "nbconvert_exporter": "python",
   "pygments_lexer": "ipython3",
   "version": "3.8.0"
  }
 },
 "nbformat": 4,
 "nbformat_minor": 5
}
